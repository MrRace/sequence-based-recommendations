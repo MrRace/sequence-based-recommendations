{
 "cells": [
  {
   "cell_type": "markdown",
   "metadata": {},
   "source": [
    "# 0-背景\n",
    "\n",
    "用LSTM来做电影推荐系统"
   ]
  },
  {
   "cell_type": "code",
   "execution_count": 2,
   "metadata": {},
   "outputs": [
    {
     "name": "stderr",
     "output_type": "stream",
     "text": [
      "/data/dev_tool/Anaconda2-5/envs/python35/lib/python3.5/importlib/_bootstrap.py:222: RuntimeWarning: numpy.dtype size changed, may indicate binary incompatibility. Expected 96, got 88\n",
      "  return f(*args, **kwds)\n",
      "/data/dev_tool/Anaconda2-5/envs/python35/lib/python3.5/importlib/_bootstrap.py:222: RuntimeWarning: numpy.dtype size changed, may indicate binary incompatibility. Expected 96, got 88\n",
      "  return f(*args, **kwds)\n"
     ]
    }
   ],
   "source": [
    "import pandas as pd\n",
    "import numpy as np\n",
    "import matplotlib.pyplot as plt\n",
    "import warnings\n",
    "warnings.filterwarnings('ignore')\n",
    "\n",
    "%matplotlib inline"
   ]
  },
  {
   "cell_type": "code",
   "execution_count": 3,
   "metadata": {
    "collapsed": true
   },
   "outputs": [],
   "source": [
    "dataset = pd.read_csv(\"raw_data/ml-100k/u.data\",sep='\\t',names=\"user_id,item_id,rating,timestamp\".split(\",\"))"
   ]
  },
  {
   "cell_type": "code",
   "execution_count": 4,
   "metadata": {},
   "outputs": [
    {
     "data": {
      "text/html": [
       "<div>\n",
       "<style scoped>\n",
       "    .dataframe tbody tr th:only-of-type {\n",
       "        vertical-align: middle;\n",
       "    }\n",
       "\n",
       "    .dataframe tbody tr th {\n",
       "        vertical-align: top;\n",
       "    }\n",
       "\n",
       "    .dataframe thead th {\n",
       "        text-align: right;\n",
       "    }\n",
       "</style>\n",
       "<table border=\"1\" class=\"dataframe\">\n",
       "  <thead>\n",
       "    <tr style=\"text-align: right;\">\n",
       "      <th></th>\n",
       "      <th>user_id</th>\n",
       "      <th>item_id</th>\n",
       "      <th>rating</th>\n",
       "      <th>timestamp</th>\n",
       "    </tr>\n",
       "  </thead>\n",
       "  <tbody>\n",
       "    <tr>\n",
       "      <th>0</th>\n",
       "      <td>196</td>\n",
       "      <td>242</td>\n",
       "      <td>3</td>\n",
       "      <td>881250949</td>\n",
       "    </tr>\n",
       "    <tr>\n",
       "      <th>1</th>\n",
       "      <td>186</td>\n",
       "      <td>302</td>\n",
       "      <td>3</td>\n",
       "      <td>891717742</td>\n",
       "    </tr>\n",
       "    <tr>\n",
       "      <th>2</th>\n",
       "      <td>22</td>\n",
       "      <td>377</td>\n",
       "      <td>1</td>\n",
       "      <td>878887116</td>\n",
       "    </tr>\n",
       "    <tr>\n",
       "      <th>3</th>\n",
       "      <td>244</td>\n",
       "      <td>51</td>\n",
       "      <td>2</td>\n",
       "      <td>880606923</td>\n",
       "    </tr>\n",
       "    <tr>\n",
       "      <th>4</th>\n",
       "      <td>166</td>\n",
       "      <td>346</td>\n",
       "      <td>1</td>\n",
       "      <td>886397596</td>\n",
       "    </tr>\n",
       "  </tbody>\n",
       "</table>\n",
       "</div>"
      ],
      "text/plain": [
       "   user_id  item_id  rating  timestamp\n",
       "0      196      242       3  881250949\n",
       "1      186      302       3  891717742\n",
       "2       22      377       1  878887116\n",
       "3      244       51       2  880606923\n",
       "4      166      346       1  886397596"
      ]
     },
     "execution_count": 4,
     "metadata": {},
     "output_type": "execute_result"
    }
   ],
   "source": [
    "dataset.head()"
   ]
  },
  {
   "cell_type": "code",
   "execution_count": 5,
   "metadata": {},
   "outputs": [
    {
     "name": "stdout",
     "output_type": "stream",
     "text": [
      "943 1682\n"
     ]
    }
   ],
   "source": [
    "# 用户数和电影数\n",
    "print(len(dataset.user_id.unique()), len(dataset.item_id.unique()))\n",
    "dataset.user_id = dataset.user_id.astype('category').cat.codes.values\n",
    "dataset.item_id = dataset.item_id.astype('category').cat.codes.values"
   ]
  },
  {
   "cell_type": "code",
   "execution_count": 6,
   "metadata": {},
   "outputs": [
    {
     "data": {
      "text/html": [
       "<div>\n",
       "<style scoped>\n",
       "    .dataframe tbody tr th:only-of-type {\n",
       "        vertical-align: middle;\n",
       "    }\n",
       "\n",
       "    .dataframe tbody tr th {\n",
       "        vertical-align: top;\n",
       "    }\n",
       "\n",
       "    .dataframe thead th {\n",
       "        text-align: right;\n",
       "    }\n",
       "</style>\n",
       "<table border=\"1\" class=\"dataframe\">\n",
       "  <thead>\n",
       "    <tr style=\"text-align: right;\">\n",
       "      <th></th>\n",
       "      <th>user_id</th>\n",
       "      <th>item_id</th>\n",
       "      <th>rating</th>\n",
       "      <th>timestamp</th>\n",
       "    </tr>\n",
       "  </thead>\n",
       "  <tbody>\n",
       "    <tr>\n",
       "      <th>0</th>\n",
       "      <td>195</td>\n",
       "      <td>241</td>\n",
       "      <td>3</td>\n",
       "      <td>881250949</td>\n",
       "    </tr>\n",
       "    <tr>\n",
       "      <th>1</th>\n",
       "      <td>185</td>\n",
       "      <td>301</td>\n",
       "      <td>3</td>\n",
       "      <td>891717742</td>\n",
       "    </tr>\n",
       "    <tr>\n",
       "      <th>2</th>\n",
       "      <td>21</td>\n",
       "      <td>376</td>\n",
       "      <td>1</td>\n",
       "      <td>878887116</td>\n",
       "    </tr>\n",
       "    <tr>\n",
       "      <th>3</th>\n",
       "      <td>243</td>\n",
       "      <td>50</td>\n",
       "      <td>2</td>\n",
       "      <td>880606923</td>\n",
       "    </tr>\n",
       "    <tr>\n",
       "      <th>4</th>\n",
       "      <td>165</td>\n",
       "      <td>345</td>\n",
       "      <td>1</td>\n",
       "      <td>886397596</td>\n",
       "    </tr>\n",
       "  </tbody>\n",
       "</table>\n",
       "</div>"
      ],
      "text/plain": [
       "   user_id  item_id  rating  timestamp\n",
       "0      195      241       3  881250949\n",
       "1      185      301       3  891717742\n",
       "2       21      376       1  878887116\n",
       "3      243       50       2  880606923\n",
       "4      165      345       1  886397596"
      ]
     },
     "execution_count": 6,
     "metadata": {},
     "output_type": "execute_result"
    }
   ],
   "source": [
    "dataset.head()"
   ]
  },
  {
   "cell_type": "code",
   "execution_count": 7,
   "metadata": {
    "collapsed": true
   },
   "outputs": [],
   "source": [
    "# Train test split数据集划分。可以再分为训练集，校验集和测试集\n",
    "from sklearn.model_selection import train_test_split\n",
    "train, test = train_test_split(dataset, test_size=0.2)"
   ]
  },
  {
   "cell_type": "code",
   "execution_count": 8,
   "metadata": {},
   "outputs": [
    {
     "data": {
      "text/html": [
       "<div>\n",
       "<style scoped>\n",
       "    .dataframe tbody tr th:only-of-type {\n",
       "        vertical-align: middle;\n",
       "    }\n",
       "\n",
       "    .dataframe tbody tr th {\n",
       "        vertical-align: top;\n",
       "    }\n",
       "\n",
       "    .dataframe thead th {\n",
       "        text-align: right;\n",
       "    }\n",
       "</style>\n",
       "<table border=\"1\" class=\"dataframe\">\n",
       "  <thead>\n",
       "    <tr style=\"text-align: right;\">\n",
       "      <th></th>\n",
       "      <th>user_id</th>\n",
       "      <th>item_id</th>\n",
       "      <th>rating</th>\n",
       "      <th>timestamp</th>\n",
       "    </tr>\n",
       "  </thead>\n",
       "  <tbody>\n",
       "    <tr>\n",
       "      <th>46582</th>\n",
       "      <td>693</td>\n",
       "      <td>49</td>\n",
       "      <td>5</td>\n",
       "      <td>875730386</td>\n",
       "    </tr>\n",
       "    <tr>\n",
       "      <th>14016</th>\n",
       "      <td>398</td>\n",
       "      <td>174</td>\n",
       "      <td>3</td>\n",
       "      <td>882342669</td>\n",
       "    </tr>\n",
       "    <tr>\n",
       "      <th>65879</th>\n",
       "      <td>895</td>\n",
       "      <td>596</td>\n",
       "      <td>4</td>\n",
       "      <td>887159854</td>\n",
       "    </tr>\n",
       "    <tr>\n",
       "      <th>82536</th>\n",
       "      <td>801</td>\n",
       "      <td>216</td>\n",
       "      <td>3</td>\n",
       "      <td>875985767</td>\n",
       "    </tr>\n",
       "    <tr>\n",
       "      <th>39591</th>\n",
       "      <td>592</td>\n",
       "      <td>99</td>\n",
       "      <td>5</td>\n",
       "      <td>875658824</td>\n",
       "    </tr>\n",
       "  </tbody>\n",
       "</table>\n",
       "</div>"
      ],
      "text/plain": [
       "       user_id  item_id  rating  timestamp\n",
       "46582      693       49       5  875730386\n",
       "14016      398      174       3  882342669\n",
       "65879      895      596       4  887159854\n",
       "82536      801      216       3  875985767\n",
       "39591      592       99       5  875658824"
      ]
     },
     "execution_count": 8,
     "metadata": {},
     "output_type": "execute_result"
    }
   ],
   "source": [
    "train.head()"
   ]
  },
  {
   "cell_type": "code",
   "execution_count": 9,
   "metadata": {},
   "outputs": [
    {
     "data": {
      "text/html": [
       "<div>\n",
       "<style scoped>\n",
       "    .dataframe tbody tr th:only-of-type {\n",
       "        vertical-align: middle;\n",
       "    }\n",
       "\n",
       "    .dataframe tbody tr th {\n",
       "        vertical-align: top;\n",
       "    }\n",
       "\n",
       "    .dataframe thead th {\n",
       "        text-align: right;\n",
       "    }\n",
       "</style>\n",
       "<table border=\"1\" class=\"dataframe\">\n",
       "  <thead>\n",
       "    <tr style=\"text-align: right;\">\n",
       "      <th></th>\n",
       "      <th>user_id</th>\n",
       "      <th>item_id</th>\n",
       "      <th>rating</th>\n",
       "      <th>timestamp</th>\n",
       "    </tr>\n",
       "  </thead>\n",
       "  <tbody>\n",
       "    <tr>\n",
       "      <th>60588</th>\n",
       "      <td>698</td>\n",
       "      <td>128</td>\n",
       "      <td>4</td>\n",
       "      <td>878882667</td>\n",
       "    </tr>\n",
       "    <tr>\n",
       "      <th>96180</th>\n",
       "      <td>662</td>\n",
       "      <td>173</td>\n",
       "      <td>5</td>\n",
       "      <td>889493540</td>\n",
       "    </tr>\n",
       "    <tr>\n",
       "      <th>28442</th>\n",
       "      <td>453</td>\n",
       "      <td>489</td>\n",
       "      <td>2</td>\n",
       "      <td>888266754</td>\n",
       "    </tr>\n",
       "    <tr>\n",
       "      <th>98250</th>\n",
       "      <td>300</td>\n",
       "      <td>99</td>\n",
       "      <td>5</td>\n",
       "      <td>882074408</td>\n",
       "    </tr>\n",
       "    <tr>\n",
       "      <th>29718</th>\n",
       "      <td>188</td>\n",
       "      <td>96</td>\n",
       "      <td>4</td>\n",
       "      <td>893277579</td>\n",
       "    </tr>\n",
       "  </tbody>\n",
       "</table>\n",
       "</div>"
      ],
      "text/plain": [
       "       user_id  item_id  rating  timestamp\n",
       "60588      698      128       4  878882667\n",
       "96180      662      173       5  889493540\n",
       "28442      453      489       2  888266754\n",
       "98250      300       99       5  882074408\n",
       "29718      188       96       4  893277579"
      ]
     },
     "execution_count": 9,
     "metadata": {},
     "output_type": "execute_result"
    }
   ],
   "source": [
    "test.head()"
   ]
  },
  {
   "cell_type": "markdown",
   "metadata": {},
   "source": [
    "# 方法1：矩阵分解\n"
   ]
  },
  {
   "cell_type": "code",
   "execution_count": 10,
   "metadata": {},
   "outputs": [
    {
     "name": "stderr",
     "output_type": "stream",
     "text": [
      "Using TensorFlow backend.\n"
     ]
    }
   ],
   "source": [
    "import keras\n",
    "from IPython.display import SVG\n",
    "from keras.optimizers import Adam\n",
    "from keras.utils.vis_utils import model_to_dot\n",
    "n_users, n_movies = len(dataset.user_id.unique()), len(dataset.item_id.unique())\n",
    "n_latent_factors = 3"
   ]
  },
  {
   "cell_type": "markdown",
   "metadata": {},
   "source": [
    "为此，需要学习到一个嵌入矩阵以表示movies和users,再对两者进行`dot product`。在预测用户对电影的评分时，拿单个用户和对应的电影进行相乘即可。\n",
    "例如：当用户和电影的维度都是2维时候,用户嵌入矩阵每个维度表示含义：[该用户动作片喜欢程度，用户长电影的喜欢程度]，电影嵌入矩阵每个维度表示含义：\n",
    "[这部电影动作元素多少，这部电影时长多少]。这样用户u对于电影m的评分可以计算如下：\n",
    "$用户u喜欢动作片的程度×m电影动作片程度 + 用户u喜欢长电影程度 × m的时长$\n",
    "\n",
    "模型通过迭代优化，在训练集的用户-电影评分中获取最小均方误差。\n"
   ]
  },
  {
   "cell_type": "code",
   "execution_count": 11,
   "metadata": {
    "collapsed": true
   },
   "outputs": [],
   "source": [
    "movie_input = keras.layers.Input(shape=[1],name='Item')\n",
    "movie_embedding = keras.layers.Embedding(n_movies + 1, n_latent_factors, name='Movie-Embedding')(movie_input)\n",
    "movie_vec = keras.layers.Flatten(name='FlattenMovies')(movie_embedding)\n",
    "\n",
    "user_input = keras.layers.Input(shape=[1],name='User')\n",
    "user_vec = keras.layers.Flatten(name='FlattenUsers')(keras.layers.Embedding(n_users + 1, n_latent_factors,name='User-Embedding')(user_input))\n",
    "\n",
    "prod = keras.layers.merge([movie_vec, user_vec], mode='dot',name='DotProduct')\n",
    "model = keras.Model([user_input, movie_input], prod)\n",
    "model.compile('adam', 'mean_squared_error')"
   ]
  },
  {
   "cell_type": "code",
   "execution_count": 13,
   "metadata": {},
   "outputs": [
    {
     "data": {
      "image/svg+xml": [
       "<svg height=\"304pt\" viewBox=\"0.00 0.00 672.50 304.00\" width=\"673pt\" xmlns=\"http://www.w3.org/2000/svg\" xmlns:xlink=\"http://www.w3.org/1999/xlink\">\n",
       "<g class=\"graph\" id=\"graph0\" transform=\"scale(1 1) rotate(0) translate(4 300)\">\n",
       "<title>G</title>\n",
       "<polygon fill=\"white\" points=\"-4,4 -4,-300 668.5,-300 668.5,4 -4,4\" stroke=\"none\"/>\n",
       "<!-- 140507261858424 -->\n",
       "<g class=\"node\" id=\"node1\"><title>140507261858424</title>\n",
       "<polygon fill=\"none\" points=\"47.5,-249.5 47.5,-295.5 281.5,-295.5 281.5,-249.5 47.5,-249.5\" stroke=\"black\"/>\n",
       "<text font-family=\"Times,serif\" font-size=\"14.00\" text-anchor=\"middle\" x=\"102.5\" y=\"-268.8\">Item: InputLayer</text>\n",
       "<polyline fill=\"none\" points=\"157.5,-249.5 157.5,-295.5 \" stroke=\"black\"/>\n",
       "<text font-family=\"Times,serif\" font-size=\"14.00\" text-anchor=\"middle\" x=\"185\" y=\"-280.3\">input:</text>\n",
       "<polyline fill=\"none\" points=\"157.5,-272.5 212.5,-272.5 \" stroke=\"black\"/>\n",
       "<text font-family=\"Times,serif\" font-size=\"14.00\" text-anchor=\"middle\" x=\"185\" y=\"-257.3\">output:</text>\n",
       "<polyline fill=\"none\" points=\"212.5,-249.5 212.5,-295.5 \" stroke=\"black\"/>\n",
       "<text font-family=\"Times,serif\" font-size=\"14.00\" text-anchor=\"middle\" x=\"247\" y=\"-280.3\">(None, 1)</text>\n",
       "<polyline fill=\"none\" points=\"212.5,-272.5 281.5,-272.5 \" stroke=\"black\"/>\n",
       "<text font-family=\"Times,serif\" font-size=\"14.00\" text-anchor=\"middle\" x=\"247\" y=\"-257.3\">(None, 1)</text>\n",
       "</g>\n",
       "<!-- 140508451384344 -->\n",
       "<g class=\"node\" id=\"node3\"><title>140508451384344</title>\n",
       "<polygon fill=\"none\" points=\"-2.84217e-14,-166.5 -2.84217e-14,-212.5 329,-212.5 329,-166.5 -2.84217e-14,-166.5\" stroke=\"black\"/>\n",
       "<text font-family=\"Times,serif\" font-size=\"14.00\" text-anchor=\"middle\" x=\"95.5\" y=\"-185.8\">Movie-Embedding: Embedding</text>\n",
       "<polyline fill=\"none\" points=\"191,-166.5 191,-212.5 \" stroke=\"black\"/>\n",
       "<text font-family=\"Times,serif\" font-size=\"14.00\" text-anchor=\"middle\" x=\"218.5\" y=\"-197.3\">input:</text>\n",
       "<polyline fill=\"none\" points=\"191,-189.5 246,-189.5 \" stroke=\"black\"/>\n",
       "<text font-family=\"Times,serif\" font-size=\"14.00\" text-anchor=\"middle\" x=\"218.5\" y=\"-174.3\">output:</text>\n",
       "<polyline fill=\"none\" points=\"246,-166.5 246,-212.5 \" stroke=\"black\"/>\n",
       "<text font-family=\"Times,serif\" font-size=\"14.00\" text-anchor=\"middle\" x=\"287.5\" y=\"-197.3\">(None, 1)</text>\n",
       "<polyline fill=\"none\" points=\"246,-189.5 329,-189.5 \" stroke=\"black\"/>\n",
       "<text font-family=\"Times,serif\" font-size=\"14.00\" text-anchor=\"middle\" x=\"287.5\" y=\"-174.3\">(None, 1, 3)</text>\n",
       "</g>\n",
       "<!-- 140507261858424&#45;&gt;140508451384344 -->\n",
       "<g class=\"edge\" id=\"edge1\"><title>140507261858424-&gt;140508451384344</title>\n",
       "<path d=\"M164.5,-249.366C164.5,-241.152 164.5,-231.658 164.5,-222.725\" fill=\"none\" stroke=\"black\"/>\n",
       "<polygon fill=\"black\" points=\"168,-222.607 164.5,-212.607 161,-222.607 168,-222.607\" stroke=\"black\"/>\n",
       "</g>\n",
       "<!-- 140507261859376 -->\n",
       "<g class=\"node\" id=\"node2\"><title>140507261859376</title>\n",
       "<polygon fill=\"none\" points=\"388.5,-249.5 388.5,-295.5 622.5,-295.5 622.5,-249.5 388.5,-249.5\" stroke=\"black\"/>\n",
       "<text font-family=\"Times,serif\" font-size=\"14.00\" text-anchor=\"middle\" x=\"443.5\" y=\"-268.8\">User: InputLayer</text>\n",
       "<polyline fill=\"none\" points=\"498.5,-249.5 498.5,-295.5 \" stroke=\"black\"/>\n",
       "<text font-family=\"Times,serif\" font-size=\"14.00\" text-anchor=\"middle\" x=\"526\" y=\"-280.3\">input:</text>\n",
       "<polyline fill=\"none\" points=\"498.5,-272.5 553.5,-272.5 \" stroke=\"black\"/>\n",
       "<text font-family=\"Times,serif\" font-size=\"14.00\" text-anchor=\"middle\" x=\"526\" y=\"-257.3\">output:</text>\n",
       "<polyline fill=\"none\" points=\"553.5,-249.5 553.5,-295.5 \" stroke=\"black\"/>\n",
       "<text font-family=\"Times,serif\" font-size=\"14.00\" text-anchor=\"middle\" x=\"588\" y=\"-280.3\">(None, 1)</text>\n",
       "<polyline fill=\"none\" points=\"553.5,-272.5 622.5,-272.5 \" stroke=\"black\"/>\n",
       "<text font-family=\"Times,serif\" font-size=\"14.00\" text-anchor=\"middle\" x=\"588\" y=\"-257.3\">(None, 1)</text>\n",
       "</g>\n",
       "<!-- 140507261860272 -->\n",
       "<g class=\"node\" id=\"node4\"><title>140507261860272</title>\n",
       "<polygon fill=\"none\" points=\"346.5,-166.5 346.5,-212.5 664.5,-212.5 664.5,-166.5 346.5,-166.5\" stroke=\"black\"/>\n",
       "<text font-family=\"Times,serif\" font-size=\"14.00\" text-anchor=\"middle\" x=\"436.5\" y=\"-185.8\">User-Embedding: Embedding</text>\n",
       "<polyline fill=\"none\" points=\"526.5,-166.5 526.5,-212.5 \" stroke=\"black\"/>\n",
       "<text font-family=\"Times,serif\" font-size=\"14.00\" text-anchor=\"middle\" x=\"554\" y=\"-197.3\">input:</text>\n",
       "<polyline fill=\"none\" points=\"526.5,-189.5 581.5,-189.5 \" stroke=\"black\"/>\n",
       "<text font-family=\"Times,serif\" font-size=\"14.00\" text-anchor=\"middle\" x=\"554\" y=\"-174.3\">output:</text>\n",
       "<polyline fill=\"none\" points=\"581.5,-166.5 581.5,-212.5 \" stroke=\"black\"/>\n",
       "<text font-family=\"Times,serif\" font-size=\"14.00\" text-anchor=\"middle\" x=\"623\" y=\"-197.3\">(None, 1)</text>\n",
       "<polyline fill=\"none\" points=\"581.5,-189.5 664.5,-189.5 \" stroke=\"black\"/>\n",
       "<text font-family=\"Times,serif\" font-size=\"14.00\" text-anchor=\"middle\" x=\"623\" y=\"-174.3\">(None, 1, 3)</text>\n",
       "</g>\n",
       "<!-- 140507261859376&#45;&gt;140507261860272 -->\n",
       "<g class=\"edge\" id=\"edge2\"><title>140507261859376-&gt;140507261860272</title>\n",
       "<path d=\"M505.5,-249.366C505.5,-241.152 505.5,-231.658 505.5,-222.725\" fill=\"none\" stroke=\"black\"/>\n",
       "<polygon fill=\"black\" points=\"509,-222.607 505.5,-212.607 502,-222.607 509,-222.607\" stroke=\"black\"/>\n",
       "</g>\n",
       "<!-- 140507261698960 -->\n",
       "<g class=\"node\" id=\"node5\"><title>140507261698960</title>\n",
       "<polygon fill=\"none\" points=\"50.5,-83.5 50.5,-129.5 328.5,-129.5 328.5,-83.5 50.5,-83.5\" stroke=\"black\"/>\n",
       "<text font-family=\"Times,serif\" font-size=\"14.00\" text-anchor=\"middle\" x=\"120.5\" y=\"-102.8\">FlattenMovies: Flatten</text>\n",
       "<polyline fill=\"none\" points=\"190.5,-83.5 190.5,-129.5 \" stroke=\"black\"/>\n",
       "<text font-family=\"Times,serif\" font-size=\"14.00\" text-anchor=\"middle\" x=\"218\" y=\"-114.3\">input:</text>\n",
       "<polyline fill=\"none\" points=\"190.5,-106.5 245.5,-106.5 \" stroke=\"black\"/>\n",
       "<text font-family=\"Times,serif\" font-size=\"14.00\" text-anchor=\"middle\" x=\"218\" y=\"-91.3\">output:</text>\n",
       "<polyline fill=\"none\" points=\"245.5,-83.5 245.5,-129.5 \" stroke=\"black\"/>\n",
       "<text font-family=\"Times,serif\" font-size=\"14.00\" text-anchor=\"middle\" x=\"287\" y=\"-114.3\">(None, 1, 3)</text>\n",
       "<polyline fill=\"none\" points=\"245.5,-106.5 328.5,-106.5 \" stroke=\"black\"/>\n",
       "<text font-family=\"Times,serif\" font-size=\"14.00\" text-anchor=\"middle\" x=\"287\" y=\"-91.3\">(None, 3)</text>\n",
       "</g>\n",
       "<!-- 140508451384344&#45;&gt;140507261698960 -->\n",
       "<g class=\"edge\" id=\"edge3\"><title>140508451384344-&gt;140507261698960</title>\n",
       "<path d=\"M171.331,-166.366C173.894,-158.062 176.861,-148.451 179.644,-139.434\" fill=\"none\" stroke=\"black\"/>\n",
       "<polygon fill=\"black\" points=\"183.072,-140.194 182.677,-129.607 176.383,-138.13 183.072,-140.194\" stroke=\"black\"/>\n",
       "</g>\n",
       "<!-- 140507261858872 -->\n",
       "<g class=\"node\" id=\"node6\"><title>140507261858872</title>\n",
       "<polygon fill=\"none\" points=\"358.5,-83.5 358.5,-129.5 626.5,-129.5 626.5,-83.5 358.5,-83.5\" stroke=\"black\"/>\n",
       "<text font-family=\"Times,serif\" font-size=\"14.00\" text-anchor=\"middle\" x=\"423.5\" y=\"-102.8\">FlattenUsers: Flatten</text>\n",
       "<polyline fill=\"none\" points=\"488.5,-83.5 488.5,-129.5 \" stroke=\"black\"/>\n",
       "<text font-family=\"Times,serif\" font-size=\"14.00\" text-anchor=\"middle\" x=\"516\" y=\"-114.3\">input:</text>\n",
       "<polyline fill=\"none\" points=\"488.5,-106.5 543.5,-106.5 \" stroke=\"black\"/>\n",
       "<text font-family=\"Times,serif\" font-size=\"14.00\" text-anchor=\"middle\" x=\"516\" y=\"-91.3\">output:</text>\n",
       "<polyline fill=\"none\" points=\"543.5,-83.5 543.5,-129.5 \" stroke=\"black\"/>\n",
       "<text font-family=\"Times,serif\" font-size=\"14.00\" text-anchor=\"middle\" x=\"585\" y=\"-114.3\">(None, 1, 3)</text>\n",
       "<polyline fill=\"none\" points=\"543.5,-106.5 626.5,-106.5 \" stroke=\"black\"/>\n",
       "<text font-family=\"Times,serif\" font-size=\"14.00\" text-anchor=\"middle\" x=\"585\" y=\"-91.3\">(None, 3)</text>\n",
       "</g>\n",
       "<!-- 140507261860272&#45;&gt;140507261858872 -->\n",
       "<g class=\"edge\" id=\"edge4\"><title>140507261860272-&gt;140507261858872</title>\n",
       "<path d=\"M501.948,-166.366C500.629,-158.152 499.106,-148.658 497.672,-139.725\" fill=\"none\" stroke=\"black\"/>\n",
       "<polygon fill=\"black\" points=\"501.089,-138.926 496.048,-129.607 494.177,-140.035 501.089,-138.926\" stroke=\"black\"/>\n",
       "</g>\n",
       "<!-- 140507261858704 -->\n",
       "<g class=\"node\" id=\"node7\"><title>140507261858704</title>\n",
       "<polygon fill=\"none\" points=\"183,-0.5 183,-46.5 498,-46.5 498,-0.5 183,-0.5\" stroke=\"black\"/>\n",
       "<text font-family=\"Times,serif\" font-size=\"14.00\" text-anchor=\"middle\" x=\"244\" y=\"-19.8\">DotProduct: Merge</text>\n",
       "<polyline fill=\"none\" points=\"305,-0.5 305,-46.5 \" stroke=\"black\"/>\n",
       "<text font-family=\"Times,serif\" font-size=\"14.00\" text-anchor=\"middle\" x=\"332.5\" y=\"-31.3\">input:</text>\n",
       "<polyline fill=\"none\" points=\"305,-23.5 360,-23.5 \" stroke=\"black\"/>\n",
       "<text font-family=\"Times,serif\" font-size=\"14.00\" text-anchor=\"middle\" x=\"332.5\" y=\"-8.3\">output:</text>\n",
       "<polyline fill=\"none\" points=\"360,-0.5 360,-46.5 \" stroke=\"black\"/>\n",
       "<text font-family=\"Times,serif\" font-size=\"14.00\" text-anchor=\"middle\" x=\"429\" y=\"-31.3\">[(None, 3), (None, 3)]</text>\n",
       "<polyline fill=\"none\" points=\"360,-23.5 498,-23.5 \" stroke=\"black\"/>\n",
       "<text font-family=\"Times,serif\" font-size=\"14.00\" text-anchor=\"middle\" x=\"429\" y=\"-8.3\">(None, 1)</text>\n",
       "</g>\n",
       "<!-- 140507261698960&#45;&gt;140507261858704 -->\n",
       "<g class=\"edge\" id=\"edge5\"><title>140507261698960-&gt;140507261858704</title>\n",
       "<path d=\"M230.761,-83.3664C249.155,-73.4998 270.988,-61.7881 290.317,-51.4194\" fill=\"none\" stroke=\"black\"/>\n",
       "<polygon fill=\"black\" points=\"292.131,-54.4182 299.288,-46.6068 288.822,-48.2497 292.131,-54.4182\" stroke=\"black\"/>\n",
       "</g>\n",
       "<!-- 140507261858872&#45;&gt;140507261858704 -->\n",
       "<g class=\"edge\" id=\"edge6\"><title>140507261858872-&gt;140507261858704</title>\n",
       "<path d=\"M450.965,-83.3664C432.45,-73.4998 410.473,-61.7881 391.015,-51.4194\" fill=\"none\" stroke=\"black\"/>\n",
       "<polygon fill=\"black\" points=\"392.456,-48.221 381.984,-46.6068 389.164,-54.3986 392.456,-48.221\" stroke=\"black\"/>\n",
       "</g>\n",
       "</g>\n",
       "</svg>"
      ],
      "text/plain": [
       "<IPython.core.display.SVG object>"
      ]
     },
     "execution_count": 13,
     "metadata": {},
     "output_type": "execute_result"
    }
   ],
   "source": [
    "# 注意，\n",
    "SVG(model_to_dot(model,  show_shapes=True, show_layer_names=True, rankdir='HB').create(prog='dot', format='svg'))"
   ]
  },
  {
   "cell_type": "markdown",
   "metadata": {},
   "source": [
    "注意：\n",
    "这里有些依赖：\n",
    "```\n",
    "yum install graphviz\n",
    "yum install graphviz-dev\n",
    "```"
   ]
  },
  {
   "cell_type": "code",
   "execution_count": 14,
   "metadata": {},
   "outputs": [
    {
     "name": "stdout",
     "output_type": "stream",
     "text": [
      "__________________________________________________________________________________________________\n",
      "Layer (type)                    Output Shape         Param #     Connected to                     \n",
      "==================================================================================================\n",
      "Item (InputLayer)               (None, 1)            0                                            \n",
      "__________________________________________________________________________________________________\n",
      "User (InputLayer)               (None, 1)            0                                            \n",
      "__________________________________________________________________________________________________\n",
      "Movie-Embedding (Embedding)     (None, 1, 3)         5049        Item[0][0]                       \n",
      "__________________________________________________________________________________________________\n",
      "User-Embedding (Embedding)      (None, 1, 3)         2832        User[0][0]                       \n",
      "__________________________________________________________________________________________________\n",
      "FlattenMovies (Flatten)         (None, 3)            0           Movie-Embedding[0][0]            \n",
      "__________________________________________________________________________________________________\n",
      "FlattenUsers (Flatten)          (None, 3)            0           User-Embedding[0][0]             \n",
      "__________________________________________________________________________________________________\n",
      "DotProduct (Merge)              (None, 1)            0           FlattenMovies[0][0]              \n",
      "                                                                 FlattenUsers[0][0]               \n",
      "==================================================================================================\n",
      "Total params: 7,881\n",
      "Trainable params: 7,881\n",
      "Non-trainable params: 0\n",
      "__________________________________________________________________________________________________\n"
     ]
    }
   ],
   "source": [
    "model.summary()"
   ]
  },
  {
   "cell_type": "code",
   "execution_count": 15,
   "metadata": {},
   "outputs": [
    {
     "name": "stdout",
     "output_type": "stream",
     "text": [
      "CPU times: user 6min 34s, sys: 1min 33s, total: 8min 8s\n",
      "Wall time: 4min 28s\n"
     ]
    }
   ],
   "source": [
    "%%time\n",
    "# 进行模型训练\n",
    "history = model.fit([train.user_id, train.item_id], train.rating, epochs=100, verbose=0)"
   ]
  },
  {
   "cell_type": "markdown",
   "metadata": {},
   "source": [
    "查看训练过程每轮的损失值："
   ]
  },
  {
   "cell_type": "code",
   "execution_count": 16,
   "metadata": {},
   "outputs": [
    {
     "data": {
      "text/plain": [
       "Text(0,0.5,'Train Error')"
      ]
     },
     "execution_count": 16,
     "metadata": {},
     "output_type": "execute_result"
    },
    {
     "data": {
      "image/png": "[encoded data removed]",
      "text/plain": [
       "<Figure size 432x288 with 1 Axes>"
      ]
     },
     "metadata": {},
     "output_type": "display_data"
    }
   ],
   "source": [
    "pd.Series(history.history['loss']).plot(logy=True)\n",
    "plt.xlabel(\"Epoch\")\n",
    "plt.ylabel(\"Train Error\")"
   ]
  },
  {
   "cell_type": "markdown",
   "metadata": {},
   "source": [
    "在预测的时候，我们会采用四舍五入的方式取整。一般实际中并不会这样处理，只是这里打分结果都是整数，所以就这样处理了。其实可以采用one-hot编码方式来对评分进行编码。"
   ]
  },
  {
   "cell_type": "code",
   "execution_count": 17,
   "metadata": {
    "collapsed": true
   },
   "outputs": [],
   "source": [
    "y_hat = np.round(model.predict([test.user_id, test.item_id]),0)\n",
    "y_true = test.rating"
   ]
  },
  {
   "cell_type": "code",
   "execution_count": 18,
   "metadata": {},
   "outputs": [
    {
     "data": {
      "text/plain": [
       "0.69135"
      ]
     },
     "execution_count": 18,
     "metadata": {},
     "output_type": "execute_result"
    }
   ],
   "source": [
    "from sklearn.metrics import mean_absolute_error\n",
    "mean_absolute_error(y_true, y_hat)"
   ]
  },
  {
   "cell_type": "markdown",
   "metadata": {},
   "source": [
    "MAE=0.69，结果还不错。如果再进一步做参数和超参数调整优化，可以进一步提升性能。这个后面再补充。"
   ]
  },
  {
   "cell_type": "markdown",
   "metadata": {},
   "source": [
    "提取嵌入矩阵"
   ]
  },
  {
   "cell_type": "code",
   "execution_count": 19,
   "metadata": {},
   "outputs": [
    {
     "data": {
      "text/html": [
       "<div>\n",
       "<style scoped>\n",
       "    .dataframe tbody tr th:only-of-type {\n",
       "        vertical-align: middle;\n",
       "    }\n",
       "\n",
       "    .dataframe tbody tr th {\n",
       "        vertical-align: top;\n",
       "    }\n",
       "\n",
       "    .dataframe thead th {\n",
       "        text-align: right;\n",
       "    }\n",
       "</style>\n",
       "<table border=\"1\" class=\"dataframe\">\n",
       "  <thead>\n",
       "    <tr style=\"text-align: right;\">\n",
       "      <th></th>\n",
       "      <th>0</th>\n",
       "      <th>1</th>\n",
       "      <th>2</th>\n",
       "    </tr>\n",
       "  </thead>\n",
       "  <tbody>\n",
       "    <tr>\n",
       "      <th>count</th>\n",
       "      <td>1683.000000</td>\n",
       "      <td>1683.000000</td>\n",
       "      <td>1683.000000</td>\n",
       "    </tr>\n",
       "    <tr>\n",
       "      <th>mean</th>\n",
       "      <td>0.891520</td>\n",
       "      <td>0.857434</td>\n",
       "      <td>1.002224</td>\n",
       "    </tr>\n",
       "    <tr>\n",
       "      <th>std</th>\n",
       "      <td>0.470536</td>\n",
       "      <td>0.538981</td>\n",
       "      <td>0.423689</td>\n",
       "    </tr>\n",
       "    <tr>\n",
       "      <th>min</th>\n",
       "      <td>-0.859310</td>\n",
       "      <td>-1.198049</td>\n",
       "      <td>-0.508080</td>\n",
       "    </tr>\n",
       "    <tr>\n",
       "      <th>25%</th>\n",
       "      <td>0.559874</td>\n",
       "      <td>0.463007</td>\n",
       "      <td>0.715369</td>\n",
       "    </tr>\n",
       "    <tr>\n",
       "      <th>50%</th>\n",
       "      <td>0.921561</td>\n",
       "      <td>0.881052</td>\n",
       "      <td>1.028888</td>\n",
       "    </tr>\n",
       "    <tr>\n",
       "      <th>75%</th>\n",
       "      <td>1.226215</td>\n",
       "      <td>1.266315</td>\n",
       "      <td>1.290787</td>\n",
       "    </tr>\n",
       "    <tr>\n",
       "      <th>max</th>\n",
       "      <td>3.034703</td>\n",
       "      <td>2.280423</td>\n",
       "      <td>2.558902</td>\n",
       "    </tr>\n",
       "  </tbody>\n",
       "</table>\n",
       "</div>"
      ],
      "text/plain": [
       "                 0            1            2\n",
       "count  1683.000000  1683.000000  1683.000000\n",
       "mean      0.891520     0.857434     1.002224\n",
       "std       0.470536     0.538981     0.423689\n",
       "min      -0.859310    -1.198049    -0.508080\n",
       "25%       0.559874     0.463007     0.715369\n",
       "50%       0.921561     0.881052     1.028888\n",
       "75%       1.226215     1.266315     1.290787\n",
       "max       3.034703     2.280423     2.558902"
      ]
     },
     "execution_count": 19,
     "metadata": {},
     "output_type": "execute_result"
    }
   ],
   "source": [
    "movie_embedding_learnt = model.get_layer(name='Movie-Embedding').get_weights()[0]\n",
    "pd.DataFrame(movie_embedding_learnt).describe()"
   ]
  },
  {
   "cell_type": "code",
   "execution_count": 21,
   "metadata": {},
   "outputs": [
    {
     "data": {
      "text/html": [
       "<div>\n",
       "<style scoped>\n",
       "    .dataframe tbody tr th:only-of-type {\n",
       "        vertical-align: middle;\n",
       "    }\n",
       "\n",
       "    .dataframe tbody tr th {\n",
       "        vertical-align: top;\n",
       "    }\n",
       "\n",
       "    .dataframe thead th {\n",
       "        text-align: right;\n",
       "    }\n",
       "</style>\n",
       "<table border=\"1\" class=\"dataframe\">\n",
       "  <thead>\n",
       "    <tr style=\"text-align: right;\">\n",
       "      <th></th>\n",
       "      <th>0</th>\n",
       "      <th>1</th>\n",
       "      <th>2</th>\n",
       "    </tr>\n",
       "  </thead>\n",
       "  <tbody>\n",
       "    <tr>\n",
       "      <th>count</th>\n",
       "      <td>944.000000</td>\n",
       "      <td>944.000000</td>\n",
       "      <td>944.000000</td>\n",
       "    </tr>\n",
       "    <tr>\n",
       "      <th>mean</th>\n",
       "      <td>1.120411</td>\n",
       "      <td>1.159110</td>\n",
       "      <td>1.119424</td>\n",
       "    </tr>\n",
       "    <tr>\n",
       "      <th>std</th>\n",
       "      <td>0.531820</td>\n",
       "      <td>0.489049</td>\n",
       "      <td>0.486735</td>\n",
       "    </tr>\n",
       "    <tr>\n",
       "      <th>min</th>\n",
       "      <td>-0.628745</td>\n",
       "      <td>-0.762630</td>\n",
       "      <td>-1.341101</td>\n",
       "    </tr>\n",
       "    <tr>\n",
       "      <th>25%</th>\n",
       "      <td>0.785811</td>\n",
       "      <td>0.867777</td>\n",
       "      <td>0.809936</td>\n",
       "    </tr>\n",
       "    <tr>\n",
       "      <th>50%</th>\n",
       "      <td>1.113729</td>\n",
       "      <td>1.202229</td>\n",
       "      <td>1.114263</td>\n",
       "    </tr>\n",
       "    <tr>\n",
       "      <th>75%</th>\n",
       "      <td>1.464745</td>\n",
       "      <td>1.491464</td>\n",
       "      <td>1.433187</td>\n",
       "    </tr>\n",
       "    <tr>\n",
       "      <th>max</th>\n",
       "      <td>3.352219</td>\n",
       "      <td>2.875547</td>\n",
       "      <td>2.730635</td>\n",
       "    </tr>\n",
       "  </tbody>\n",
       "</table>\n",
       "</div>"
      ],
      "text/plain": [
       "                0           1           2\n",
       "count  944.000000  944.000000  944.000000\n",
       "mean     1.120411    1.159110    1.119424\n",
       "std      0.531820    0.489049    0.486735\n",
       "min     -0.628745   -0.762630   -1.341101\n",
       "25%      0.785811    0.867777    0.809936\n",
       "50%      1.113729    1.202229    1.114263\n",
       "75%      1.464745    1.491464    1.433187\n",
       "max      3.352219    2.875547    2.730635"
      ]
     },
     "execution_count": 21,
     "metadata": {},
     "output_type": "execute_result"
    }
   ],
   "source": [
    "user_embedding_learnt = model.get_layer(name='User-Embedding').get_weights()[0]\n",
    "pd.DataFrame(user_embedding_learnt).describe()"
   ]
  },
  {
   "cell_type": "markdown",
   "metadata": {},
   "source": [
    "从上述结果可以看出用户和电影的嵌入矩阵都存在负数。有时候后续的系统输入要求嵌入矩阵都是非负数，我们可以采用以下方式获取非负的嵌入矩阵。"
   ]
  },
  {
   "cell_type": "markdown",
   "metadata": {},
   "source": [
    "# 2-Non-negative Matrix factorisation (NNMF) in Keras\n"
   ]
  },
  {
   "cell_type": "markdown",
   "metadata": {},
   "source": [
    "这个代码与之前的差不多，只是在嵌入矩阵获取的时候添加了非负数的限制。"
   ]
  },
  {
   "cell_type": "code",
   "execution_count": 26,
   "metadata": {
    "collapsed": true
   },
   "outputs": [],
   "source": [
    "from keras.constraints import non_neg\n",
    "movie_input = keras.layers.Input(shape=[1],name='Item')\n",
    "movie_embedding = keras.layers.Embedding(n_movies + 1, n_latent_factors, name='NonNegMovie-Embedding', embeddings_constraint=non_neg())(movie_input)\n",
    "movie_vec = keras.layers.Flatten(name='FlattenMovies')(movie_embedding)\n",
    "\n",
    "user_input = keras.layers.Input(shape=[1],name='User')\n",
    "user_vec = keras.layers.Flatten(name='FlattenUsers')(keras.layers.Embedding(n_users + 1, n_latent_factors,name='NonNegUser-Embedding',embeddings_constraint=non_neg())(user_input))\n",
    "\n",
    "prod = keras.layers.merge([movie_vec, user_vec], mode='dot',name='DotProduct')\n",
    "model = keras.Model([user_input, movie_input], prod)\n",
    "model.compile('adam', 'mean_squared_error')"
   ]
  },
  {
   "cell_type": "markdown",
   "metadata": {},
   "source": [
    "We now verify if we are indeed able to learn non-negative embeddings. I'll not compare the performance of NNMF on the test set, in the interest of space.\n",
    "我们来看看是否真的能够学到非负的嵌入矩阵。"
   ]
  },
  {
   "cell_type": "code",
   "execution_count": 28,
   "metadata": {
    "collapsed": true
   },
   "outputs": [],
   "source": [
    "history_nonneg = model.fit([train.user_id, train.item_id], train.rating, epochs=10, verbose=0)"
   ]
  },
  {
   "cell_type": "code",
   "execution_count": 29,
   "metadata": {},
   "outputs": [
    {
     "data": {
      "text/html": [
       "<div>\n",
       "<style scoped>\n",
       "    .dataframe tbody tr th:only-of-type {\n",
       "        vertical-align: middle;\n",
       "    }\n",
       "\n",
       "    .dataframe tbody tr th {\n",
       "        vertical-align: top;\n",
       "    }\n",
       "\n",
       "    .dataframe thead th {\n",
       "        text-align: right;\n",
       "    }\n",
       "</style>\n",
       "<table border=\"1\" class=\"dataframe\">\n",
       "  <thead>\n",
       "    <tr style=\"text-align: right;\">\n",
       "      <th></th>\n",
       "      <th>0</th>\n",
       "      <th>1</th>\n",
       "      <th>2</th>\n",
       "    </tr>\n",
       "  </thead>\n",
       "  <tbody>\n",
       "    <tr>\n",
       "      <th>count</th>\n",
       "      <td>1683.000000</td>\n",
       "      <td>1683.000000</td>\n",
       "      <td>1683.000000</td>\n",
       "    </tr>\n",
       "    <tr>\n",
       "      <th>mean</th>\n",
       "      <td>0.839561</td>\n",
       "      <td>0.840075</td>\n",
       "      <td>0.838098</td>\n",
       "    </tr>\n",
       "    <tr>\n",
       "      <th>std</th>\n",
       "      <td>0.301144</td>\n",
       "      <td>0.300974</td>\n",
       "      <td>0.300052</td>\n",
       "    </tr>\n",
       "    <tr>\n",
       "      <th>min</th>\n",
       "      <td>-0.000000</td>\n",
       "      <td>-0.000000</td>\n",
       "      <td>-0.000000</td>\n",
       "    </tr>\n",
       "    <tr>\n",
       "      <th>25%</th>\n",
       "      <td>0.655499</td>\n",
       "      <td>0.659878</td>\n",
       "      <td>0.654167</td>\n",
       "    </tr>\n",
       "    <tr>\n",
       "      <th>50%</th>\n",
       "      <td>0.898050</td>\n",
       "      <td>0.898812</td>\n",
       "      <td>0.892779</td>\n",
       "    </tr>\n",
       "    <tr>\n",
       "      <th>75%</th>\n",
       "      <td>1.072557</td>\n",
       "      <td>1.074052</td>\n",
       "      <td>1.073370</td>\n",
       "    </tr>\n",
       "    <tr>\n",
       "      <th>max</th>\n",
       "      <td>1.367638</td>\n",
       "      <td>1.391874</td>\n",
       "      <td>1.361823</td>\n",
       "    </tr>\n",
       "  </tbody>\n",
       "</table>\n",
       "</div>"
      ],
      "text/plain": [
       "                 0            1            2\n",
       "count  1683.000000  1683.000000  1683.000000\n",
       "mean      0.839561     0.840075     0.838098\n",
       "std       0.301144     0.300974     0.300052\n",
       "min      -0.000000    -0.000000    -0.000000\n",
       "25%       0.655499     0.659878     0.654167\n",
       "50%       0.898050     0.898812     0.892779\n",
       "75%       1.072557     1.074052     1.073370\n",
       "max       1.367638     1.391874     1.361823"
      ]
     },
     "execution_count": 29,
     "metadata": {},
     "output_type": "execute_result"
    }
   ],
   "source": [
    "movie_embedding_learnt = model.get_layer(name='NonNegMovie-Embedding').get_weights()[0]\n",
    "pd.DataFrame(movie_embedding_learnt).describe()"
   ]
  },
  {
   "cell_type": "code",
   "execution_count": 35,
   "metadata": {},
   "outputs": [
    {
     "data": {
      "text/html": [
       "<div>\n",
       "<style scoped>\n",
       "    .dataframe tbody tr th:only-of-type {\n",
       "        vertical-align: middle;\n",
       "    }\n",
       "\n",
       "    .dataframe tbody tr th {\n",
       "        vertical-align: top;\n",
       "    }\n",
       "\n",
       "    .dataframe thead th {\n",
       "        text-align: right;\n",
       "    }\n",
       "</style>\n",
       "<table border=\"1\" class=\"dataframe\">\n",
       "  <thead>\n",
       "    <tr style=\"text-align: right;\">\n",
       "      <th></th>\n",
       "      <th>0</th>\n",
       "      <th>1</th>\n",
       "      <th>2</th>\n",
       "    </tr>\n",
       "  </thead>\n",
       "  <tbody>\n",
       "    <tr>\n",
       "      <th>0</th>\n",
       "      <td>1.141340</td>\n",
       "      <td>1.125894</td>\n",
       "      <td>1.145409</td>\n",
       "    </tr>\n",
       "    <tr>\n",
       "      <th>1</th>\n",
       "      <td>0.966766</td>\n",
       "      <td>0.990233</td>\n",
       "      <td>1.012192</td>\n",
       "    </tr>\n",
       "    <tr>\n",
       "      <th>2</th>\n",
       "      <td>0.953209</td>\n",
       "      <td>0.927560</td>\n",
       "      <td>0.967681</td>\n",
       "    </tr>\n",
       "    <tr>\n",
       "      <th>3</th>\n",
       "      <td>1.056142</td>\n",
       "      <td>1.058076</td>\n",
       "      <td>1.100821</td>\n",
       "    </tr>\n",
       "    <tr>\n",
       "      <th>4</th>\n",
       "      <td>1.007808</td>\n",
       "      <td>1.060272</td>\n",
       "      <td>1.009017</td>\n",
       "    </tr>\n",
       "  </tbody>\n",
       "</table>\n",
       "</div>"
      ],
      "text/plain": [
       "          0         1         2\n",
       "0  1.141340  1.125894  1.145409\n",
       "1  0.966766  0.990233  1.012192\n",
       "2  0.953209  0.927560  0.967681\n",
       "3  1.056142  1.058076  1.100821\n",
       "4  1.007808  1.060272  1.009017"
      ]
     },
     "execution_count": 35,
     "metadata": {},
     "output_type": "execute_result"
    }
   ],
   "source": [
    "pd.DataFrame(movie_embedding_learnt).head()"
   ]
  },
  {
   "cell_type": "code",
   "execution_count": 36,
   "metadata": {},
   "outputs": [
    {
     "data": {
      "text/plain": [
       "0.6863"
      ]
     },
     "execution_count": 36,
     "metadata": {},
     "output_type": "execute_result"
    }
   ],
   "source": [
    "none_neg_y_hat = np.round(model.predict([test.user_id, test.item_id]),0)\n",
    "none_neg_y_true = test.rating\n",
    "mean_absolute_error(none_neg_y_true, none_neg_y_hat)"
   ]
  },
  {
   "cell_type": "code",
   "execution_count": 37,
   "metadata": {},
   "outputs": [
    {
     "data": {
      "text/plain": [
       "array([[4.],\n",
       "       [4.],\n",
       "       [3.],\n",
       "       [4.],\n",
       "       [4.],\n",
       "       [3.],\n",
       "       [4.],\n",
       "       [2.],\n",
       "       [3.],\n",
       "       [3.]], dtype=float32)"
      ]
     },
     "execution_count": 37,
     "metadata": {},
     "output_type": "execute_result"
    }
   ],
   "source": [
    "none_neg_y_hat[:10]"
   ]
  },
  {
   "cell_type": "code",
   "execution_count": 39,
   "metadata": {},
   "outputs": [
    {
     "data": {
      "text/plain": [
       "60588    4\n",
       "96180    5\n",
       "28442    2\n",
       "98250    5\n",
       "29718    4\n",
       "38670    3\n",
       "20335    4\n",
       "71058    2\n",
       "26409    3\n",
       "68103    4\n",
       "Name: rating, dtype: int64"
      ]
     },
     "execution_count": 39,
     "metadata": {},
     "output_type": "execute_result"
    }
   ],
   "source": [
    "none_neg_y_true[:10]"
   ]
  },
  {
   "cell_type": "markdown",
   "metadata": {},
   "source": [
    "# 3- Neural networks for recommendation"
   ]
  },
  {
   "cell_type": "markdown",
   "metadata": {},
   "source": [
    "与之前的矩阵分解模型不同的是神经网络模型将user和item嵌入矩阵进行连接，而不是之前的`dot product`操作。所以就可以学习到复杂的非线性模型。\n",
    "此外user和item的嵌入矩阵维度可以不同。"
   ]
  },
  {
   "cell_type": "code",
   "execution_count": 40,
   "metadata": {
    "collapsed": true
   },
   "outputs": [],
   "source": [
    "n_latent_factors_user = 5\n",
    "n_latent_factors_movie = 16\n",
    "# 尝试调参\n",
    "\n",
    "movie_input = keras.layers.Input(shape=[1],name='Item')\n",
    "movie_embedding = keras.layers.Embedding(n_movies + 1, n_latent_factors_movie, name='Movie-Embedding')(movie_input)\n",
    "movie_vec = keras.layers.Flatten(name='FlattenMovies')(movie_embedding)\n",
    "movie_vec = keras.layers.Dropout(0.2)(movie_vec)\n",
    "\n",
    "\n",
    "user_input = keras.layers.Input(shape=[1],name='User')\n",
    "user_vec = keras.layers.Flatten(name='FlattenUsers')(keras.layers.Embedding(n_users + 1, n_latent_factors_user,name='User-Embedding')(user_input))\n",
    "user_vec = keras.layers.Dropout(0.2)(user_vec)\n",
    "\n",
    "\n",
    "concat = keras.layers.merge([movie_vec, user_vec], mode='concat',name='Concat')\n",
    "concat_dropout = keras.layers.Dropout(0.2)(concat)\n",
    "dense = keras.layers.Dense(200,name='FullyConnected')(concat)\n",
    "dropout_1 = keras.layers.Dropout(0.2,name='Dropout')(dense)\n",
    "dense_2 = keras.layers.Dense(100,name='FullyConnected-1')(concat)\n",
    "dropout_2 = keras.layers.Dropout(0.2,name='Dropout')(dense_2)\n",
    "dense_3 = keras.layers.Dense(50,name='FullyConnected-2')(dense_2)\n",
    "dropout_3 = keras.layers.Dropout(0.2,name='Dropout')(dense_3)\n",
    "dense_4 = keras.layers.Dense(20,name='FullyConnected-3', activation='relu')(dense_3)\n",
    "\n",
    "\n",
    "result = keras.layers.Dense(1, activation='relu',name='Activation')(dense_4)\n",
    "adam = Adam(lr=0.005)\n",
    "model = keras.Model([user_input, movie_input], result)\n",
    "model.compile(optimizer=adam,loss= 'mean_absolute_error')"
   ]
  },
  {
   "cell_type": "code",
   "execution_count": 41,
   "metadata": {},
   "outputs": [
    {
     "data": {
      "image/svg+xml": [
       "<svg height=\"719pt\" viewBox=\"0.00 0.00 680.00 719.00\" width=\"680pt\" xmlns=\"http://www.w3.org/2000/svg\" xmlns:xlink=\"http://www.w3.org/1999/xlink\">\n",
       "<g class=\"graph\" id=\"graph0\" transform=\"scale(1 1) rotate(0) translate(4 715)\">\n",
       "<title>G</title>\n",
       "<polygon fill=\"white\" points=\"-4,4 -4,-715 676,-715 676,4 -4,4\" stroke=\"none\"/>\n",
       "<!-- 140504679234192 -->\n",
       "<g class=\"node\" id=\"node1\"><title>140504679234192</title>\n",
       "<polygon fill=\"none\" points=\"51,-664.5 51,-710.5 285,-710.5 285,-664.5 51,-664.5\" stroke=\"black\"/>\n",
       "<text font-family=\"Times,serif\" font-size=\"14.00\" text-anchor=\"middle\" x=\"106\" y=\"-683.8\">Item: InputLayer</text>\n",
       "<polyline fill=\"none\" points=\"161,-664.5 161,-710.5 \" stroke=\"black\"/>\n",
       "<text font-family=\"Times,serif\" font-size=\"14.00\" text-anchor=\"middle\" x=\"188.5\" y=\"-695.3\">input:</text>\n",
       "<polyline fill=\"none\" points=\"161,-687.5 216,-687.5 \" stroke=\"black\"/>\n",
       "<text font-family=\"Times,serif\" font-size=\"14.00\" text-anchor=\"middle\" x=\"188.5\" y=\"-672.3\">output:</text>\n",
       "<polyline fill=\"none\" points=\"216,-664.5 216,-710.5 \" stroke=\"black\"/>\n",
       "<text font-family=\"Times,serif\" font-size=\"14.00\" text-anchor=\"middle\" x=\"250.5\" y=\"-695.3\">(None, 1)</text>\n",
       "<polyline fill=\"none\" points=\"216,-687.5 285,-687.5 \" stroke=\"black\"/>\n",
       "<text font-family=\"Times,serif\" font-size=\"14.00\" text-anchor=\"middle\" x=\"250.5\" y=\"-672.3\">(None, 1)</text>\n",
       "</g>\n",
       "<!-- 140504679233968 -->\n",
       "<g class=\"node\" id=\"node3\"><title>140504679233968</title>\n",
       "<polygon fill=\"none\" points=\"0,-581.5 0,-627.5 336,-627.5 336,-581.5 0,-581.5\" stroke=\"black\"/>\n",
       "<text font-family=\"Times,serif\" font-size=\"14.00\" text-anchor=\"middle\" x=\"95.5\" y=\"-600.8\">Movie-Embedding: Embedding</text>\n",
       "<polyline fill=\"none\" points=\"191,-581.5 191,-627.5 \" stroke=\"black\"/>\n",
       "<text font-family=\"Times,serif\" font-size=\"14.00\" text-anchor=\"middle\" x=\"218.5\" y=\"-612.3\">input:</text>\n",
       "<polyline fill=\"none\" points=\"191,-604.5 246,-604.5 \" stroke=\"black\"/>\n",
       "<text font-family=\"Times,serif\" font-size=\"14.00\" text-anchor=\"middle\" x=\"218.5\" y=\"-589.3\">output:</text>\n",
       "<polyline fill=\"none\" points=\"246,-581.5 246,-627.5 \" stroke=\"black\"/>\n",
       "<text font-family=\"Times,serif\" font-size=\"14.00\" text-anchor=\"middle\" x=\"291\" y=\"-612.3\">(None, 1)</text>\n",
       "<polyline fill=\"none\" points=\"246,-604.5 336,-604.5 \" stroke=\"black\"/>\n",
       "<text font-family=\"Times,serif\" font-size=\"14.00\" text-anchor=\"middle\" x=\"291\" y=\"-589.3\">(None, 1, 16)</text>\n",
       "</g>\n",
       "<!-- 140504679234192&#45;&gt;140504679233968 -->\n",
       "<g class=\"edge\" id=\"edge1\"><title>140504679234192-&gt;140504679233968</title>\n",
       "<path d=\"M168,-664.366C168,-656.152 168,-646.658 168,-637.725\" fill=\"none\" stroke=\"black\"/>\n",
       "<polygon fill=\"black\" points=\"171.5,-637.607 168,-627.607 164.5,-637.607 171.5,-637.607\" stroke=\"black\"/>\n",
       "</g>\n",
       "<!-- 140504679234024 -->\n",
       "<g class=\"node\" id=\"node2\"><title>140504679234024</title>\n",
       "<polygon fill=\"none\" points=\"396,-664.5 396,-710.5 630,-710.5 630,-664.5 396,-664.5\" stroke=\"black\"/>\n",
       "<text font-family=\"Times,serif\" font-size=\"14.00\" text-anchor=\"middle\" x=\"451\" y=\"-683.8\">User: InputLayer</text>\n",
       "<polyline fill=\"none\" points=\"506,-664.5 506,-710.5 \" stroke=\"black\"/>\n",
       "<text font-family=\"Times,serif\" font-size=\"14.00\" text-anchor=\"middle\" x=\"533.5\" y=\"-695.3\">input:</text>\n",
       "<polyline fill=\"none\" points=\"506,-687.5 561,-687.5 \" stroke=\"black\"/>\n",
       "<text font-family=\"Times,serif\" font-size=\"14.00\" text-anchor=\"middle\" x=\"533.5\" y=\"-672.3\">output:</text>\n",
       "<polyline fill=\"none\" points=\"561,-664.5 561,-710.5 \" stroke=\"black\"/>\n",
       "<text font-family=\"Times,serif\" font-size=\"14.00\" text-anchor=\"middle\" x=\"595.5\" y=\"-695.3\">(None, 1)</text>\n",
       "<polyline fill=\"none\" points=\"561,-687.5 630,-687.5 \" stroke=\"black\"/>\n",
       "<text font-family=\"Times,serif\" font-size=\"14.00\" text-anchor=\"middle\" x=\"595.5\" y=\"-672.3\">(None, 1)</text>\n",
       "</g>\n",
       "<!-- 140504679209448 -->\n",
       "<g class=\"node\" id=\"node4\"><title>140504679209448</title>\n",
       "<polygon fill=\"none\" points=\"354,-581.5 354,-627.5 672,-627.5 672,-581.5 354,-581.5\" stroke=\"black\"/>\n",
       "<text font-family=\"Times,serif\" font-size=\"14.00\" text-anchor=\"middle\" x=\"444\" y=\"-600.8\">User-Embedding: Embedding</text>\n",
       "<polyline fill=\"none\" points=\"534,-581.5 534,-627.5 \" stroke=\"black\"/>\n",
       "<text font-family=\"Times,serif\" font-size=\"14.00\" text-anchor=\"middle\" x=\"561.5\" y=\"-612.3\">input:</text>\n",
       "<polyline fill=\"none\" points=\"534,-604.5 589,-604.5 \" stroke=\"black\"/>\n",
       "<text font-family=\"Times,serif\" font-size=\"14.00\" text-anchor=\"middle\" x=\"561.5\" y=\"-589.3\">output:</text>\n",
       "<polyline fill=\"none\" points=\"589,-581.5 589,-627.5 \" stroke=\"black\"/>\n",
       "<text font-family=\"Times,serif\" font-size=\"14.00\" text-anchor=\"middle\" x=\"630.5\" y=\"-612.3\">(None, 1)</text>\n",
       "<polyline fill=\"none\" points=\"589,-604.5 672,-604.5 \" stroke=\"black\"/>\n",
       "<text font-family=\"Times,serif\" font-size=\"14.00\" text-anchor=\"middle\" x=\"630.5\" y=\"-589.3\">(None, 1, 5)</text>\n",
       "</g>\n",
       "<!-- 140504679234024&#45;&gt;140504679209448 -->\n",
       "<g class=\"edge\" id=\"edge2\"><title>140504679234024-&gt;140504679209448</title>\n",
       "<path d=\"M513,-664.366C513,-656.152 513,-646.658 513,-637.725\" fill=\"none\" stroke=\"black\"/>\n",
       "<polygon fill=\"black\" points=\"516.5,-637.607 513,-627.607 509.5,-637.607 516.5,-637.607\" stroke=\"black\"/>\n",
       "</g>\n",
       "<!-- 140504679234472 -->\n",
       "<g class=\"node\" id=\"node5\"><title>140504679234472</title>\n",
       "<polygon fill=\"none\" points=\"50.5,-498.5 50.5,-544.5 335.5,-544.5 335.5,-498.5 50.5,-498.5\" stroke=\"black\"/>\n",
       "<text font-family=\"Times,serif\" font-size=\"14.00\" text-anchor=\"middle\" x=\"120.5\" y=\"-517.8\">FlattenMovies: Flatten</text>\n",
       "<polyline fill=\"none\" points=\"190.5,-498.5 190.5,-544.5 \" stroke=\"black\"/>\n",
       "<text font-family=\"Times,serif\" font-size=\"14.00\" text-anchor=\"middle\" x=\"218\" y=\"-529.3\">input:</text>\n",
       "<polyline fill=\"none\" points=\"190.5,-521.5 245.5,-521.5 \" stroke=\"black\"/>\n",
       "<text font-family=\"Times,serif\" font-size=\"14.00\" text-anchor=\"middle\" x=\"218\" y=\"-506.3\">output:</text>\n",
       "<polyline fill=\"none\" points=\"245.5,-498.5 245.5,-544.5 \" stroke=\"black\"/>\n",
       "<text font-family=\"Times,serif\" font-size=\"14.00\" text-anchor=\"middle\" x=\"290.5\" y=\"-529.3\">(None, 1, 16)</text>\n",
       "<polyline fill=\"none\" points=\"245.5,-521.5 335.5,-521.5 \" stroke=\"black\"/>\n",
       "<text font-family=\"Times,serif\" font-size=\"14.00\" text-anchor=\"middle\" x=\"290.5\" y=\"-506.3\">(None, 16)</text>\n",
       "</g>\n",
       "<!-- 140504679233968&#45;&gt;140504679234472 -->\n",
       "<g class=\"edge\" id=\"edge3\"><title>140504679233968-&gt;140504679234472</title>\n",
       "<path d=\"M174.831,-581.366C177.394,-573.062 180.361,-563.451 183.144,-554.434\" fill=\"none\" stroke=\"black\"/>\n",
       "<polygon fill=\"black\" points=\"186.572,-555.194 186.177,-544.607 179.883,-553.13 186.572,-555.194\" stroke=\"black\"/>\n",
       "</g>\n",
       "<!-- 140504679233128 -->\n",
       "<g class=\"node\" id=\"node6\"><title>140504679233128</title>\n",
       "<polygon fill=\"none\" points=\"366,-498.5 366,-544.5 634,-544.5 634,-498.5 366,-498.5\" stroke=\"black\"/>\n",
       "<text font-family=\"Times,serif\" font-size=\"14.00\" text-anchor=\"middle\" x=\"431\" y=\"-517.8\">FlattenUsers: Flatten</text>\n",
       "<polyline fill=\"none\" points=\"496,-498.5 496,-544.5 \" stroke=\"black\"/>\n",
       "<text font-family=\"Times,serif\" font-size=\"14.00\" text-anchor=\"middle\" x=\"523.5\" y=\"-529.3\">input:</text>\n",
       "<polyline fill=\"none\" points=\"496,-521.5 551,-521.5 \" stroke=\"black\"/>\n",
       "<text font-family=\"Times,serif\" font-size=\"14.00\" text-anchor=\"middle\" x=\"523.5\" y=\"-506.3\">output:</text>\n",
       "<polyline fill=\"none\" points=\"551,-498.5 551,-544.5 \" stroke=\"black\"/>\n",
       "<text font-family=\"Times,serif\" font-size=\"14.00\" text-anchor=\"middle\" x=\"592.5\" y=\"-529.3\">(None, 1, 5)</text>\n",
       "<polyline fill=\"none\" points=\"551,-521.5 634,-521.5 \" stroke=\"black\"/>\n",
       "<text font-family=\"Times,serif\" font-size=\"14.00\" text-anchor=\"middle\" x=\"592.5\" y=\"-506.3\">(None, 5)</text>\n",
       "</g>\n",
       "<!-- 140504679209448&#45;&gt;140504679233128 -->\n",
       "<g class=\"edge\" id=\"edge4\"><title>140504679209448-&gt;140504679233128</title>\n",
       "<path d=\"M509.448,-581.366C508.129,-573.152 506.606,-563.658 505.172,-554.725\" fill=\"none\" stroke=\"black\"/>\n",
       "<polygon fill=\"black\" points=\"508.589,-553.926 503.548,-544.607 501.677,-555.035 508.589,-553.926\" stroke=\"black\"/>\n",
       "</g>\n",
       "<!-- 140504679234416 -->\n",
       "<g class=\"node\" id=\"node7\"><title>140504679234416</title>\n",
       "<polygon fill=\"none\" points=\"83,-415.5 83,-461.5 339,-461.5 339,-415.5 83,-415.5\" stroke=\"black\"/>\n",
       "<text font-family=\"Times,serif\" font-size=\"14.00\" text-anchor=\"middle\" x=\"145.5\" y=\"-434.8\">dropout_4: Dropout</text>\n",
       "<polyline fill=\"none\" points=\"208,-415.5 208,-461.5 \" stroke=\"black\"/>\n",
       "<text font-family=\"Times,serif\" font-size=\"14.00\" text-anchor=\"middle\" x=\"235.5\" y=\"-446.3\">input:</text>\n",
       "<polyline fill=\"none\" points=\"208,-438.5 263,-438.5 \" stroke=\"black\"/>\n",
       "<text font-family=\"Times,serif\" font-size=\"14.00\" text-anchor=\"middle\" x=\"235.5\" y=\"-423.3\">output:</text>\n",
       "<polyline fill=\"none\" points=\"263,-415.5 263,-461.5 \" stroke=\"black\"/>\n",
       "<text font-family=\"Times,serif\" font-size=\"14.00\" text-anchor=\"middle\" x=\"301\" y=\"-446.3\">(None, 16)</text>\n",
       "<polyline fill=\"none\" points=\"263,-438.5 339,-438.5 \" stroke=\"black\"/>\n",
       "<text font-family=\"Times,serif\" font-size=\"14.00\" text-anchor=\"middle\" x=\"301\" y=\"-423.3\">(None, 16)</text>\n",
       "</g>\n",
       "<!-- 140504679234472&#45;&gt;140504679234416 -->\n",
       "<g class=\"edge\" id=\"edge5\"><title>140504679234472-&gt;140504679234416</title>\n",
       "<path d=\"M197.919,-498.366C199.764,-490.062 201.9,-480.451 203.904,-471.434\" fill=\"none\" stroke=\"black\"/>\n",
       "<polygon fill=\"black\" points=\"207.335,-472.128 206.087,-461.607 200.501,-470.609 207.335,-472.128\" stroke=\"black\"/>\n",
       "</g>\n",
       "<!-- 140504679232176 -->\n",
       "<g class=\"node\" id=\"node8\"><title>140504679232176</title>\n",
       "<polygon fill=\"none\" points=\"366.5,-415.5 366.5,-461.5 615.5,-461.5 615.5,-415.5 366.5,-415.5\" stroke=\"black\"/>\n",
       "<text font-family=\"Times,serif\" font-size=\"14.00\" text-anchor=\"middle\" x=\"429\" y=\"-434.8\">dropout_5: Dropout</text>\n",
       "<polyline fill=\"none\" points=\"491.5,-415.5 491.5,-461.5 \" stroke=\"black\"/>\n",
       "<text font-family=\"Times,serif\" font-size=\"14.00\" text-anchor=\"middle\" x=\"519\" y=\"-446.3\">input:</text>\n",
       "<polyline fill=\"none\" points=\"491.5,-438.5 546.5,-438.5 \" stroke=\"black\"/>\n",
       "<text font-family=\"Times,serif\" font-size=\"14.00\" text-anchor=\"middle\" x=\"519\" y=\"-423.3\">output:</text>\n",
       "<polyline fill=\"none\" points=\"546.5,-415.5 546.5,-461.5 \" stroke=\"black\"/>\n",
       "<text font-family=\"Times,serif\" font-size=\"14.00\" text-anchor=\"middle\" x=\"581\" y=\"-446.3\">(None, 5)</text>\n",
       "<polyline fill=\"none\" points=\"546.5,-438.5 615.5,-438.5 \" stroke=\"black\"/>\n",
       "<text font-family=\"Times,serif\" font-size=\"14.00\" text-anchor=\"middle\" x=\"581\" y=\"-423.3\">(None, 5)</text>\n",
       "</g>\n",
       "<!-- 140504679233128&#45;&gt;140504679232176 -->\n",
       "<g class=\"edge\" id=\"edge6\"><title>140504679233128-&gt;140504679232176</title>\n",
       "<path d=\"M497.541,-498.366C496.628,-490.152 495.573,-480.658 494.581,-471.725\" fill=\"none\" stroke=\"black\"/>\n",
       "<polygon fill=\"black\" points=\"498.039,-471.159 493.456,-461.607 491.082,-471.932 498.039,-471.159\" stroke=\"black\"/>\n",
       "</g>\n",
       "<!-- 140504679210400 -->\n",
       "<g class=\"node\" id=\"node9\"><title>140504679210400</title>\n",
       "<polygon fill=\"none\" points=\"202,-332.5 202,-378.5 500,-378.5 500,-332.5 202,-332.5\" stroke=\"black\"/>\n",
       "<text font-family=\"Times,serif\" font-size=\"14.00\" text-anchor=\"middle\" x=\"251\" y=\"-351.8\">Concat: Merge</text>\n",
       "<polyline fill=\"none\" points=\"300,-332.5 300,-378.5 \" stroke=\"black\"/>\n",
       "<text font-family=\"Times,serif\" font-size=\"14.00\" text-anchor=\"middle\" x=\"327.5\" y=\"-363.3\">input:</text>\n",
       "<polyline fill=\"none\" points=\"300,-355.5 355,-355.5 \" stroke=\"black\"/>\n",
       "<text font-family=\"Times,serif\" font-size=\"14.00\" text-anchor=\"middle\" x=\"327.5\" y=\"-340.3\">output:</text>\n",
       "<polyline fill=\"none\" points=\"355,-332.5 355,-378.5 \" stroke=\"black\"/>\n",
       "<text font-family=\"Times,serif\" font-size=\"14.00\" text-anchor=\"middle\" x=\"427.5\" y=\"-363.3\">[(None, 16), (None, 5)]</text>\n",
       "<polyline fill=\"none\" points=\"355,-355.5 500,-355.5 \" stroke=\"black\"/>\n",
       "<text font-family=\"Times,serif\" font-size=\"14.00\" text-anchor=\"middle\" x=\"427.5\" y=\"-340.3\">(None, 21)</text>\n",
       "</g>\n",
       "<!-- 140504679234416&#45;&gt;140504679210400 -->\n",
       "<g class=\"edge\" id=\"edge7\"><title>140504679234416-&gt;140504679210400</title>\n",
       "<path d=\"M249.256,-415.366C266.078,-405.634 286.003,-394.106 303.742,-383.842\" fill=\"none\" stroke=\"black\"/>\n",
       "<polygon fill=\"black\" points=\"305.888,-386.644 312.791,-378.607 302.382,-380.585 305.888,-386.644\" stroke=\"black\"/>\n",
       "</g>\n",
       "<!-- 140504679232176&#45;&gt;140504679210400 -->\n",
       "<g class=\"edge\" id=\"edge8\"><title>140504679232176-&gt;140504679210400</title>\n",
       "<path d=\"M452.744,-415.366C435.922,-405.634 415.997,-394.106 398.258,-383.842\" fill=\"none\" stroke=\"black\"/>\n",
       "<polygon fill=\"black\" points=\"399.618,-380.585 389.209,-378.607 396.112,-386.644 399.618,-380.585\" stroke=\"black\"/>\n",
       "</g>\n",
       "<!-- 140504679068728 -->\n",
       "<g class=\"node\" id=\"node10\"><title>140504679068728</title>\n",
       "<polygon fill=\"none\" points=\"204.5,-249.5 204.5,-295.5 497.5,-295.5 497.5,-249.5 204.5,-249.5\" stroke=\"black\"/>\n",
       "<text font-family=\"Times,serif\" font-size=\"14.00\" text-anchor=\"middle\" x=\"282\" y=\"-268.8\">FullyConnected-1: Dense</text>\n",
       "<polyline fill=\"none\" points=\"359.5,-249.5 359.5,-295.5 \" stroke=\"black\"/>\n",
       "<text font-family=\"Times,serif\" font-size=\"14.00\" text-anchor=\"middle\" x=\"387\" y=\"-280.3\">input:</text>\n",
       "<polyline fill=\"none\" points=\"359.5,-272.5 414.5,-272.5 \" stroke=\"black\"/>\n",
       "<text font-family=\"Times,serif\" font-size=\"14.00\" text-anchor=\"middle\" x=\"387\" y=\"-257.3\">output:</text>\n",
       "<polyline fill=\"none\" points=\"414.5,-249.5 414.5,-295.5 \" stroke=\"black\"/>\n",
       "<text font-family=\"Times,serif\" font-size=\"14.00\" text-anchor=\"middle\" x=\"456\" y=\"-280.3\">(None, 21)</text>\n",
       "<polyline fill=\"none\" points=\"414.5,-272.5 497.5,-272.5 \" stroke=\"black\"/>\n",
       "<text font-family=\"Times,serif\" font-size=\"14.00\" text-anchor=\"middle\" x=\"456\" y=\"-257.3\">(None, 100)</text>\n",
       "</g>\n",
       "<!-- 140504679210400&#45;&gt;140504679068728 -->\n",
       "<g class=\"edge\" id=\"edge9\"><title>140504679210400-&gt;140504679068728</title>\n",
       "<path d=\"M351,-332.366C351,-324.152 351,-314.658 351,-305.725\" fill=\"none\" stroke=\"black\"/>\n",
       "<polygon fill=\"black\" points=\"354.5,-305.607 351,-295.607 347.5,-305.607 354.5,-305.607\" stroke=\"black\"/>\n",
       "</g>\n",
       "<!-- 140505023719240 -->\n",
       "<g class=\"node\" id=\"node11\"><title>140505023719240</title>\n",
       "<polygon fill=\"none\" points=\"204.5,-166.5 204.5,-212.5 497.5,-212.5 497.5,-166.5 204.5,-166.5\" stroke=\"black\"/>\n",
       "<text font-family=\"Times,serif\" font-size=\"14.00\" text-anchor=\"middle\" x=\"282\" y=\"-185.8\">FullyConnected-2: Dense</text>\n",
       "<polyline fill=\"none\" points=\"359.5,-166.5 359.5,-212.5 \" stroke=\"black\"/>\n",
       "<text font-family=\"Times,serif\" font-size=\"14.00\" text-anchor=\"middle\" x=\"387\" y=\"-197.3\">input:</text>\n",
       "<polyline fill=\"none\" points=\"359.5,-189.5 414.5,-189.5 \" stroke=\"black\"/>\n",
       "<text font-family=\"Times,serif\" font-size=\"14.00\" text-anchor=\"middle\" x=\"387\" y=\"-174.3\">output:</text>\n",
       "<polyline fill=\"none\" points=\"414.5,-166.5 414.5,-212.5 \" stroke=\"black\"/>\n",
       "<text font-family=\"Times,serif\" font-size=\"14.00\" text-anchor=\"middle\" x=\"456\" y=\"-197.3\">(None, 100)</text>\n",
       "<polyline fill=\"none\" points=\"414.5,-189.5 497.5,-189.5 \" stroke=\"black\"/>\n",
       "<text font-family=\"Times,serif\" font-size=\"14.00\" text-anchor=\"middle\" x=\"456\" y=\"-174.3\">(None, 50)</text>\n",
       "</g>\n",
       "<!-- 140504679068728&#45;&gt;140505023719240 -->\n",
       "<g class=\"edge\" id=\"edge10\"><title>140504679068728-&gt;140505023719240</title>\n",
       "<path d=\"M351,-249.366C351,-241.152 351,-231.658 351,-222.725\" fill=\"none\" stroke=\"black\"/>\n",
       "<polygon fill=\"black\" points=\"354.5,-222.607 351,-212.607 347.5,-222.607 354.5,-222.607\" stroke=\"black\"/>\n",
       "</g>\n",
       "<!-- 140504678512624 -->\n",
       "<g class=\"node\" id=\"node12\"><title>140504678512624</title>\n",
       "<polygon fill=\"none\" points=\"208,-83.5 208,-129.5 494,-129.5 494,-83.5 208,-83.5\" stroke=\"black\"/>\n",
       "<text font-family=\"Times,serif\" font-size=\"14.00\" text-anchor=\"middle\" x=\"285.5\" y=\"-102.8\">FullyConnected-3: Dense</text>\n",
       "<polyline fill=\"none\" points=\"363,-83.5 363,-129.5 \" stroke=\"black\"/>\n",
       "<text font-family=\"Times,serif\" font-size=\"14.00\" text-anchor=\"middle\" x=\"390.5\" y=\"-114.3\">input:</text>\n",
       "<polyline fill=\"none\" points=\"363,-106.5 418,-106.5 \" stroke=\"black\"/>\n",
       "<text font-family=\"Times,serif\" font-size=\"14.00\" text-anchor=\"middle\" x=\"390.5\" y=\"-91.3\">output:</text>\n",
       "<polyline fill=\"none\" points=\"418,-83.5 418,-129.5 \" stroke=\"black\"/>\n",
       "<text font-family=\"Times,serif\" font-size=\"14.00\" text-anchor=\"middle\" x=\"456\" y=\"-114.3\">(None, 50)</text>\n",
       "<polyline fill=\"none\" points=\"418,-106.5 494,-106.5 \" stroke=\"black\"/>\n",
       "<text font-family=\"Times,serif\" font-size=\"14.00\" text-anchor=\"middle\" x=\"456\" y=\"-91.3\">(None, 20)</text>\n",
       "</g>\n",
       "<!-- 140505023719240&#45;&gt;140504678512624 -->\n",
       "<g class=\"edge\" id=\"edge11\"><title>140505023719240-&gt;140504678512624</title>\n",
       "<path d=\"M351,-166.366C351,-158.152 351,-148.658 351,-139.725\" fill=\"none\" stroke=\"black\"/>\n",
       "<polygon fill=\"black\" points=\"354.5,-139.607 351,-129.607 347.5,-139.607 354.5,-139.607\" stroke=\"black\"/>\n",
       "</g>\n",
       "<!-- 140504678510888 -->\n",
       "<g class=\"node\" id=\"node13\"><title>140504678510888</title>\n",
       "<polygon fill=\"none\" points=\"228,-0.5 228,-46.5 474,-46.5 474,-0.5 228,-0.5\" stroke=\"black\"/>\n",
       "<text font-family=\"Times,serif\" font-size=\"14.00\" text-anchor=\"middle\" x=\"285.5\" y=\"-19.8\">Activation: Dense</text>\n",
       "<polyline fill=\"none\" points=\"343,-0.5 343,-46.5 \" stroke=\"black\"/>\n",
       "<text font-family=\"Times,serif\" font-size=\"14.00\" text-anchor=\"middle\" x=\"370.5\" y=\"-31.3\">input:</text>\n",
       "<polyline fill=\"none\" points=\"343,-23.5 398,-23.5 \" stroke=\"black\"/>\n",
       "<text font-family=\"Times,serif\" font-size=\"14.00\" text-anchor=\"middle\" x=\"370.5\" y=\"-8.3\">output:</text>\n",
       "<polyline fill=\"none\" points=\"398,-0.5 398,-46.5 \" stroke=\"black\"/>\n",
       "<text font-family=\"Times,serif\" font-size=\"14.00\" text-anchor=\"middle\" x=\"436\" y=\"-31.3\">(None, 20)</text>\n",
       "<polyline fill=\"none\" points=\"398,-23.5 474,-23.5 \" stroke=\"black\"/>\n",
       "<text font-family=\"Times,serif\" font-size=\"14.00\" text-anchor=\"middle\" x=\"436\" y=\"-8.3\">(None, 1)</text>\n",
       "</g>\n",
       "<!-- 140504678512624&#45;&gt;140504678510888 -->\n",
       "<g class=\"edge\" id=\"edge12\"><title>140504678512624-&gt;140504678510888</title>\n",
       "<path d=\"M351,-83.3664C351,-75.1516 351,-65.6579 351,-56.7252\" fill=\"none\" stroke=\"black\"/>\n",
       "<polygon fill=\"black\" points=\"354.5,-56.6068 351,-46.6068 347.5,-56.6069 354.5,-56.6068\" stroke=\"black\"/>\n",
       "</g>\n",
       "</g>\n",
       "</svg>"
      ],
      "text/plain": [
       "<IPython.core.display.SVG object>"
      ]
     },
     "execution_count": 41,
     "metadata": {},
     "output_type": "execute_result"
    }
   ],
   "source": [
    "SVG(model_to_dot(model,  show_shapes=True, show_layer_names=True, rankdir='HB').create(prog='dot', format='svg'))"
   ]
  },
  {
   "cell_type": "code",
   "execution_count": 42,
   "metadata": {},
   "outputs": [
    {
     "name": "stdout",
     "output_type": "stream",
     "text": [
      "__________________________________________________________________________________________________\n",
      "Layer (type)                    Output Shape         Param #     Connected to                     \n",
      "==================================================================================================\n",
      "Item (InputLayer)               (None, 1)            0                                            \n",
      "__________________________________________________________________________________________________\n",
      "User (InputLayer)               (None, 1)            0                                            \n",
      "__________________________________________________________________________________________________\n",
      "Movie-Embedding (Embedding)     (None, 1, 16)        26928       Item[0][0]                       \n",
      "__________________________________________________________________________________________________\n",
      "User-Embedding (Embedding)      (None, 1, 5)         4720        User[0][0]                       \n",
      "__________________________________________________________________________________________________\n",
      "FlattenMovies (Flatten)         (None, 16)           0           Movie-Embedding[0][0]            \n",
      "__________________________________________________________________________________________________\n",
      "FlattenUsers (Flatten)          (None, 5)            0           User-Embedding[0][0]             \n",
      "__________________________________________________________________________________________________\n",
      "dropout_4 (Dropout)             (None, 16)           0           FlattenMovies[0][0]              \n",
      "__________________________________________________________________________________________________\n",
      "dropout_5 (Dropout)             (None, 5)            0           FlattenUsers[0][0]               \n",
      "__________________________________________________________________________________________________\n",
      "Concat (Merge)                  (None, 21)           0           dropout_4[0][0]                  \n",
      "                                                                 dropout_5[0][0]                  \n",
      "__________________________________________________________________________________________________\n",
      "FullyConnected-1 (Dense)        (None, 100)          2200        Concat[0][0]                     \n",
      "__________________________________________________________________________________________________\n",
      "FullyConnected-2 (Dense)        (None, 50)           5050        FullyConnected-1[0][0]           \n",
      "__________________________________________________________________________________________________\n",
      "FullyConnected-3 (Dense)        (None, 20)           1020        FullyConnected-2[0][0]           \n",
      "__________________________________________________________________________________________________\n",
      "Activation (Dense)              (None, 1)            21          FullyConnected-3[0][0]           \n",
      "==================================================================================================\n",
      "Total params: 39,939\n",
      "Trainable params: 39,939\n",
      "Non-trainable params: 0\n",
      "__________________________________________________________________________________________________\n"
     ]
    }
   ],
   "source": [
    "model.summary()"
   ]
  },
  {
   "cell_type": "markdown",
   "metadata": {},
   "source": [
    "可以看出神经网络参数数量是比矩阵分解更多。"
   ]
  },
  {
   "cell_type": "code",
   "execution_count": 43,
   "metadata": {},
   "outputs": [
    {
     "name": "stdout",
     "output_type": "stream",
     "text": [
      "CPU times: user 37min 29s, sys: 10min 3s, total: 47min 33s\n",
      "Wall time: 18min 48s\n"
     ]
    }
   ],
   "source": [
    "%%time\n",
    "history = model.fit([train.user_id, train.item_id], train.rating, epochs=250, verbose=0)"
   ]
  },
  {
   "cell_type": "code",
   "execution_count": 44,
   "metadata": {},
   "outputs": [
    {
     "name": "stdout",
     "output_type": "stream",
     "text": [
      "0.7043\n",
      "0.7244044695734978\n"
     ]
    }
   ],
   "source": [
    "y_hat_2 = np.round(model.predict([test.user_id, test.item_id]),0)\n",
    "print(mean_absolute_error(y_true, y_hat_2))\n",
    "\n",
    "print(mean_absolute_error(y_true, model.predict([test.user_id, test.item_id])))"
   ]
  },
  {
   "cell_type": "markdown",
   "metadata": {},
   "source": [
    "上述结果与之前的矩阵分解模型其实很接近，可能的原因是对于神经网络我们需要进一步调参。"
   ]
  },
  {
   "cell_type": "markdown",
   "metadata": {},
   "source": [
    "## 神经网络调参"
   ]
  },
  {
   "cell_type": "code",
   "execution_count": null,
   "metadata": {
    "collapsed": true
   },
   "outputs": [],
   "source": [
    "尝试调整用户和电影嵌入矩阵的维度。\n",
    "发现n_latent_factors_movie从8调整为16后，mean_absolute_error结果值是变大了。"
   ]
  },
  {
   "cell_type": "markdown",
   "metadata": {},
   "source": [
    "参考资料：\n",
    "https://nipunbatra.github.io/blog/2017/recommend-keras.html"
   ]
  }
 ],
 "metadata": {
  "kernelspec": {
   "display_name": "Python 3",
   "language": "python",
   "name": "python3"
  },
  "language_info": {
   "codemirror_mode": {
    "name": "ipython",
    "version": 3
   },
   "file_extension": ".py",
   "mimetype": "text/x-python",
   "name": "python",
   "nbconvert_exporter": "python",
   "pygments_lexer": "ipython3",
   "version": "3.5.4"
  }
 },
 "nbformat": 4,
 "nbformat_minor": 2
}

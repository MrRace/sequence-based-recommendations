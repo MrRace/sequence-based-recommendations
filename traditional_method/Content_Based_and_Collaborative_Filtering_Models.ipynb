{
 "cells": [
  {
   "cell_type": "markdown",
   "metadata": {},
   "source": [
    "# Movie Recommendation with Content-Based and Collaborative Filtering\n",
    "\n",
    "In this notebook, I will attempt at implementing these two systems to recommend movies and evaluate them to see which one performs better.\n",
    "\n",
    "After reading this post you will know:\n",
    "\n",
    "* About the MovieLens dataset problem for recommender system.\n",
    "* How to load and process the data.\n",
    "* How to do exploratory data analysis.\n",
    "* The 2 different types of recommendation engines.\n",
    "* How to develop a content-based recommendation model based on movie genres.\n",
    "* How to develop a collaborative filtering model based on user ratings.\n",
    "* Alternative approach to improve existing models.\n",
    "\n",
    "Let’s get started."
   ]
  },
  {
   "cell_type": "markdown",
   "metadata": {},
   "source": [
    "## The MovieLens Dataset\n",
    "One of the most common datasets that is available on the internet for building a Recommender System is the [MovieLens DataSet](https://grouplens.org/datasets/movielens/). This version of the dataset that I'm working with ([1M](https://grouplens.org/datasets/movielens/1m/)) contains 1,000,209 anonymous ratings of approximately 3,900 movies made by 6,040 MovieLens users who joined MovieLens in 2000.\n",
    "\n",
    "The data was collected by GroupLens researchers over various periods of time, depending on the size of the set. This 1M version was released on February 2003. Users were selected at random for inclusion. All users selected had rated at least 20 movies. Each user is represented by an id, and no other information is provided.\n",
    "\n",
    "The original data are contained in three files, [movies.dat](https://github.com/khanhnamle1994/movielens/blob/master/dat/movies.dat), [ratings.dat](https://github.com/khanhnamle1994/movielens/blob/master/dat/ratings.dat) and [users.dat](https://github.com/khanhnamle1994/movielens/blob/master/dat/users.dat). To make it easier to work with the data, I converted them into csv files. The process can be viewed in my [Data Processing Notebook](https://github.com/khanhnamle1994/movielens/blob/master/Data_Processing.ipynb).\n",
    "\n",
    "![movielens](images/movielens.jpg)"
   ]
  },
  {
   "cell_type": "markdown",
   "metadata": {},
   "source": [
    "## Data Preparation\n",
    "Let's load this data into Python. I will load the dataset with Pandas onto Dataframes **ratings**, **users**, and **movies**. Before that, I'll also pass in column names for each CSV and read them using pandas (the column names are available in the [Readme](https://github.com/khanhnamle1994/movielens/blob/master/README.md) file)."
   ]
  },
  {
   "cell_type": "code",
   "execution_count": 1,
   "metadata": {},
   "outputs": [],
   "source": [
    "import pandas as pd\n",
    "import numpy as np\n",
    "import matplotlib.pyplot as plt\n",
    "\n",
    "# Reading ratings file\n",
    "# Ignore the timestamp column\n",
    "process_file = \"processed_data/\"\n",
    "ratings_file = process_file + 'ratings.csv'\n",
    "ratings = pd.read_csv(ratings_file, sep='\\t', encoding='latin-1', usecols=['user_id', 'movie_id', 'rating'])\n",
    "\n",
    "# Reading users file\n",
    "users_file = process_file + 'users.csv'\n",
    "users = pd.read_csv(users_file, sep='\\t', encoding='latin-1', usecols=['user_id', 'gender', 'zipcode', 'age_desc', 'occ_desc'])\n",
    "\n"
   ]
  },
  {
   "cell_type": "code",
   "execution_count": 189,
   "metadata": {},
   "outputs": [],
   "source": [
    "# Reading movies file\n",
    "movies_file = process_file + 'movies.csv'\n",
    "movies = pd.read_csv(movies_file, sep='\\t', encoding='latin-1', usecols=['movie_id', 'title', 'genres'])"
   ]
  },
  {
   "cell_type": "code",
   "execution_count": 191,
   "metadata": {},
   "outputs": [
    {
     "data": {
      "text/plain": [
       "pandas.core.frame.DataFrame"
      ]
     },
     "execution_count": 191,
     "metadata": {},
     "output_type": "execute_result"
    }
   ],
   "source": [
    "type(movies)"
   ]
  },
  {
   "cell_type": "markdown",
   "metadata": {},
   "source": [
    "Now lets take a peak into the content of each file to understand them better.\n",
    "\n",
    "### Ratings Dataset"
   ]
  },
  {
   "cell_type": "code",
   "execution_count": 2,
   "metadata": {},
   "outputs": [
    {
     "name": "stdout",
     "output_type": "stream",
     "text": [
      "   user_id  movie_id  rating\n",
      "0        1      1193       5\n",
      "1        1       661       3\n",
      "2        1       914       3\n",
      "3        1      3408       4\n",
      "4        1      2355       5\n"
     ]
    }
   ],
   "source": [
    "# Check the top 5 rows\n",
    "print(ratings.head())"
   ]
  },
  {
   "cell_type": "code",
   "execution_count": 3,
   "metadata": {},
   "outputs": [
    {
     "name": "stdout",
     "output_type": "stream",
     "text": [
      "<class 'pandas.core.frame.DataFrame'>\n",
      "RangeIndex: 1000209 entries, 0 to 1000208\n",
      "Data columns (total 3 columns):\n",
      "user_id     1000209 non-null int64\n",
      "movie_id    1000209 non-null int64\n",
      "rating      1000209 non-null int64\n",
      "dtypes: int64(3)\n",
      "memory usage: 22.9 MB\n",
      "None\n"
     ]
    }
   ],
   "source": [
    "# Check the file info\n",
    "print(ratings.info())"
   ]
  },
  {
   "cell_type": "code",
   "execution_count": 4,
   "metadata": {},
   "outputs": [
    {
     "name": "stdout",
     "output_type": "stream",
     "text": [
      "1000209\n"
     ]
    }
   ],
   "source": [
    "print(len(ratings))"
   ]
  },
  {
   "cell_type": "markdown",
   "metadata": {},
   "source": [
    "This confirms that there are 1M ratings for different user and movie combinations.\n",
    "\n",
    "### Users Dataset"
   ]
  },
  {
   "cell_type": "code",
   "execution_count": 5,
   "metadata": {},
   "outputs": [
    {
     "name": "stdout",
     "output_type": "stream",
     "text": [
      "   user_id gender zipcode  age_desc              occ_desc\n",
      "0        1      F   48067  Under 18          K-12 student\n",
      "1        2      M   70072       56+         self-employed\n",
      "2        3      M   55117     25-34             scientist\n",
      "3        4      M   02460     45-49  executive/managerial\n",
      "4        5      M   55455     25-34                writer\n"
     ]
    }
   ],
   "source": [
    "# Check the top 5 rows\n",
    "print(users.head())"
   ]
  },
  {
   "cell_type": "code",
   "execution_count": 6,
   "metadata": {},
   "outputs": [
    {
     "name": "stdout",
     "output_type": "stream",
     "text": [
      "<class 'pandas.core.frame.DataFrame'>\n",
      "RangeIndex: 6040 entries, 0 to 6039\n",
      "Data columns (total 5 columns):\n",
      "user_id     6040 non-null int64\n",
      "gender      6040 non-null object\n",
      "zipcode     6040 non-null object\n",
      "age_desc    6040 non-null object\n",
      "occ_desc    6040 non-null object\n",
      "dtypes: int64(1), object(4)\n",
      "memory usage: 236.0+ KB\n",
      "None\n"
     ]
    }
   ],
   "source": [
    "# Check the file info\n",
    "print(users.info())"
   ]
  },
  {
   "cell_type": "code",
   "execution_count": 7,
   "metadata": {},
   "outputs": [
    {
     "name": "stdout",
     "output_type": "stream",
     "text": [
      "6040\n"
     ]
    }
   ],
   "source": [
    "print(len(users))"
   ]
  },
  {
   "cell_type": "markdown",
   "metadata": {},
   "source": [
    "This confirms that there are 6040 users and we have 5 features for each (unique user ID, gender, age, occupation and the zip code they are living in).\n",
    "\n",
    "### Movies Dataset"
   ]
  },
  {
   "cell_type": "code",
   "execution_count": 8,
   "metadata": {},
   "outputs": [
    {
     "name": "stdout",
     "output_type": "stream",
     "text": [
      "   movie_id                               title                        genres\n",
      "0         1                    Toy Story (1995)   Animation|Children's|Comedy\n",
      "1         2                      Jumanji (1995)  Adventure|Children's|Fantasy\n",
      "2         3             Grumpier Old Men (1995)                Comedy|Romance\n",
      "3         4            Waiting to Exhale (1995)                  Comedy|Drama\n",
      "4         5  Father of the Bride Part II (1995)                        Comedy\n"
     ]
    }
   ],
   "source": [
    "# Check the top 5 rows\n",
    "print(movies.head())"
   ]
  },
  {
   "cell_type": "code",
   "execution_count": 9,
   "metadata": {},
   "outputs": [
    {
     "name": "stdout",
     "output_type": "stream",
     "text": [
      "<class 'pandas.core.frame.DataFrame'>\n",
      "RangeIndex: 3883 entries, 0 to 3882\n",
      "Data columns (total 3 columns):\n",
      "movie_id    3883 non-null int64\n",
      "title       3883 non-null object\n",
      "genres      3883 non-null object\n",
      "dtypes: int64(1), object(2)\n",
      "memory usage: 91.1+ KB\n",
      "None\n"
     ]
    }
   ],
   "source": [
    "# Check the file info\n",
    "print(movies.info())"
   ]
  },
  {
   "cell_type": "code",
   "execution_count": 10,
   "metadata": {},
   "outputs": [
    {
     "name": "stdout",
     "output_type": "stream",
     "text": [
      "3883\n"
     ]
    }
   ],
   "source": [
    "print(len(movies))"
   ]
  },
  {
   "cell_type": "markdown",
   "metadata": {},
   "source": [
    "This dataset contains attributes of the 3883 movies. There are 3 columns including the movie ID, their titles, and their genres. Genres are pipe-separated and are selected from 18 genres (Action, Adventure, Animation, Children's, Comedy, Crime, Documentary, Drama, Fantasy, Film-Noir, Horror, Musical, Mystery, Romance, Sci-Fi, Thriller, War, Western)."
   ]
  },
  {
   "cell_type": "markdown",
   "metadata": {},
   "source": [
    "## Data Exploration\n",
    "### Titles\n",
    "Are there certain words that feature more often in Movie Titles? I'll attempt to figure this out using a word-cloud visualization."
   ]
  },
  {
   "cell_type": "code",
   "execution_count": 11,
   "metadata": {},
   "outputs": [
    {
     "data": {
      "image/png": "[encoded data removed]",
      "text/plain": [
       "<matplotlib.figure.Figure at 0x8348f98>"
      ]
     },
     "metadata": {},
     "output_type": "display_data"
    }
   ],
   "source": [
    "# Import new libraries\n",
    "%matplotlib inline\n",
    "import wordcloud\n",
    "from wordcloud import WordCloud, STOPWORDS\n",
    "\n",
    "# Create a wordcloud of the movie titles\n",
    "movies['title'] = movies['title'].fillna(\"\").astype('str')\n",
    "title_corpus = ' '.join(movies['title'])\n",
    "title_wordcloud = WordCloud(stopwords=STOPWORDS, background_color='black', height=2000, width=4000).generate(title_corpus)\n",
    "\n",
    "# Plot the wordcloud\n",
    "plt.figure(figsize=(16,8))\n",
    "plt.imshow(title_wordcloud)\n",
    "plt.axis('off')\n",
    "plt.show()"
   ]
  },
  {
   "cell_type": "markdown",
   "metadata": {},
   "source": [
    "Beautiful, isn't it? I can recognize that there are a lot of movie franchises in this dataset, as evidenced by words like *II* and *III*... In addition to that, *Day*, *Love*, *Life*, *Time*, *Night*, *Man*, *Dead*, *American* are among the most commonly occuring words.\n",
    "\n",
    "### Ratings\n",
    "Next I want to examine the **rating** further. Let's take a look at its summary statistics and distribution."
   ]
  },
  {
   "cell_type": "code",
   "execution_count": 12,
   "metadata": {},
   "outputs": [
    {
     "data": {
      "text/plain": [
       "count    1.000209e+06\n",
       "mean     3.581564e+00\n",
       "std      1.117102e+00\n",
       "min      1.000000e+00\n",
       "25%      3.000000e+00\n",
       "50%      4.000000e+00\n",
       "75%      4.000000e+00\n",
       "max      5.000000e+00\n",
       "Name: rating, dtype: float64"
      ]
     },
     "execution_count": 12,
     "metadata": {},
     "output_type": "execute_result"
    }
   ],
   "source": [
    "# Get summary statistics of rating\n",
    "ratings['rating'].describe()"
   ]
  },
  {
   "cell_type": "code",
   "execution_count": 14,
   "metadata": {},
   "outputs": [
    {
     "data": {
      "text/plain": [
       "<matplotlib.axes._subplots.AxesSubplot at 0x9b812e8>"
      ]
     },
     "execution_count": 14,
     "metadata": {},
     "output_type": "execute_result"
    },
    {
     "data": {
      "image/png": "[encoded data removed]",
      "text/plain": [
       "<matplotlib.figure.Figure at 0x9130c50>"
      ]
     },
     "metadata": {},
     "output_type": "display_data"
    }
   ],
   "source": [
    "# seaborn与matlotlib同出一源，只是把matplotlib进行了封装，让许多方法调用时变得更加简便\n",
    "# Import seaborn library\n",
    "import seaborn as sns\n",
    "sns.set_style('whitegrid')\n",
    "sns.set(font_scale=1.5)\n",
    "%matplotlib inline\n",
    "\n",
    "# Display distribution of rating\n",
    "sns.distplot(ratings['rating'].fillna(ratings['rating'].median()))"
   ]
  },
  {
   "cell_type": "markdown",
   "metadata": {},
   "source": [
    "从上述结果可以看出评分均值大概是3.58。一半以上的用户给出的打分是4或者5分。可能是因为大家不挑剔，或者好好先生的心态。这也可能是用户的打分风格和心态不同，比如A童鞋常常用4分来表示自己心里的平均分，但是B童鞋可能只有真的喜欢的时候才给出4分。每个用户都对20部以上的电影打过分，这样的话，用户的喜好因素可能更大了，所以，本文的数据可能是偶然的了。后续再找其他数据，重新做一次。"
   ]
  },
  {
   "cell_type": "markdown",
   "metadata": {},
   "source": [
    "我们进一步看看评分最高的20部电影。"
   ]
  },
  {
   "cell_type": "code",
   "execution_count": 16,
   "metadata": {},
   "outputs": [
    {
     "name": "stdout",
     "output_type": "stream",
     "text": [
      "   movie_id                                      title  \\\n",
      "0         1                           Toy Story (1995)   \n",
      "1        48                          Pocahontas (1995)   \n",
      "2       150                           Apollo 13 (1995)   \n",
      "3       260  Star Wars: Episode IV - A New Hope (1977)   \n",
      "4       527                    Schindler's List (1993)   \n",
      "\n",
      "                                 genres  user_id  rating gender zipcode  \\\n",
      "0           Animation|Children's|Comedy        1       5      F   48067   \n",
      "1  Animation|Children's|Musical|Romance        1       5      F   48067   \n",
      "2                                 Drama        1       5      F   48067   \n",
      "3       Action|Adventure|Fantasy|Sci-Fi        1       4      F   48067   \n",
      "4                             Drama|War        1       5      F   48067   \n",
      "\n",
      "   age_desc      occ_desc  \n",
      "0  Under 18  K-12 student  \n",
      "1  Under 18  K-12 student  \n",
      "2  Under 18  K-12 student  \n",
      "3  Under 18  K-12 student  \n",
      "4  Under 18  K-12 student  \n"
     ]
    }
   ],
   "source": [
    "# Join all 3 files into one dataframe\n",
    "dataset = pd.merge(pd.merge(movies, ratings),users)\n",
    "# 默认是inner内连接\n",
    "print(dataset.head())"
   ]
  },
  {
   "cell_type": "code",
   "execution_count": 20,
   "metadata": {},
   "outputs": [
    {
     "name": "stdout",
     "output_type": "stream",
     "text": [
      "1000209\n"
     ]
    }
   ],
   "source": [
    "print(len(dataset[['title','genres','rating']].sort_values('rating', ascending=False)))"
   ]
  },
  {
   "cell_type": "markdown",
   "metadata": {},
   "source": [
    "简单查看："
   ]
  },
  {
   "cell_type": "code",
   "execution_count": 124,
   "metadata": {},
   "outputs": [
    {
     "data": {
      "text/html": [
       "<div>\n",
       "<style scoped>\n",
       "    .dataframe tbody tr th:only-of-type {\n",
       "        vertical-align: middle;\n",
       "    }\n",
       "\n",
       "    .dataframe tbody tr th {\n",
       "        vertical-align: top;\n",
       "    }\n",
       "\n",
       "    .dataframe thead th {\n",
       "        text-align: right;\n",
       "    }\n",
       "</style>\n",
       "<table border=\"1\" class=\"dataframe\">\n",
       "  <thead>\n",
       "    <tr style=\"text-align: right;\">\n",
       "      <th></th>\n",
       "      <th>title</th>\n",
       "      <th>genres</th>\n",
       "      <th>rating</th>\n",
       "    </tr>\n",
       "  </thead>\n",
       "  <tbody>\n",
       "    <tr>\n",
       "      <th>0</th>\n",
       "      <td>Toy Story (1995)</td>\n",
       "      <td>Animation|Children's|Comedy</td>\n",
       "      <td>5</td>\n",
       "    </tr>\n",
       "    <tr>\n",
       "      <th>489283</th>\n",
       "      <td>American Beauty (1999)</td>\n",
       "      <td>Comedy|Drama</td>\n",
       "      <td>5</td>\n",
       "    </tr>\n",
       "    <tr>\n",
       "      <th>489259</th>\n",
       "      <td>Election (1999)</td>\n",
       "      <td>Comedy</td>\n",
       "      <td>5</td>\n",
       "    </tr>\n",
       "    <tr>\n",
       "      <th>489257</th>\n",
       "      <td>Matrix, The (1999)</td>\n",
       "      <td>Action|Sci-Fi|Thriller</td>\n",
       "      <td>5</td>\n",
       "    </tr>\n",
       "    <tr>\n",
       "      <th>489256</th>\n",
       "      <td>Dead Ringers (1988)</td>\n",
       "      <td>Drama|Thriller</td>\n",
       "      <td>5</td>\n",
       "    </tr>\n",
       "    <tr>\n",
       "      <th>489237</th>\n",
       "      <td>Rushmore (1998)</td>\n",
       "      <td>Comedy</td>\n",
       "      <td>5</td>\n",
       "    </tr>\n",
       "    <tr>\n",
       "      <th>489236</th>\n",
       "      <td>Simple Plan, A (1998)</td>\n",
       "      <td>Crime|Thriller</td>\n",
       "      <td>5</td>\n",
       "    </tr>\n",
       "    <tr>\n",
       "      <th>489226</th>\n",
       "      <td>Hands on a Hard Body (1996)</td>\n",
       "      <td>Documentary</td>\n",
       "      <td>5</td>\n",
       "    </tr>\n",
       "    <tr>\n",
       "      <th>489224</th>\n",
       "      <td>Pleasantville (1998)</td>\n",
       "      <td>Comedy</td>\n",
       "      <td>5</td>\n",
       "    </tr>\n",
       "    <tr>\n",
       "      <th>489212</th>\n",
       "      <td>Say Anything... (1989)</td>\n",
       "      <td>Comedy|Drama|Romance</td>\n",
       "      <td>5</td>\n",
       "    </tr>\n",
       "    <tr>\n",
       "      <th>489207</th>\n",
       "      <td>Beetlejuice (1988)</td>\n",
       "      <td>Comedy|Fantasy</td>\n",
       "      <td>5</td>\n",
       "    </tr>\n",
       "    <tr>\n",
       "      <th>489190</th>\n",
       "      <td>Roger &amp; Me (1989)</td>\n",
       "      <td>Comedy|Documentary</td>\n",
       "      <td>5</td>\n",
       "    </tr>\n",
       "    <tr>\n",
       "      <th>489172</th>\n",
       "      <td>Buffalo 66 (1998)</td>\n",
       "      <td>Action|Comedy|Drama</td>\n",
       "      <td>5</td>\n",
       "    </tr>\n",
       "    <tr>\n",
       "      <th>489171</th>\n",
       "      <td>Out of Sight (1998)</td>\n",
       "      <td>Action|Crime|Romance</td>\n",
       "      <td>5</td>\n",
       "    </tr>\n",
       "    <tr>\n",
       "      <th>489170</th>\n",
       "      <td>I Went Down (1997)</td>\n",
       "      <td>Action|Comedy|Crime</td>\n",
       "      <td>5</td>\n",
       "    </tr>\n",
       "    <tr>\n",
       "      <th>489168</th>\n",
       "      <td>Opposite of Sex, The (1998)</td>\n",
       "      <td>Comedy|Drama</td>\n",
       "      <td>5</td>\n",
       "    </tr>\n",
       "    <tr>\n",
       "      <th>489157</th>\n",
       "      <td>Good Will Hunting (1997)</td>\n",
       "      <td>Drama</td>\n",
       "      <td>5</td>\n",
       "    </tr>\n",
       "    <tr>\n",
       "      <th>489152</th>\n",
       "      <td>Fast, Cheap &amp; Out of Control (1997)</td>\n",
       "      <td>Documentary</td>\n",
       "      <td>5</td>\n",
       "    </tr>\n",
       "    <tr>\n",
       "      <th>489149</th>\n",
       "      <td>L.A. Confidential (1997)</td>\n",
       "      <td>Crime|Film-Noir|Mystery|Thriller</td>\n",
       "      <td>5</td>\n",
       "    </tr>\n",
       "    <tr>\n",
       "      <th>489145</th>\n",
       "      <td>Contact (1997)</td>\n",
       "      <td>Drama|Sci-Fi</td>\n",
       "      <td>5</td>\n",
       "    </tr>\n",
       "  </tbody>\n",
       "</table>\n",
       "</div>"
      ],
      "text/plain": [
       "                                      title                            genres  \\\n",
       "0                          Toy Story (1995)       Animation|Children's|Comedy   \n",
       "489283               American Beauty (1999)                      Comedy|Drama   \n",
       "489259                      Election (1999)                            Comedy   \n",
       "489257                   Matrix, The (1999)            Action|Sci-Fi|Thriller   \n",
       "489256                  Dead Ringers (1988)                    Drama|Thriller   \n",
       "489237                      Rushmore (1998)                            Comedy   \n",
       "489236                Simple Plan, A (1998)                    Crime|Thriller   \n",
       "489226          Hands on a Hard Body (1996)                       Documentary   \n",
       "489224                 Pleasantville (1998)                            Comedy   \n",
       "489212               Say Anything... (1989)              Comedy|Drama|Romance   \n",
       "489207                   Beetlejuice (1988)                    Comedy|Fantasy   \n",
       "489190                    Roger & Me (1989)                Comedy|Documentary   \n",
       "489172                    Buffalo 66 (1998)               Action|Comedy|Drama   \n",
       "489171                  Out of Sight (1998)              Action|Crime|Romance   \n",
       "489170                   I Went Down (1997)               Action|Comedy|Crime   \n",
       "489168          Opposite of Sex, The (1998)                      Comedy|Drama   \n",
       "489157             Good Will Hunting (1997)                             Drama   \n",
       "489152  Fast, Cheap & Out of Control (1997)                       Documentary   \n",
       "489149             L.A. Confidential (1997)  Crime|Film-Noir|Mystery|Thriller   \n",
       "489145                       Contact (1997)                      Drama|Sci-Fi   \n",
       "\n",
       "        rating  \n",
       "0            5  \n",
       "489283       5  \n",
       "489259       5  \n",
       "489257       5  \n",
       "489256       5  \n",
       "489237       5  \n",
       "489236       5  \n",
       "489226       5  \n",
       "489224       5  \n",
       "489212       5  \n",
       "489207       5  \n",
       "489190       5  \n",
       "489172       5  \n",
       "489171       5  \n",
       "489170       5  \n",
       "489168       5  \n",
       "489157       5  \n",
       "489152       5  \n",
       "489149       5  \n",
       "489145       5  "
      ]
     },
     "execution_count": 124,
     "metadata": {},
     "output_type": "execute_result"
    }
   ],
   "source": [
    "# Display 20 movies with highest ratings\n",
    "dataset[['title','genres','rating']].sort_values('rating', ascending=False).head(20)"
   ]
  },
  {
   "cell_type": "markdown",
   "metadata": {},
   "source": [
    "sort_values，根据某一列排序，原来的pd顺序没变，只是返回的是排序的结果。"
   ]
  },
  {
   "cell_type": "markdown",
   "metadata": {},
   "source": [
    "看下用户评分为5数量最多的电影的Top20"
   ]
  },
  {
   "cell_type": "code",
   "execution_count": 19,
   "metadata": {},
   "outputs": [
    {
     "name": "stdout",
     "output_type": "stream",
     "text": [
      "1000209\n"
     ]
    },
    {
     "data": {
      "text/plain": [
       "4    348971\n",
       "3    261197\n",
       "5    226310\n",
       "2    107557\n",
       "1     56174\n",
       "Name: rating, dtype: int64"
      ]
     },
     "execution_count": 19,
     "metadata": {},
     "output_type": "execute_result"
    }
   ],
   "source": [
    "print(len(dataset))#与打分的数量一致\n",
    "dataset['rating'].value_counts()"
   ]
  },
  {
   "cell_type": "code",
   "execution_count": 22,
   "metadata": {},
   "outputs": [],
   "source": [
    "# 需要先对评分为5的分组，统计评分人数最多的top20个电影\n",
    "rate_5 = dataset[dataset['rating']==5]"
   ]
  },
  {
   "cell_type": "code",
   "execution_count": 23,
   "metadata": {},
   "outputs": [
    {
     "name": "stdout",
     "output_type": "stream",
     "text": [
      "226310\n"
     ]
    }
   ],
   "source": [
    "print(len(rate_5))\n",
    "# 这个结果与之前的226310是一致的"
   ]
  },
  {
   "cell_type": "code",
   "execution_count": 70,
   "metadata": {},
   "outputs": [
    {
     "name": "stdout",
     "output_type": "stream",
     "text": [
      "movie_id\n",
      "1    820\n",
      "2     48\n",
      "3     43\n",
      "4      6\n",
      "5     16\n",
      "dtype: int64\n"
     ]
    }
   ],
   "source": [
    "# 按照电影id进行分组统计\n",
    "group_movie_id = rate_5.groupby('movie_id').size()\n",
    "print(group_movie_id.head())"
   ]
  },
  {
   "cell_type": "code",
   "execution_count": 71,
   "metadata": {},
   "outputs": [
    {
     "name": "stdout",
     "output_type": "stream",
     "text": [
      "820\n",
      "16\n"
     ]
    }
   ],
   "source": [
    "# 从原始数据来看，进行进一步验证\n",
    "print(len(ratings[(ratings['rating']==5) & (ratings['movie_id']==1)]))\n",
    "print(len(ratings[(ratings['rating']==5) & (ratings['movie_id']==5)]))"
   ]
  },
  {
   "cell_type": "code",
   "execution_count": null,
   "metadata": {},
   "outputs": [],
   "source": [
    "从上述两个结果可以看出，结果也是一致的。"
   ]
  },
  {
   "cell_type": "code",
   "execution_count": 83,
   "metadata": {},
   "outputs": [
    {
     "name": "stdout",
     "output_type": "stream",
     "text": [
      "<class 'pandas.core.series.Series'>\n",
      "3232\n",
      "None\n",
      "Int64Index([2044, 3881, 3522, 1501, 1502, 3883, 1519,  336, 1525,  331,\n",
      "            ...\n",
      "            2762, 2028, 2571,  318,  527,  858, 1196, 1198,  260, 2858],\n",
      "           dtype='int64', name='movie_id', length=3232)\n",
      "movie_id\n",
      "[   1    1    1 ..., 1500 1826 1963]\n",
      "<class 'numpy.ndarray'>\n"
     ]
    }
   ],
   "source": [
    "print(type(group_movie_id))\n",
    "print(len(group_movie_id))\n",
    "#print(group_movie_id.sort_index())\n",
    "print(group_movie_id.name)\n",
    "print(group_movie_id.index)\n",
    "print(group_movie_id.index.name)\n",
    "print(group_movie_id.values)\n",
    "print(type(group_movie_id.values))\n",
    "#temp_dict = dict(list(group_movie_id))"
   ]
  },
  {
   "cell_type": "code",
   "execution_count": 88,
   "metadata": {},
   "outputs": [
    {
     "name": "stdout",
     "output_type": "stream",
     "text": [
      "movie_id\n",
      "2858    1963\n",
      "260     1826\n",
      "1198    1500\n",
      "1196    1483\n",
      "858     1475\n",
      "dtype: int64\n"
     ]
    }
   ],
   "source": [
    "print(group_movie_id.sort_values(ascending=False).head())\n",
    "# 为啥不是按照value值排序？？"
   ]
  },
  {
   "cell_type": "code",
   "execution_count": 91,
   "metadata": {},
   "outputs": [
    {
     "name": "stdout",
     "output_type": "stream",
     "text": [
      "movie_id\n",
      "130     1\n",
      "3268    1\n",
      "2350    1\n",
      "3940    1\n",
      "2914    1\n",
      "2892    1\n",
      "2884    1\n",
      "2545    1\n",
      "114     1\n",
      "2552    1\n",
      "2911    1\n",
      "3216    1\n",
      "2923    1\n",
      "2368    1\n",
      "2555    1\n",
      "2358    1\n",
      "3303    1\n",
      "2557    1\n",
      "2386    1\n",
      "2044    1\n",
      "dtype: int64\n"
     ]
    }
   ],
   "source": [
    "print(group_movie_id.sort_values(ascending=False).tail(20))"
   ]
  },
  {
   "cell_type": "code",
   "execution_count": 93,
   "metadata": {},
   "outputs": [
    {
     "name": "stdout",
     "output_type": "stream",
     "text": [
      "1963\n",
      "1\n"
     ]
    }
   ],
   "source": [
    "# 进一步校验，movid=2858,评分为5出现的次数数1963\n",
    "print(len(ratings[(ratings['rating']==5) & (ratings['movie_id']==2858)]))\n",
    "print(len(ratings[(ratings['rating']==5) & (ratings['movie_id']==2386)]))"
   ]
  },
  {
   "cell_type": "markdown",
   "metadata": {},
   "source": [
    "可以看出，结果与预期也是一致的。"
   ]
  },
  {
   "cell_type": "code",
   "execution_count": 94,
   "metadata": {},
   "outputs": [
    {
     "name": "stdout",
     "output_type": "stream",
     "text": [
      "<class 'pandas.core.series.Series'>\n"
     ]
    }
   ],
   "source": [
    "# 显示top20的电影信息\n",
    "top_20_rate_5 = group_movie_id.sort_values(ascending=False).head(20)\n",
    "print(type(top_20_rate_5))"
   ]
  },
  {
   "cell_type": "code",
   "execution_count": 96,
   "metadata": {},
   "outputs": [],
   "source": [
    "moveid_set = set(top_20_rate_5.index)"
   ]
  },
  {
   "cell_type": "code",
   "execution_count": 101,
   "metadata": {},
   "outputs": [
    {
     "name": "stdout",
     "output_type": "stream",
     "text": [
      "{608, 260, 296, 1210, 2858, 2571, 1196, 2028, 1198, 527, 2762, 593, 110, 1197, 50, 1617, 2997, 858, 2396, 318}\n"
     ]
    }
   ],
   "source": [
    "print(moveid_set)"
   ]
  },
  {
   "cell_type": "code",
   "execution_count": 125,
   "metadata": {},
   "outputs": [
    {
     "name": "stdout",
     "output_type": "stream",
     "text": [
      "0     False\n",
      "1     False\n",
      "2     False\n",
      "3      True\n",
      "4      True\n",
      "5     False\n",
      "6     False\n",
      "7     False\n",
      "8     False\n",
      "9      True\n",
      "10    False\n",
      "11    False\n",
      "12    False\n",
      "13    False\n",
      "14    False\n",
      "15    False\n",
      "16    False\n",
      "17    False\n",
      "18    False\n",
      "19    False\n",
      "Name: movie_id, dtype: bool\n"
     ]
    }
   ],
   "source": [
    "print(dataset['movie_id'].isin(moveid_set).head(20))"
   ]
  },
  {
   "cell_type": "code",
   "execution_count": 104,
   "metadata": {},
   "outputs": [
    {
     "name": "stdout",
     "output_type": "stream",
     "text": [
      "49966\n"
     ]
    }
   ],
   "source": [
    "print(len(dataset[dataset['movie_id'].isin(moveid_set)]))"
   ]
  },
  {
   "cell_type": "code",
   "execution_count": 126,
   "metadata": {},
   "outputs": [
    {
     "data": {
      "text/html": [
       "<div>\n",
       "<style scoped>\n",
       "    .dataframe tbody tr th:only-of-type {\n",
       "        vertical-align: middle;\n",
       "    }\n",
       "\n",
       "    .dataframe tbody tr th {\n",
       "        vertical-align: top;\n",
       "    }\n",
       "\n",
       "    .dataframe thead th {\n",
       "        text-align: right;\n",
       "    }\n",
       "</style>\n",
       "<table border=\"1\" class=\"dataframe\">\n",
       "  <thead>\n",
       "    <tr style=\"text-align: right;\">\n",
       "      <th></th>\n",
       "      <th>movie_id</th>\n",
       "      <th>title</th>\n",
       "      <th>genres</th>\n",
       "      <th>user_id</th>\n",
       "      <th>rating</th>\n",
       "      <th>gender</th>\n",
       "      <th>zipcode</th>\n",
       "      <th>age_desc</th>\n",
       "      <th>occ_desc</th>\n",
       "    </tr>\n",
       "  </thead>\n",
       "  <tbody>\n",
       "    <tr>\n",
       "      <th>3</th>\n",
       "      <td>260</td>\n",
       "      <td>Star Wars: Episode IV - A New Hope (1977)</td>\n",
       "      <td>Action|Adventure|Fantasy|Sci-Fi</td>\n",
       "      <td>1</td>\n",
       "      <td>4</td>\n",
       "      <td>F</td>\n",
       "      <td>48067</td>\n",
       "      <td>Under 18</td>\n",
       "      <td>K-12 student</td>\n",
       "    </tr>\n",
       "    <tr>\n",
       "      <th>4</th>\n",
       "      <td>527</td>\n",
       "      <td>Schindler's List (1993)</td>\n",
       "      <td>Drama|War</td>\n",
       "      <td>1</td>\n",
       "      <td>5</td>\n",
       "      <td>F</td>\n",
       "      <td>48067</td>\n",
       "      <td>Under 18</td>\n",
       "      <td>K-12 student</td>\n",
       "    </tr>\n",
       "    <tr>\n",
       "      <th>9</th>\n",
       "      <td>608</td>\n",
       "      <td>Fargo (1996)</td>\n",
       "      <td>Crime|Drama|Thriller</td>\n",
       "      <td>1</td>\n",
       "      <td>4</td>\n",
       "      <td>F</td>\n",
       "      <td>48067</td>\n",
       "      <td>Under 18</td>\n",
       "      <td>K-12 student</td>\n",
       "    </tr>\n",
       "    <tr>\n",
       "      <th>23</th>\n",
       "      <td>1197</td>\n",
       "      <td>Princess Bride, The (1987)</td>\n",
       "      <td>Action|Adventure|Comedy|Romance</td>\n",
       "      <td>1</td>\n",
       "      <td>3</td>\n",
       "      <td>F</td>\n",
       "      <td>48067</td>\n",
       "      <td>Under 18</td>\n",
       "      <td>K-12 student</td>\n",
       "    </tr>\n",
       "    <tr>\n",
       "      <th>36</th>\n",
       "      <td>2028</td>\n",
       "      <td>Saving Private Ryan (1998)</td>\n",
       "      <td>Action|Drama|War</td>\n",
       "      <td>1</td>\n",
       "      <td>5</td>\n",
       "      <td>F</td>\n",
       "      <td>48067</td>\n",
       "      <td>Under 18</td>\n",
       "      <td>K-12 student</td>\n",
       "    </tr>\n",
       "  </tbody>\n",
       "</table>\n",
       "</div>"
      ],
      "text/plain": [
       "    movie_id                                      title  \\\n",
       "3        260  Star Wars: Episode IV - A New Hope (1977)   \n",
       "4        527                    Schindler's List (1993)   \n",
       "9        608                               Fargo (1996)   \n",
       "23      1197                 Princess Bride, The (1987)   \n",
       "36      2028                 Saving Private Ryan (1998)   \n",
       "\n",
       "                             genres  user_id  rating gender zipcode  age_desc  \\\n",
       "3   Action|Adventure|Fantasy|Sci-Fi        1       4      F   48067  Under 18   \n",
       "4                         Drama|War        1       5      F   48067  Under 18   \n",
       "9              Crime|Drama|Thriller        1       4      F   48067  Under 18   \n",
       "23  Action|Adventure|Comedy|Romance        1       3      F   48067  Under 18   \n",
       "36                 Action|Drama|War        1       5      F   48067  Under 18   \n",
       "\n",
       "        occ_desc  \n",
       "3   K-12 student  \n",
       "4   K-12 student  \n",
       "9   K-12 student  \n",
       "23  K-12 student  \n",
       "36  K-12 student  "
      ]
     },
     "execution_count": 126,
     "metadata": {},
     "output_type": "execute_result"
    }
   ],
   "source": [
    "dataset[dataset['movie_id'].isin(moveid_set)].head()"
   ]
  },
  {
   "cell_type": "code",
   "execution_count": 127,
   "metadata": {},
   "outputs": [
    {
     "data": {
      "text/html": [
       "<div>\n",
       "<style scoped>\n",
       "    .dataframe tbody tr th:only-of-type {\n",
       "        vertical-align: middle;\n",
       "    }\n",
       "\n",
       "    .dataframe tbody tr th {\n",
       "        vertical-align: top;\n",
       "    }\n",
       "\n",
       "    .dataframe thead th {\n",
       "        text-align: right;\n",
       "    }\n",
       "</style>\n",
       "<table border=\"1\" class=\"dataframe\">\n",
       "  <thead>\n",
       "    <tr style=\"text-align: right;\">\n",
       "      <th></th>\n",
       "      <th>title</th>\n",
       "      <th>genres</th>\n",
       "      <th>rating</th>\n",
       "    </tr>\n",
       "  </thead>\n",
       "  <tbody>\n",
       "    <tr>\n",
       "      <th>4</th>\n",
       "      <td>Schindler's List (1993)</td>\n",
       "      <td>Drama|War</td>\n",
       "      <td>5</td>\n",
       "    </tr>\n",
       "    <tr>\n",
       "      <th>36</th>\n",
       "      <td>Saving Private Ryan (1998)</td>\n",
       "      <td>Action|Drama|War</td>\n",
       "      <td>5</td>\n",
       "    </tr>\n",
       "    <tr>\n",
       "      <th>137</th>\n",
       "      <td>Braveheart (1995)</td>\n",
       "      <td>Action|Drama|War</td>\n",
       "      <td>5</td>\n",
       "    </tr>\n",
       "    <tr>\n",
       "      <th>150</th>\n",
       "      <td>Pulp Fiction (1994)</td>\n",
       "      <td>Crime|Drama</td>\n",
       "      <td>5</td>\n",
       "    </tr>\n",
       "    <tr>\n",
       "      <th>169</th>\n",
       "      <td>Fargo (1996)</td>\n",
       "      <td>Crime|Drama|Thriller</td>\n",
       "      <td>5</td>\n",
       "    </tr>\n",
       "    <tr>\n",
       "      <th>212</th>\n",
       "      <td>Saving Private Ryan (1998)</td>\n",
       "      <td>Action|Drama|War</td>\n",
       "      <td>5</td>\n",
       "    </tr>\n",
       "    <tr>\n",
       "      <th>222</th>\n",
       "      <td>Shakespeare in Love (1998)</td>\n",
       "      <td>Comedy|Romance</td>\n",
       "      <td>5</td>\n",
       "    </tr>\n",
       "    <tr>\n",
       "      <th>228</th>\n",
       "      <td>Matrix, The (1999)</td>\n",
       "      <td>Action|Sci-Fi|Thriller</td>\n",
       "      <td>5</td>\n",
       "    </tr>\n",
       "    <tr>\n",
       "      <th>236</th>\n",
       "      <td>American Beauty (1999)</td>\n",
       "      <td>Comedy|Drama</td>\n",
       "      <td>5</td>\n",
       "    </tr>\n",
       "    <tr>\n",
       "      <th>272</th>\n",
       "      <td>Shawshank Redemption, The (1994)</td>\n",
       "      <td>Drama</td>\n",
       "      <td>5</td>\n",
       "    </tr>\n",
       "    <tr>\n",
       "      <th>282</th>\n",
       "      <td>Schindler's List (1993)</td>\n",
       "      <td>Drama|War</td>\n",
       "      <td>5</td>\n",
       "    </tr>\n",
       "    <tr>\n",
       "      <th>285</th>\n",
       "      <td>Silence of the Lambs, The (1991)</td>\n",
       "      <td>Drama|Thriller</td>\n",
       "      <td>5</td>\n",
       "    </tr>\n",
       "    <tr>\n",
       "      <th>330</th>\n",
       "      <td>Saving Private Ryan (1998)</td>\n",
       "      <td>Action|Drama|War</td>\n",
       "      <td>5</td>\n",
       "    </tr>\n",
       "    <tr>\n",
       "      <th>338</th>\n",
       "      <td>Matrix, The (1999)</td>\n",
       "      <td>Action|Sci-Fi|Thriller</td>\n",
       "      <td>5</td>\n",
       "    </tr>\n",
       "    <tr>\n",
       "      <th>388</th>\n",
       "      <td>Star Wars: Episode IV - A New Hope (1977)</td>\n",
       "      <td>Action|Adventure|Fantasy|Sci-Fi</td>\n",
       "      <td>5</td>\n",
       "    </tr>\n",
       "    <tr>\n",
       "      <th>494</th>\n",
       "      <td>Star Wars: Episode V - The Empire Strikes Back...</td>\n",
       "      <td>Action|Adventure|Drama|Sci-Fi|War</td>\n",
       "      <td>5</td>\n",
       "    </tr>\n",
       "    <tr>\n",
       "      <th>495</th>\n",
       "      <td>Princess Bride, The (1987)</td>\n",
       "      <td>Action|Adventure|Comedy|Romance</td>\n",
       "      <td>5</td>\n",
       "    </tr>\n",
       "    <tr>\n",
       "      <th>496</th>\n",
       "      <td>Raiders of the Lost Ark (1981)</td>\n",
       "      <td>Action|Adventure</td>\n",
       "      <td>5</td>\n",
       "    </tr>\n",
       "    <tr>\n",
       "      <th>655</th>\n",
       "      <td>Shakespeare in Love (1998)</td>\n",
       "      <td>Comedy|Romance</td>\n",
       "      <td>5</td>\n",
       "    </tr>\n",
       "    <tr>\n",
       "      <th>672</th>\n",
       "      <td>Matrix, The (1999)</td>\n",
       "      <td>Action|Sci-Fi|Thriller</td>\n",
       "      <td>5</td>\n",
       "    </tr>\n",
       "  </tbody>\n",
       "</table>\n",
       "</div>"
      ],
      "text/plain": [
       "                                                 title  \\\n",
       "4                              Schindler's List (1993)   \n",
       "36                          Saving Private Ryan (1998)   \n",
       "137                                  Braveheart (1995)   \n",
       "150                                Pulp Fiction (1994)   \n",
       "169                                       Fargo (1996)   \n",
       "212                         Saving Private Ryan (1998)   \n",
       "222                         Shakespeare in Love (1998)   \n",
       "228                                 Matrix, The (1999)   \n",
       "236                             American Beauty (1999)   \n",
       "272                   Shawshank Redemption, The (1994)   \n",
       "282                            Schindler's List (1993)   \n",
       "285                   Silence of the Lambs, The (1991)   \n",
       "330                         Saving Private Ryan (1998)   \n",
       "338                                 Matrix, The (1999)   \n",
       "388          Star Wars: Episode IV - A New Hope (1977)   \n",
       "494  Star Wars: Episode V - The Empire Strikes Back...   \n",
       "495                         Princess Bride, The (1987)   \n",
       "496                     Raiders of the Lost Ark (1981)   \n",
       "655                         Shakespeare in Love (1998)   \n",
       "672                                 Matrix, The (1999)   \n",
       "\n",
       "                                genres  rating  \n",
       "4                            Drama|War       5  \n",
       "36                    Action|Drama|War       5  \n",
       "137                   Action|Drama|War       5  \n",
       "150                        Crime|Drama       5  \n",
       "169               Crime|Drama|Thriller       5  \n",
       "212                   Action|Drama|War       5  \n",
       "222                     Comedy|Romance       5  \n",
       "228             Action|Sci-Fi|Thriller       5  \n",
       "236                       Comedy|Drama       5  \n",
       "272                              Drama       5  \n",
       "282                          Drama|War       5  \n",
       "285                     Drama|Thriller       5  \n",
       "330                   Action|Drama|War       5  \n",
       "338             Action|Sci-Fi|Thriller       5  \n",
       "388    Action|Adventure|Fantasy|Sci-Fi       5  \n",
       "494  Action|Adventure|Drama|Sci-Fi|War       5  \n",
       "495    Action|Adventure|Comedy|Romance       5  \n",
       "496                   Action|Adventure       5  \n",
       "655                     Comedy|Romance       5  \n",
       "672             Action|Sci-Fi|Thriller       5  "
      ]
     },
     "execution_count": 127,
     "metadata": {},
     "output_type": "execute_result"
    }
   ],
   "source": [
    "temp_pd = dataset[dataset['movie_id'].isin(moveid_set) & (dataset['rating']==5)]\n",
    "temp_pd[['title','genres','rating']].head(20)"
   ]
  },
  {
   "cell_type": "markdown",
   "metadata": {},
   "source": [
    "### Genres(流派/类型)\n",
    "电影的类型信息比如动作，爱情等都是可以简单对电影内容的相似度聚合。为此，我们可以尝试看看最流行的电影类型。"
   ]
  },
  {
   "cell_type": "code",
   "execution_count": 128,
   "metadata": {},
   "outputs": [
    {
     "data": {
      "text/plain": [
       "[['Drama', 1603],\n",
       " ['Comedy', 1200],\n",
       " ['Action', 503],\n",
       " ['Thriller', 492],\n",
       " ['Romance', 471]]"
      ]
     },
     "execution_count": 128,
     "metadata": {},
     "output_type": "execute_result"
    }
   ],
   "source": [
    "# Make a census of the genre keywords\n",
    "genre_labels = set()\n",
    "for s in movies['genres'].str.split('|').values:\n",
    "    genre_labels = genre_labels.union(set(s))\n",
    "\n",
    "# Function that counts the number of times each of the genre keywords appear\n",
    "def count_word(dataset, ref_col, census):\n",
    "    keyword_count = dict()\n",
    "    for s in census: \n",
    "        keyword_count[s] = 0\n",
    "    for census_keywords in dataset[ref_col].str.split('|'):        \n",
    "        if type(census_keywords) == float and pd.isnull(census_keywords): \n",
    "            continue        \n",
    "        for s in [s for s in census_keywords if s in census]: \n",
    "            if pd.notnull(s): \n",
    "                keyword_count[s] += 1\n",
    "    #______________________________________________________________________\n",
    "    # convert the dictionary in a list to sort the keywords by frequency\n",
    "    keyword_occurences = []\n",
    "    for k,v in keyword_count.items():\n",
    "        keyword_occurences.append([k,v])\n",
    "    keyword_occurences.sort(key = lambda x:x[1], reverse = True)\n",
    "    return keyword_occurences, keyword_count\n",
    "\n",
    "# Calling this function gives access to a list of genre keywords which are sorted by decreasing frequency\n",
    "keyword_occurences, dum = count_word(movies, 'genres', genre_labels)\n",
    "keyword_occurences[:5]"
   ]
  },
  {
   "cell_type": "markdown",
   "metadata": {},
   "source": [
    "可以看出最流行的5种电影是: Drama, Comedy, Action, Thriller, and Romance。"
   ]
  },
  {
   "cell_type": "code",
   "execution_count": 17,
   "metadata": {},
   "outputs": [
    {
     "data": {
      "image/png": "[encoded data removed]",
      "text/plain": [
       "<matplotlib.figure.Figure at 0x1051872e8>"
      ]
     },
     "metadata": {},
     "output_type": "display_data"
    }
   ],
   "source": [
    "# Define the dictionary used to produce the genre wordcloud\n",
    "genres = dict()\n",
    "trunc_occurences = keyword_occurences[0:18]\n",
    "for s in trunc_occurences:\n",
    "    genres[s[0]] = s[1]\n",
    "\n",
    "# Create the wordcloud\n",
    "genre_wordcloud = WordCloud(width=1000,height=400, background_color='white')\n",
    "genre_wordcloud.generate_from_frequencies(genres)\n",
    "\n",
    "# Plot the wordcloud\n",
    "f, ax = plt.subplots(figsize=(16, 8))\n",
    "plt.imshow(genre_wordcloud, interpolation=\"bilinear\")\n",
    "plt.axis('off')\n",
    "plt.show()"
   ]
  },
  {
   "cell_type": "markdown",
   "metadata": {},
   "source": [
    "## 推荐系统\n",
    "\n",
    "### 1. Content-Based\n",
    "The Content-Based Recommender relies on the similarity of the items being recommended. The basic idea is that if you like an item, then you will also like a “similar” item. It generally works well when it's easy to determine the context/properties of each item.\n",
    "\n",
    "A content based recommender works with data that the user provides, either explicitly movie ratings for the MovieLens dataset. Based on that data, a user profile is generated, which is then used to make suggestions to the user. As the user provides more inputs or takes actions on the recommendations, the engine becomes more and more accurate.\n",
    "\n",
    "### 2. Collaborative Filtering\n",
    "The Collaborative Filtering Recommender is entirely based on the past behavior and not on the context. More specifically, it is based on the similarity in preferences, tastes and choices of two users. It analyses how similar the tastes of one user is to another and makes recommendations on the basis of that. \n",
    "\n",
    "For instance, if user A likes movies 1, 2, 3 and user B likes movies 2,3,4, then they have similar interests and A should like movie 4 and B should like movie 1. This makes it one of the most commonly used algorithm as it is not dependent on any additional information.\n",
    "\n",
    "In general, collaborative filtering is the workhorse of recommender engines. The algorithm has a very interesting property of being able to do feature learning on its own, which means that it can start to learn for itself what features to use. It can be divided into **Memory-Based Collaborative Filtering** and **Model-Based Collaborative filtering**. In this post, I'll only focus on the Memory-Based Collaborative Filtering technique.\n",
    "\n",
    "![rec-systems](images/rec-systems.png)"
   ]
  },
  {
   "cell_type": "markdown",
   "metadata": {},
   "source": [
    "## Content-Based Recommendation Model\n",
    "### Theory\n",
    "The concepts of **Term Frequency (TF)** and **Inverse Document Frequency (IDF)** are used in information retrieval systems and also content based filtering mechanisms (such as a content based recommender). They are used to determine the relative importance of a document / article / news item / movie etc.\n",
    "\n",
    "TF is simply the frequency of a word in a document. IDF is the inverse of the document frequency among the whole corpus of documents. TF-IDF is used mainly because of two reasons: Suppose we search for “**the results of latest European Socccer games**” on Google. It is certain that “**the**” will occur more frequently than “**soccer games**” but the relative importance of **soccer games** is higher than the search query point of view. In such cases, TF-IDF weighting negates the effect of high frequency words in determining the importance of an item (document).\n",
    "\n",
    "Below is the equation to calculate the TF-IDF score:\n",
    "![tfidf](images/tfidf.jpg)\n",
    "\n",
    "After calculating TF-IDF scores, how do we determine which items are closer to each other, rather closer to the user profile? This is accomplished using the **Vector Space Model** which computes the proximity based on the angle between the vectors. In this model, each item is stored as a vector of its attributes (which are also vectors) in an **n-dimensional space** and the angles between the vectors are calculated to **determine the similarity between the vectors**. Next, the user profile vectors are also created based on his actions on previous attributes of items and the similarity between an item and a user is also determined in a similar way.\n",
    "\n",
    "![vector-space](images/vector_space.png)\n",
    "\n",
    "Sentence 2 is more likely to be using Term 2 than using Term 1. Vice-versa for Sentence 1. The method of calculating this relative measure is calculated by taking the cosine of the angle between the sentences and the terms. The ultimate reason behind using cosine is that the **value of cosine will increase with decreasing value of the angle** between which signifies more similarity. The vectors are length normalized after which they become vectors of length 1 and then the cosine calculation is simply the sum-product of vectors.\n",
    "\n",
    "### Implementation\n",
    "\n",
    "接下来，我们将基于movie的类型信息进行推荐。所以，这里我们简单采用电影的genres这个信息作为特征。"
   ]
  },
  {
   "cell_type": "code",
   "execution_count": 129,
   "metadata": {},
   "outputs": [],
   "source": [
    "# Break up the big genre string into a string array\n",
    "movies['genres'] = movies['genres'].str.split('|')\n",
    "# Convert genres to string value\n",
    "movies['genres'] = movies['genres'].fillna(\"\").astype('str')"
   ]
  },
  {
   "cell_type": "code",
   "execution_count": 154,
   "metadata": {},
   "outputs": [
    {
     "name": "stdout",
     "output_type": "stream",
     "text": [
      "3883\n"
     ]
    }
   ],
   "source": [
    "print(len(movies))"
   ]
  },
  {
   "cell_type": "code",
   "execution_count": 155,
   "metadata": {},
   "outputs": [
    {
     "data": {
      "text/html": [
       "<div>\n",
       "<style scoped>\n",
       "    .dataframe tbody tr th:only-of-type {\n",
       "        vertical-align: middle;\n",
       "    }\n",
       "\n",
       "    .dataframe tbody tr th {\n",
       "        vertical-align: top;\n",
       "    }\n",
       "\n",
       "    .dataframe thead th {\n",
       "        text-align: right;\n",
       "    }\n",
       "</style>\n",
       "<table border=\"1\" class=\"dataframe\">\n",
       "  <thead>\n",
       "    <tr style=\"text-align: right;\">\n",
       "      <th></th>\n",
       "      <th>movie_id</th>\n",
       "      <th>title</th>\n",
       "      <th>genres</th>\n",
       "    </tr>\n",
       "  </thead>\n",
       "  <tbody>\n",
       "    <tr>\n",
       "      <th>0</th>\n",
       "      <td>1</td>\n",
       "      <td>Toy Story (1995)</td>\n",
       "      <td>['Animation', \"Children's\", 'Comedy']</td>\n",
       "    </tr>\n",
       "    <tr>\n",
       "      <th>1</th>\n",
       "      <td>2</td>\n",
       "      <td>Jumanji (1995)</td>\n",
       "      <td>['Adventure', \"Children's\", 'Fantasy']</td>\n",
       "    </tr>\n",
       "    <tr>\n",
       "      <th>2</th>\n",
       "      <td>3</td>\n",
       "      <td>Grumpier Old Men (1995)</td>\n",
       "      <td>['Comedy', 'Romance']</td>\n",
       "    </tr>\n",
       "    <tr>\n",
       "      <th>3</th>\n",
       "      <td>4</td>\n",
       "      <td>Waiting to Exhale (1995)</td>\n",
       "      <td>['Comedy', 'Drama']</td>\n",
       "    </tr>\n",
       "    <tr>\n",
       "      <th>4</th>\n",
       "      <td>5</td>\n",
       "      <td>Father of the Bride Part II (1995)</td>\n",
       "      <td>['Comedy']</td>\n",
       "    </tr>\n",
       "  </tbody>\n",
       "</table>\n",
       "</div>"
      ],
      "text/plain": [
       "   movie_id                               title  \\\n",
       "0         1                    Toy Story (1995)   \n",
       "1         2                      Jumanji (1995)   \n",
       "2         3             Grumpier Old Men (1995)   \n",
       "3         4            Waiting to Exhale (1995)   \n",
       "4         5  Father of the Bride Part II (1995)   \n",
       "\n",
       "                                   genres  \n",
       "0   ['Animation', \"Children's\", 'Comedy']  \n",
       "1  ['Adventure', \"Children's\", 'Fantasy']  \n",
       "2                   ['Comedy', 'Romance']  \n",
       "3                     ['Comedy', 'Drama']  \n",
       "4                              ['Comedy']  "
      ]
     },
     "execution_count": 155,
     "metadata": {},
     "output_type": "execute_result"
    }
   ],
   "source": [
    "movies.head()"
   ]
  },
  {
   "cell_type": "markdown",
   "metadata": {},
   "source": [
    "我们暂时没有定量的评估方法，所以只能从定性的角度来分析。我们这里定性的分析是基于**scikit-learn**的**TfidfVectorizer**。该函数能将文本转为特征向量，再进行评估。"
   ]
  },
  {
   "cell_type": "code",
   "execution_count": 130,
   "metadata": {},
   "outputs": [
    {
     "data": {
      "text/plain": [
       "(3883, 127)"
      ]
     },
     "execution_count": 130,
     "metadata": {},
     "output_type": "execute_result"
    }
   ],
   "source": [
    "from sklearn.feature_extraction.text import TfidfVectorizer\n",
    "tf = TfidfVectorizer(analyzer='word',ngram_range=(1, 2),min_df=0, stop_words='english')\n",
    "tfidf_matrix = tf.fit_transform(movies['genres'])\n",
    "tfidf_matrix.shape"
   ]
  },
  {
   "cell_type": "markdown",
   "metadata": {},
   "source": [
    "这里我们采用余弦相似度来衡量两部电影之间的相似性。由于我们已经计算出了TF-IDF Vectorizer，所以可以直接计算各个向量直接的余弦相似度。本文这里采用的sklearn的 **linear_kernel** 方法来求余弦相似度(因为更快)。"
   ]
  },
  {
   "cell_type": "code",
   "execution_count": 131,
   "metadata": {},
   "outputs": [
    {
     "data": {
      "text/plain": [
       "array([[ 1.        ,  0.14193614,  0.09010857,  0.1056164 ],\n",
       "       [ 0.14193614,  1.        ,  0.        ,  0.        ],\n",
       "       [ 0.09010857,  0.        ,  1.        ,  0.1719888 ],\n",
       "       [ 0.1056164 ,  0.        ,  0.1719888 ,  1.        ]])"
      ]
     },
     "execution_count": 131,
     "metadata": {},
     "output_type": "execute_result"
    }
   ],
   "source": [
    "from sklearn.metrics.pairwise import linear_kernel\n",
    "cosine_sim = linear_kernel(tfidf_matrix, tfidf_matrix)\n",
    "cosine_sim[:4, :4]"
   ]
  },
  {
   "cell_type": "code",
   "execution_count": 156,
   "metadata": {},
   "outputs": [
    {
     "name": "stdout",
     "output_type": "stream",
     "text": [
      "(3883, 3883)\n"
     ]
    }
   ],
   "source": [
    "print(cosine_sim.shape)"
   ]
  },
  {
   "cell_type": "code",
   "execution_count": 163,
   "metadata": {},
   "outputs": [
    {
     "name": "stdout",
     "output_type": "stream",
     "text": [
      "3883\n",
      "[(0, 0.090108572739686227), (1, 0.0), (2, 0.99999999999999978), (3, 0.17198879618645613), (4, 0.38306057669114663)]\n",
      "[ 0.09010857  0.          1.          0.1719888   0.38306058]\n"
     ]
    }
   ],
   "source": [
    "sim_scores = list(enumerate(cosine_sim[2]))\n",
    "print(len(sim_scores))\n",
    "print(sim_scores[:5])\n",
    "print(cosine_sim[2][:5])"
   ]
  },
  {
   "cell_type": "markdown",
   "metadata": {},
   "source": [
    "至此，我们计算得出所有电影之间的相似性,接下来就是根据输入返回相似性top20的电影。"
   ]
  },
  {
   "cell_type": "code",
   "execution_count": 132,
   "metadata": {},
   "outputs": [],
   "source": [
    "# Build a 1-dimensional array with movie titles\n",
    "titles = movies['title']\n",
    "indices = pd.Series(movies.index, index=movies['title'])\n",
    "\n",
    "# Function that get movie recommendations based on the cosine similarity score of movie genres\n",
    "def genre_recommendations(title):\n",
    "    idx = indices[title]\n",
    "    sim_scores = list(enumerate(cosine_sim[idx]))\n",
    "    sim_scores = sorted(sim_scores, key=lambda x: x[1], reverse=True)\n",
    "    sim_scores = sim_scores[1:21]\n",
    "    movie_indices = [i[0] for i in sim_scores]\n",
    "    return titles.iloc[movie_indices]\n",
    "#enumerate用于将一个可遍历的数据对象(如列表、元组或字符串)组合为一个索引序列，同时列出数据和数据下标"
   ]
  },
  {
   "cell_type": "code",
   "execution_count": 157,
   "metadata": {},
   "outputs": [
    {
     "data": {
      "text/plain": [
       "title\n",
       "Toy Story (1995)                      0\n",
       "Jumanji (1995)                        1\n",
       "Grumpier Old Men (1995)               2\n",
       "Waiting to Exhale (1995)              3\n",
       "Father of the Bride Part II (1995)    4\n",
       "dtype: int64"
      ]
     },
     "execution_count": 157,
     "metadata": {},
     "output_type": "execute_result"
    }
   ],
   "source": [
    "indices.head()"
   ]
  },
  {
   "cell_type": "markdown",
   "metadata": {},
   "source": [
    "运行结果如下："
   ]
  },
  {
   "cell_type": "code",
   "execution_count": 165,
   "metadata": {},
   "outputs": [
    {
     "data": {
      "text/plain": [
       "25                                        Othello (1995)\n",
       "26                                   Now and Then (1995)\n",
       "29     Shanghai Triad (Yao a yao yao dao waipo qiao) ...\n",
       "30                                Dangerous Minds (1995)\n",
       "35                               Dead Man Walking (1995)\n",
       "39                       Cry, the Beloved Country (1995)\n",
       "42                                    Restoration (1995)\n",
       "52                                       Lamerica (1994)\n",
       "54                                        Georgia (1995)\n",
       "56                          Home for the Holidays (1995)\n",
       "61                             Mr. Holland's Opus (1995)\n",
       "66                                       Two Bits (1995)\n",
       "77                            Crossing Guard, The (1995)\n",
       "79          White Balloon, The (Badkonake Sefid ) (1995)\n",
       "81                       Antonia's Line (Antonia) (1995)\n",
       "82       Once Upon a Time... When We Were Colored (1995)\n",
       "89                    Journey of August King, The (1995)\n",
       "92                                Beautiful Girls (1996)\n",
       "95                               Hate (Haine, La) (1995)\n",
       "112                             Margaret's Museum (1995)\n",
       "Name: title, dtype: object"
      ]
     },
     "execution_count": 165,
     "metadata": {},
     "output_type": "execute_result"
    }
   ],
   "source": [
    "genre_recommendations('Good Will Hunting (1997)').head(20)"
   ]
  },
  {
   "cell_type": "code",
   "execution_count": 134,
   "metadata": {},
   "outputs": [
    {
     "data": {
      "text/plain": [
       "1050               Aladdin and the King of Thieves (1996)\n",
       "2072                             American Tail, An (1986)\n",
       "2073           American Tail: Fievel Goes West, An (1991)\n",
       "2285                            Rugrats Movie, The (1998)\n",
       "2286                                 Bug's Life, A (1998)\n",
       "3045                                   Toy Story 2 (1999)\n",
       "3542                                Saludos Amigos (1943)\n",
       "3682                                   Chicken Run (2000)\n",
       "3685       Adventures of Rocky and Bullwinkle, The (2000)\n",
       "236                                 Goofy Movie, A (1995)\n",
       "12                                           Balto (1995)\n",
       "241                               Gumby: The Movie (1995)\n",
       "310                             Swan Princess, The (1994)\n",
       "592                                      Pinocchio (1940)\n",
       "612                                Aristocats, The (1970)\n",
       "700                               Oliver & Company (1988)\n",
       "876     Land Before Time III: The Time of the Great Gi...\n",
       "1010          Winnie the Pooh and the Blustery Day (1968)\n",
       "1012                       Sword in the Stone, The (1963)\n",
       "1020                        Fox and the Hound, The (1981)\n",
       "Name: title, dtype: object"
      ]
     },
     "execution_count": 134,
     "metadata": {},
     "output_type": "execute_result"
    }
   ],
   "source": [
    "genre_recommendations('Toy Story (1995)').head(20)"
   ]
  },
  {
   "cell_type": "code",
   "execution_count": 135,
   "metadata": {},
   "outputs": [
    {
     "data": {
      "text/plain": [
       "461            Heaven & Earth (1993)\n",
       "1204        Full Metal Jacket (1987)\n",
       "1214     Boat, The (Das Boot) (1981)\n",
       "1222                    Glory (1989)\n",
       "1545                G.I. Jane (1997)\n",
       "1959      Saving Private Ryan (1998)\n",
       "2358       Thin Red Line, The (1998)\n",
       "2993         Longest Day, The (1962)\n",
       "3559            Flying Tigers (1942)\n",
       "3574    Fighting Seabees, The (1944)\n",
       "3585    Guns of Navarone, The (1961)\n",
       "3684             Patriot, The (2000)\n",
       "40                Richard III (1995)\n",
       "153            Beyond Rangoon (1995)\n",
       "332         Walking Dead, The (1995)\n",
       "523          Schindler's List (1993)\n",
       "641        Courage Under Fire (1996)\n",
       "967          Nothing Personal (1995)\n",
       "979           Michael Collins (1996)\n",
       "1074                  Platoon (1986)\n",
       "Name: title, dtype: object"
      ]
     },
     "execution_count": 135,
     "metadata": {},
     "output_type": "execute_result"
    }
   ],
   "source": [
    "genre_recommendations('Saving Private Ryan (1998)').head(20)"
   ]
  },
  {
   "cell_type": "markdown",
   "metadata": {},
   "source": [
    "从上述可以可以看出对于**Good Will Hunting** (Drama), **Toy Story** (Animation, Children's, Comedy), and **Saving Private Ryan** (Action, Thriller, War)这三种电影类型的一个推荐，效果还是不错的。"
   ]
  },
  {
   "cell_type": "markdown",
   "metadata": {},
   "source": [
    "## 基于协同过滤的推荐系统\n",
    "该方法的核心思想其实跟Word2Vec很像，用物以类聚的方式来推荐。相似的人，可能喜欢相近，所以可能会有惊喜的推荐。基于人的相似和物的相似有两种协同过滤，分别是**User-User Collaborative Filtering**和**Item-Item Collaborative Filtering**。\n",
    "![user_item_cf](images/user_item_cf.jpg)\n",
    "\n",
    "There are 3 distance similarity metrics that are usually used in collaborative filtering:\n",
    "1. **Jaccard Similarity**:\n",
    "    * Similarity is based on the number of users which have rated item A and B divided by the number of users who have rated either A or B\n",
    "    * It is typically used where we don’t have a numeric rating but just a boolean value like a product being bought or an add being clicked\n",
    "\n",
    "2. **Cosine Similarity**: (as in the Content-Based system)\n",
    "    * Similarity is the cosine of the angle between the 2 vectors of the item vectors of A and B\n",
    "    * Closer the vectors, smaller will be the angle and larger the cosine\n",
    "\n",
    "3. **Pearson Similarity**:\n",
    "    * Similarity is the pearson coefficient between the two vectors.\n",
    "\n",
    "之前用过余弦相似度，，我们这里尝试用 **Pearson Similarity** \n",
    "\n",
    "### 基于用户的协同过滤\n",
    "I will use the file **ratings.csv** first as it contains User ID, Movie IDs and Ratings. These three elements are all I need for determining the similarity of the users based on their ratings for a particular movie.\n",
    "\n",
    "First I do some quick data processing:"
   ]
  },
  {
   "cell_type": "code",
   "execution_count": 12,
   "metadata": {},
   "outputs": [],
   "source": [
    "# Fill NaN values in user_id and movie_id column with 0，空值赋0\n",
    "ratings['user_id'] = ratings['user_id'].fillna(0)\n",
    "ratings['movie_id'] = ratings['movie_id'].fillna(0)\n",
    "\n",
    "# Replace NaN values in rating column with average of all values，未打分的取均值\n",
    "ratings['rating'] = ratings['rating'].fillna(ratings['rating'].mean())"
   ]
  },
  {
   "cell_type": "markdown",
   "metadata": {},
   "source": [
    "当计算资源有限时候可以采样，本文采样0.03数据集进行处理。否则，相似度矩阵过大，内存不足以支撑。"
   ]
  },
  {
   "cell_type": "code",
   "execution_count": 13,
   "metadata": {},
   "outputs": [
    {
     "name": "stdout",
     "output_type": "stream",
     "text": [
      "<class 'pandas.core.frame.DataFrame'>\n",
      "Int64Index: 30006 entries, 262272 to 979138\n",
      "Data columns (total 3 columns):\n",
      "user_id     30006 non-null int64\n",
      "movie_id    30006 non-null int64\n",
      "rating      30006 non-null int64\n",
      "dtypes: int64(3)\n",
      "memory usage: 937.7 KB\n",
      "None\n"
     ]
    }
   ],
   "source": [
    "# Randomly sample 1% of the ratings dataset\n",
    "small_data = ratings.sample(frac=0.03)#采样比例可以再调节\n",
    "# Check the sample info\n",
    "print(small_data.info())"
   ]
  },
  {
   "cell_type": "markdown",
   "metadata": {},
   "source": [
    "Now I use the **scikit-learn library** to split the dataset into testing and training.  **Cross_validation.train_test_split** shuffles and splits the data into two datasets according to the percentage of test examples, which in this case is 0.2."
   ]
  },
  {
   "cell_type": "code",
   "execution_count": 14,
   "metadata": {},
   "outputs": [
    {
     "name": "stderr",
     "output_type": "stream",
     "text": [
      "d:\\python35\\lib\\site-packages\\sklearn\\cross_validation.py:41: DeprecationWarning: This module was deprecated in version 0.18 in favor of the model_selection module into which all the refactored classes and functions are moved. Also note that the interface of the new CV iterators are different from that of this module. This module will be removed in 0.20.\n",
      "  \"This module will be removed in 0.20.\", DeprecationWarning)\n"
     ]
    }
   ],
   "source": [
    "from sklearn import cross_validation as cv\n",
    "train_data, test_data = cv.train_test_split(small_data, test_size=0.2)"
   ]
  },
  {
   "cell_type": "markdown",
   "metadata": {},
   "source": [
    "Now I need to create a user-item matrix. Since I have splitted the data into testing and training, I need to create two matrices. The training matrix contains 80% of the ratings and the testing matrix contains 20% of the ratings."
   ]
  },
  {
   "cell_type": "code",
   "execution_count": 15,
   "metadata": {},
   "outputs": [
    {
     "name": "stdout",
     "output_type": "stream",
     "text": [
      "(24004, 3)\n",
      "(6002, 3)\n"
     ]
    }
   ],
   "source": [
    "# Create two user-item matrices, one for training and another for testing\n",
    "train_data_matrix = train_data.as_matrix(columns = ['user_id', 'movie_id', 'rating'])\n",
    "test_data_matrix = test_data.as_matrix(columns = ['user_id', 'movie_id', 'rating'])\n",
    "\n",
    "# Check their shape\n",
    "print(train_data_matrix.shape)\n",
    "print(test_data_matrix.shape)"
   ]
  },
  {
   "cell_type": "code",
   "execution_count": 16,
   "metadata": {},
   "outputs": [
    {
     "data": {
      "text/plain": [
       "array([[1415,  296,    4],\n",
       "       [ 235, 1997,    3],\n",
       "       [5105, 2762,    2],\n",
       "       [3411,  112,    3],\n",
       "       [ 975, 2908,    4],\n",
       "       [5096, 2144,    4],\n",
       "       [4090, 2565,    4],\n",
       "       [3726,  329,    3],\n",
       "       [1207, 1503,    1],\n",
       "       [2544, 2096,    3]], dtype=int64)"
      ]
     },
     "execution_count": 16,
     "metadata": {},
     "output_type": "execute_result"
    }
   ],
   "source": [
    "train_data_matrix[:10,:]"
   ]
  },
  {
   "cell_type": "code",
   "execution_count": 64,
   "metadata": {},
   "outputs": [
    {
     "data": {
      "text/html": [
       "<div>\n",
       "<style scoped>\n",
       "    .dataframe tbody tr th:only-of-type {\n",
       "        vertical-align: middle;\n",
       "    }\n",
       "\n",
       "    .dataframe tbody tr th {\n",
       "        vertical-align: top;\n",
       "    }\n",
       "\n",
       "    .dataframe thead th {\n",
       "        text-align: right;\n",
       "    }\n",
       "</style>\n",
       "<table border=\"1\" class=\"dataframe\">\n",
       "  <thead>\n",
       "    <tr style=\"text-align: right;\">\n",
       "      <th></th>\n",
       "      <th>user_id</th>\n",
       "      <th>movie_id</th>\n",
       "      <th>rating</th>\n",
       "    </tr>\n",
       "  </thead>\n",
       "  <tbody>\n",
       "    <tr>\n",
       "      <th>0</th>\n",
       "      <td>1</td>\n",
       "      <td>1193</td>\n",
       "      <td>5</td>\n",
       "    </tr>\n",
       "    <tr>\n",
       "      <th>1</th>\n",
       "      <td>1</td>\n",
       "      <td>661</td>\n",
       "      <td>3</td>\n",
       "    </tr>\n",
       "    <tr>\n",
       "      <th>2</th>\n",
       "      <td>1</td>\n",
       "      <td>914</td>\n",
       "      <td>3</td>\n",
       "    </tr>\n",
       "    <tr>\n",
       "      <th>3</th>\n",
       "      <td>1</td>\n",
       "      <td>3408</td>\n",
       "      <td>4</td>\n",
       "    </tr>\n",
       "    <tr>\n",
       "      <th>4</th>\n",
       "      <td>1</td>\n",
       "      <td>2355</td>\n",
       "      <td>5</td>\n",
       "    </tr>\n",
       "  </tbody>\n",
       "</table>\n",
       "</div>"
      ],
      "text/plain": [
       "   user_id  movie_id  rating\n",
       "0        1      1193       5\n",
       "1        1       661       3\n",
       "2        1       914       3\n",
       "3        1      3408       4\n",
       "4        1      2355       5"
      ]
     },
     "execution_count": 64,
     "metadata": {},
     "output_type": "execute_result"
    }
   ],
   "source": [
    "ratings.head()"
   ]
  },
  {
   "cell_type": "markdown",
   "metadata": {},
   "source": [
    "这里我们采样皮尔逊相关系数[Pearson Correlation Coefficient](https://stackoverflow.com/questions/1838806/euclidean-distance-vs-pearson-correlation-vs-cosine-similarity)来度量向量之间的相似性。"
   ]
  },
  {
   "cell_type": "code",
   "execution_count": 65,
   "metadata": {},
   "outputs": [],
   "source": [
    "# 获取数据\n",
    "def readFile(filename):\n",
    "    files = open(filename, \"r\", encoding=\"utf-8\")\n",
    "    # 如果读取不成功试一下\n",
    "    # files = open(filename, \"r\", encoding=\"iso-8859-15\")\n",
    "    data = []\n",
    "    for line in files.readlines():\n",
    "        item = line.strip().split(\"::\")\n",
    "        data.append(item)\n",
    "    return data\n",
    "\n",
    "raw_ratings = readFile(\"raw_data/ratings.dat\") #重新从原始数据读取，结果有3706部被用户评论电影，6040位用户参与电影评论"
   ]
  },
  {
   "cell_type": "code",
   "execution_count": 67,
   "metadata": {},
   "outputs": [
    {
     "data": {
      "text/plain": [
       "[['1', '1193', '5', '978300760'],\n",
       " ['1', '661', '3', '978302109'],\n",
       " ['1', '914', '3', '978301968']]"
      ]
     },
     "execution_count": 67,
     "metadata": {},
     "output_type": "execute_result"
    }
   ],
   "source": [
    "raw_ratings[:3]"
   ]
  },
  {
   "cell_type": "code",
   "execution_count": 91,
   "metadata": {},
   "outputs": [
    {
     "name": "stdout",
     "output_type": "stream",
     "text": [
      "处理的数据为1000209条\n",
      "Wall time: 1.43 s\n"
     ]
    }
   ],
   "source": [
    "%%time\n",
    "# 上述的数据形式没有按照预期的方式展示，所以我们需要做进一步的转换\n",
    "# 将ratings转换为userDict和ItemUser\n",
    "# userDict矩阵的尺寸为user_num X item_num,Value(i,j)是用户i对item j的评分结果\n",
    "temp_ratings = raw_ratings # \n",
    "print(\"处理的数据为%d条\" % (len(temp_ratings)))\n",
    "\n",
    "userDict = {} #表示某个用户的所有电影的评分集合，并对评分除以5进行归一化\n",
    "ItemUser = {} #表示某部电影参与评分的所有用户集合\n",
    "for i in temp_ratings:\n",
    "    # 评分最高为5 除以5 进行数据归一化\n",
    "    temp = (i[1], float(i[2]) / 5)\n",
    "    # 计算userDict {'1':[(1,5),(2,5)...],'2':[...]...}\n",
    "    # 每个用户对于电影的评分\n",
    "    if(i[0] in userDict):\n",
    "        userDict[i[0]].append(temp)\n",
    "    else:\n",
    "        userDict[i[0]] = [temp]\n",
    "    # 计算ItemUser {'1',[1,2,3..],...}\n",
    "    if(i[1] in ItemUser):\n",
    "        ItemUser[i[1]].append(i[0])\n",
    "    else:\n",
    "        ItemUser[i[1]] = [i[0]]\n"
   ]
  },
  {
   "cell_type": "code",
   "execution_count": 75,
   "metadata": {},
   "outputs": [
    {
     "name": "stdout",
     "output_type": "stream",
     "text": [
      "<class 'dict'>\n",
      "3706\n",
      "701\n",
      "6040\n",
      "[('1193', 1.0), ('661', 0.6), ('914', 0.6), ('3408', 0.8), ('2355', 1.0), ('1197', 0.6), ('1287', 1.0), ('2804', 1.0), ('594', 0.8), ('919', 0.8), ('595', 1.0), ('938', 0.8), ('2398', 0.8), ('2918', 0.8), ('1035', 1.0), ('2791', 0.8), ('2687', 0.6), ('2018', 0.8), ('3105', 1.0), ('2797', 0.8), ('2321', 0.6), ('720', 0.6), ('1270', 1.0), ('527', 1.0), ('2340', 0.6), ('48', 1.0), ('1097', 0.8), ('1721', 0.8), ('1545', 0.8), ('745', 0.6), ('2294', 0.8), ('3186', 0.8), ('1566', 0.8), ('588', 0.8), ('1907', 0.8), ('783', 0.8), ('1836', 1.0), ('1022', 1.0), ('2762', 0.8), ('150', 1.0), ('1', 1.0), ('1961', 1.0), ('1962', 0.8), ('2692', 0.8), ('260', 0.8), ('1028', 1.0), ('1029', 1.0), ('1207', 0.8), ('2028', 1.0), ('531', 0.8), ('3114', 0.8), ('608', 0.8), ('1246', 0.8)]\n"
     ]
    }
   ],
   "source": [
    "print(type(ItemUser))\n",
    "print(len(ItemUser))\n",
    "print(len(ItemUser[\"2\"]))\n",
    "print(len(userDict))\n",
    "print(userDict[\"1\"])"
   ]
  },
  {
   "cell_type": "code",
   "execution_count": 74,
   "metadata": {},
   "outputs": [
    {
     "data": {
      "text/html": [
       "<div>\n",
       "<style scoped>\n",
       "    .dataframe tbody tr th:only-of-type {\n",
       "        vertical-align: middle;\n",
       "    }\n",
       "\n",
       "    .dataframe tbody tr th {\n",
       "        vertical-align: top;\n",
       "    }\n",
       "\n",
       "    .dataframe thead th {\n",
       "        text-align: right;\n",
       "    }\n",
       "</style>\n",
       "<table border=\"1\" class=\"dataframe\">\n",
       "  <thead>\n",
       "    <tr style=\"text-align: right;\">\n",
       "      <th></th>\n",
       "      <th>user_id</th>\n",
       "      <th>movie_id</th>\n",
       "      <th>rating</th>\n",
       "    </tr>\n",
       "  </thead>\n",
       "  <tbody>\n",
       "    <tr>\n",
       "      <th>0</th>\n",
       "      <td>1</td>\n",
       "      <td>1193</td>\n",
       "      <td>5</td>\n",
       "    </tr>\n",
       "    <tr>\n",
       "      <th>1</th>\n",
       "      <td>1</td>\n",
       "      <td>661</td>\n",
       "      <td>3</td>\n",
       "    </tr>\n",
       "    <tr>\n",
       "      <th>2</th>\n",
       "      <td>1</td>\n",
       "      <td>914</td>\n",
       "      <td>3</td>\n",
       "    </tr>\n",
       "    <tr>\n",
       "      <th>3</th>\n",
       "      <td>1</td>\n",
       "      <td>3408</td>\n",
       "      <td>4</td>\n",
       "    </tr>\n",
       "    <tr>\n",
       "      <th>4</th>\n",
       "      <td>1</td>\n",
       "      <td>2355</td>\n",
       "      <td>5</td>\n",
       "    </tr>\n",
       "  </tbody>\n",
       "</table>\n",
       "</div>"
      ],
      "text/plain": [
       "   user_id  movie_id  rating\n",
       "0        1      1193       5\n",
       "1        1       661       3\n",
       "2        1       914       3\n",
       "3        1      3408       4\n",
       "4        1      2355       5"
      ]
     },
     "execution_count": 74,
     "metadata": {},
     "output_type": "execute_result"
    }
   ],
   "source": [
    "ratings.head()"
   ]
  },
  {
   "cell_type": "markdown",
   "metadata": {},
   "source": [
    "从ratings转换到ItemUser和userDict"
   ]
  },
  {
   "cell_type": "code",
   "execution_count": 90,
   "metadata": {},
   "outputs": [
    {
     "name": "stdout",
     "output_type": "stream",
     "text": [
      "Wall time: 1min 57s\n"
     ]
    }
   ],
   "source": [
    "%%time\n",
    "temp_ratings = ratings\n",
    "userDict_rating = {} #表示某个用户的所有电影的评分集合，并对评分除以5进行归一化\n",
    "ItemUser_rating = {} #表示某部电影参与评分的所有用户集合\n",
    "for (index, row) in temp_ratings.iterrows():\n",
    "    #print(row)\n",
    "    #print(row)\n",
    "    # 评分最高为5 除以5 进行数据归一化\n",
    "    temp = (row[1], float(row[2]) / 5)\n",
    "    # 计算userDict {'1':[(1,5),(2,5)...],'2':[...]...}\n",
    "    # 每个用户对于电影的评分\n",
    "    if(row[0] in userDict_rating):\n",
    "        userDict_rating[row[0]].append(temp)\n",
    "    else:\n",
    "        userDict_rating[row[0]] = [temp]\n",
    "    # 计算ItemUser {'1',[1,2,3..],...}\n",
    "    if(row[1] in ItemUser_rating):\n",
    "        ItemUser_rating[row[1]].append(row[0])\n",
    "    else:\n",
    "        ItemUser_rating[row[1]] = [row[0]]\n"
   ]
  },
  {
   "cell_type": "code",
   "execution_count": 95,
   "metadata": {},
   "outputs": [
    {
     "name": "stdout",
     "output_type": "stream",
     "text": [
      "701\n",
      "[(1193, 1.0), (661, 0.6), (914, 0.6), (3408, 0.8), (2355, 1.0), (1197, 0.6), (1287, 1.0), (2804, 1.0), (594, 0.8), (919, 0.8), (595, 1.0), (938, 0.8), (2398, 0.8), (2918, 0.8), (1035, 1.0), (2791, 0.8), (2687, 0.6), (2018, 0.8), (3105, 1.0), (2797, 0.8), (2321, 0.6), (720, 0.6), (1270, 1.0), (527, 1.0), (2340, 0.6), (48, 1.0), (1097, 0.8), (1721, 0.8), (1545, 0.8), (745, 0.6), (2294, 0.8), (3186, 0.8), (1566, 0.8), (588, 0.8), (1907, 0.8), (783, 0.8), (1836, 1.0), (1022, 1.0), (2762, 0.8), (150, 1.0), (1, 1.0), (1961, 1.0), (1962, 0.8), (2692, 0.8), (260, 0.8), (1028, 1.0), (1029, 1.0), (1207, 0.8), (2028, 1.0), (531, 0.8), (3114, 0.8), (608, 0.8), (1246, 0.8)]\n"
     ]
    }
   ],
   "source": [
    "print(len(ItemUser_rating[2]))\n",
    "print(userDict_rating[1])"
   ]
  },
  {
   "cell_type": "code",
   "execution_count": null,
   "metadata": {},
   "outputs": [],
   "source": [
    "上述的遍历速度，比此前的list方案要慢很多。采用下面的遍历方式快很多。"
   ]
  },
  {
   "cell_type": "code",
   "execution_count": 103,
   "metadata": {},
   "outputs": [
    {
     "name": "stdout",
     "output_type": "stream",
     "text": [
      "Wall time: 1.7 s\n"
     ]
    }
   ],
   "source": [
    "%%time\n",
    "temp_ratings = ratings\n",
    "userDict_rating = {} #表示某个用户的所有电影的评分集合，并对评分除以5进行归一化\n",
    "ItemUser_rating = {} #表示某部电影参与评分的所有用户集合\n",
    "for row in temp_ratings.itertuples():\n",
    "    # 评分最高为5 除以5 进行数据归一化\n",
    "    #print(row[0])\n",
    "    # user_id', 'movie_id', 'rating\n",
    "    #getattr(row, \"user_id\")\n",
    "    temp = (row[2], float(row[3]) / 5)\n",
    "    # 计算userDict {'1':[(1,5),(2,5)...],'2':[...]...}\n",
    "    # 每个用户对于电影的评分\n",
    "    if(row[1] in userDict_rating):\n",
    "        userDict_rating[row[1]].append(temp)\n",
    "    else:\n",
    "        userDict_rating[row[1]] = [temp]\n",
    "    # 计算ItemUser {'1',[1,2,3..],...}\n",
    "    if(row[2] in ItemUser_rating):\n",
    "        ItemUser_rating[row[2]].append(row[1])\n",
    "    else:\n",
    "        ItemUser_rating[row[2]] = [row[1]]"
   ]
  },
  {
   "cell_type": "code",
   "execution_count": 104,
   "metadata": {},
   "outputs": [
    {
     "name": "stdout",
     "output_type": "stream",
     "text": [
      "701\n",
      "[(1193, 1.0), (661, 0.6), (914, 0.6), (3408, 0.8), (2355, 1.0), (1197, 0.6), (1287, 1.0), (2804, 1.0), (594, 0.8), (919, 0.8), (595, 1.0), (938, 0.8), (2398, 0.8), (2918, 0.8), (1035, 1.0), (2791, 0.8), (2687, 0.6), (2018, 0.8), (3105, 1.0), (2797, 0.8), (2321, 0.6), (720, 0.6), (1270, 1.0), (527, 1.0), (2340, 0.6), (48, 1.0), (1097, 0.8), (1721, 0.8), (1545, 0.8), (745, 0.6), (2294, 0.8), (3186, 0.8), (1566, 0.8), (588, 0.8), (1907, 0.8), (783, 0.8), (1836, 1.0), (1022, 1.0), (2762, 0.8), (150, 1.0), (1, 1.0), (1961, 1.0), (1962, 0.8), (2692, 0.8), (260, 0.8), (1028, 1.0), (1029, 1.0), (1207, 0.8), (2028, 1.0), (531, 0.8), (3114, 0.8), (608, 0.8), (1246, 0.8)]\n"
     ]
    }
   ],
   "source": [
    "print(len(ItemUser_rating[2]))\n",
    "print(userDict_rating[1])"
   ]
  },
  {
   "cell_type": "code",
   "execution_count": 116,
   "metadata": {},
   "outputs": [
    {
     "name": "stdout",
     "output_type": "stream",
     "text": [
      "(24004, 3)\n",
      "        user_id  movie_id  rating\n",
      "232788     1415       296       4\n",
      "34825       235      1997       3\n",
      "850155     5105      2762       2\n",
      "<class 'pandas.core.frame.DataFrame'>\n"
     ]
    }
   ],
   "source": [
    "print(train_data.shape)\n",
    "print(train_data[:3])\n",
    "print(type(train_data))"
   ]
  },
  {
   "cell_type": "markdown",
   "metadata": {},
   "source": [
    "构建user-item矩阵，行方向是userid，列方向是movieid。\n",
    "该矩阵的（i，j）表示user i对电影j的评价。行和列方向，都以单独一个list存储具体的userid和movieid。"
   ]
  },
  {
   "cell_type": "code",
   "execution_count": 137,
   "metadata": {},
   "outputs": [
    {
     "name": "stdout",
     "output_type": "stream",
     "text": [
      "Number of users = 6040 | Number of movies = 3706\n",
      "1415 296 4\n",
      "building movie-users inverse table success.\n"
     ]
    }
   ],
   "source": [
    "from collections import defaultdict\n",
    "import collections\n",
    "# 尝试2\n",
    "n_users = ratings.user_id.unique().shape[0]\n",
    "n_items = ratings.movie_id.unique().shape[0]\n",
    "print('Number of users = ' + str(n_users) + ' | Number of movies = ' + str(n_items))\n",
    "\n",
    "train_data_matrix_new = np.zeros((n_users, n_items))\n",
    "\n",
    "movie2users = collections.defaultdict(set)\n",
    "movie_popular = defaultdict(int)\n",
    "user_list = []\n",
    "item_list = []\n",
    "\n",
    "for index, row in train_data.iterrows():\n",
    "    \n",
    "    # user_list\n",
    "    print(row[0],row[1],row[2])\n",
    "    break\n",
    "#     for movie in movies:\n",
    "#         movie2users[movie].add(user)#每个movie下用户的评论情况\n",
    "#         movie_popular[movie] += 1\n",
    "print('building movie-users inverse table success.')\n",
    "\n"
   ]
  },
  {
   "cell_type": "code",
   "execution_count": 133,
   "metadata": {},
   "outputs": [],
   "source": [
    "#user_id  movie_id  rating\n",
    "user_movies_df = ratings.pivot(index='user_id', columns='movie_id', values = \"rating\" ).reset_index(drop=True)\n",
    "user_movies_df.fillna( 0, inplace = True )"
   ]
  },
  {
   "cell_type": "code",
   "execution_count": 134,
   "metadata": {},
   "outputs": [
    {
     "data": {
      "text/plain": [
       "(6040, 3706)"
      ]
     },
     "execution_count": 134,
     "metadata": {},
     "output_type": "execute_result"
    }
   ],
   "source": [
    "user_movies_df.shape"
   ]
  },
  {
   "cell_type": "code",
   "execution_count": 135,
   "metadata": {},
   "outputs": [
    {
     "data": {
      "text/html": [
       "<div>\n",
       "<style scoped>\n",
       "    .dataframe tbody tr th:only-of-type {\n",
       "        vertical-align: middle;\n",
       "    }\n",
       "\n",
       "    .dataframe tbody tr th {\n",
       "        vertical-align: top;\n",
       "    }\n",
       "\n",
       "    .dataframe thead th {\n",
       "        text-align: right;\n",
       "    }\n",
       "</style>\n",
       "<table border=\"1\" class=\"dataframe\">\n",
       "  <thead>\n",
       "    <tr style=\"text-align: right;\">\n",
       "      <th>movie_id</th>\n",
       "      <th>1</th>\n",
       "      <th>2</th>\n",
       "      <th>3</th>\n",
       "      <th>4</th>\n",
       "      <th>5</th>\n",
       "      <th>6</th>\n",
       "      <th>7</th>\n",
       "      <th>8</th>\n",
       "      <th>9</th>\n",
       "      <th>10</th>\n",
       "      <th>...</th>\n",
       "      <th>3943</th>\n",
       "      <th>3944</th>\n",
       "      <th>3945</th>\n",
       "      <th>3946</th>\n",
       "      <th>3947</th>\n",
       "      <th>3948</th>\n",
       "      <th>3949</th>\n",
       "      <th>3950</th>\n",
       "      <th>3951</th>\n",
       "      <th>3952</th>\n",
       "    </tr>\n",
       "  </thead>\n",
       "  <tbody>\n",
       "    <tr>\n",
       "      <th>0</th>\n",
       "      <td>5.0</td>\n",
       "      <td>0.0</td>\n",
       "      <td>0.0</td>\n",
       "      <td>0.0</td>\n",
       "      <td>0.0</td>\n",
       "      <td>0.0</td>\n",
       "      <td>0.0</td>\n",
       "      <td>0.0</td>\n",
       "      <td>0.0</td>\n",
       "      <td>0.0</td>\n",
       "      <td>...</td>\n",
       "      <td>0.0</td>\n",
       "      <td>0.0</td>\n",
       "      <td>0.0</td>\n",
       "      <td>0.0</td>\n",
       "      <td>0.0</td>\n",
       "      <td>0.0</td>\n",
       "      <td>0.0</td>\n",
       "      <td>0.0</td>\n",
       "      <td>0.0</td>\n",
       "      <td>0.0</td>\n",
       "    </tr>\n",
       "    <tr>\n",
       "      <th>1</th>\n",
       "      <td>0.0</td>\n",
       "      <td>0.0</td>\n",
       "      <td>0.0</td>\n",
       "      <td>0.0</td>\n",
       "      <td>0.0</td>\n",
       "      <td>0.0</td>\n",
       "      <td>0.0</td>\n",
       "      <td>0.0</td>\n",
       "      <td>0.0</td>\n",
       "      <td>0.0</td>\n",
       "      <td>...</td>\n",
       "      <td>0.0</td>\n",
       "      <td>0.0</td>\n",
       "      <td>0.0</td>\n",
       "      <td>0.0</td>\n",
       "      <td>0.0</td>\n",
       "      <td>0.0</td>\n",
       "      <td>0.0</td>\n",
       "      <td>0.0</td>\n",
       "      <td>0.0</td>\n",
       "      <td>0.0</td>\n",
       "    </tr>\n",
       "    <tr>\n",
       "      <th>2</th>\n",
       "      <td>0.0</td>\n",
       "      <td>0.0</td>\n",
       "      <td>0.0</td>\n",
       "      <td>0.0</td>\n",
       "      <td>0.0</td>\n",
       "      <td>0.0</td>\n",
       "      <td>0.0</td>\n",
       "      <td>0.0</td>\n",
       "      <td>0.0</td>\n",
       "      <td>0.0</td>\n",
       "      <td>...</td>\n",
       "      <td>0.0</td>\n",
       "      <td>0.0</td>\n",
       "      <td>0.0</td>\n",
       "      <td>0.0</td>\n",
       "      <td>0.0</td>\n",
       "      <td>0.0</td>\n",
       "      <td>0.0</td>\n",
       "      <td>0.0</td>\n",
       "      <td>0.0</td>\n",
       "      <td>0.0</td>\n",
       "    </tr>\n",
       "    <tr>\n",
       "      <th>3</th>\n",
       "      <td>0.0</td>\n",
       "      <td>0.0</td>\n",
       "      <td>0.0</td>\n",
       "      <td>0.0</td>\n",
       "      <td>0.0</td>\n",
       "      <td>0.0</td>\n",
       "      <td>0.0</td>\n",
       "      <td>0.0</td>\n",
       "      <td>0.0</td>\n",
       "      <td>0.0</td>\n",
       "      <td>...</td>\n",
       "      <td>0.0</td>\n",
       "      <td>0.0</td>\n",
       "      <td>0.0</td>\n",
       "      <td>0.0</td>\n",
       "      <td>0.0</td>\n",
       "      <td>0.0</td>\n",
       "      <td>0.0</td>\n",
       "      <td>0.0</td>\n",
       "      <td>0.0</td>\n",
       "      <td>0.0</td>\n",
       "    </tr>\n",
       "    <tr>\n",
       "      <th>4</th>\n",
       "      <td>0.0</td>\n",
       "      <td>0.0</td>\n",
       "      <td>0.0</td>\n",
       "      <td>0.0</td>\n",
       "      <td>0.0</td>\n",
       "      <td>2.0</td>\n",
       "      <td>0.0</td>\n",
       "      <td>0.0</td>\n",
       "      <td>0.0</td>\n",
       "      <td>0.0</td>\n",
       "      <td>...</td>\n",
       "      <td>0.0</td>\n",
       "      <td>0.0</td>\n",
       "      <td>0.0</td>\n",
       "      <td>0.0</td>\n",
       "      <td>0.0</td>\n",
       "      <td>0.0</td>\n",
       "      <td>0.0</td>\n",
       "      <td>0.0</td>\n",
       "      <td>0.0</td>\n",
       "      <td>0.0</td>\n",
       "    </tr>\n",
       "  </tbody>\n",
       "</table>\n",
       "<p>5 rows × 3706 columns</p>\n",
       "</div>"
      ],
      "text/plain": [
       "movie_id  1     2     3     4     5     6     7     8     9     10    ...   \\\n",
       "0          5.0   0.0   0.0   0.0   0.0   0.0   0.0   0.0   0.0   0.0  ...    \n",
       "1          0.0   0.0   0.0   0.0   0.0   0.0   0.0   0.0   0.0   0.0  ...    \n",
       "2          0.0   0.0   0.0   0.0   0.0   0.0   0.0   0.0   0.0   0.0  ...    \n",
       "3          0.0   0.0   0.0   0.0   0.0   0.0   0.0   0.0   0.0   0.0  ...    \n",
       "4          0.0   0.0   0.0   0.0   0.0   2.0   0.0   0.0   0.0   0.0  ...    \n",
       "\n",
       "movie_id  3943  3944  3945  3946  3947  3948  3949  3950  3951  3952  \n",
       "0          0.0   0.0   0.0   0.0   0.0   0.0   0.0   0.0   0.0   0.0  \n",
       "1          0.0   0.0   0.0   0.0   0.0   0.0   0.0   0.0   0.0   0.0  \n",
       "2          0.0   0.0   0.0   0.0   0.0   0.0   0.0   0.0   0.0   0.0  \n",
       "3          0.0   0.0   0.0   0.0   0.0   0.0   0.0   0.0   0.0   0.0  \n",
       "4          0.0   0.0   0.0   0.0   0.0   0.0   0.0   0.0   0.0   0.0  \n",
       "\n",
       "[5 rows x 3706 columns]"
      ]
     },
     "execution_count": 135,
     "metadata": {},
     "output_type": "execute_result"
    }
   ],
   "source": [
    "user_movies_df.head()"
   ]
  },
  {
   "cell_type": "code",
   "execution_count": 175,
   "metadata": {},
   "outputs": [
    {
     "data": {
      "text/html": [
       "<div>\n",
       "<style scoped>\n",
       "    .dataframe tbody tr th:only-of-type {\n",
       "        vertical-align: middle;\n",
       "    }\n",
       "\n",
       "    .dataframe tbody tr th {\n",
       "        vertical-align: top;\n",
       "    }\n",
       "\n",
       "    .dataframe thead th {\n",
       "        text-align: right;\n",
       "    }\n",
       "</style>\n",
       "<table border=\"1\" class=\"dataframe\">\n",
       "  <thead>\n",
       "    <tr style=\"text-align: right;\">\n",
       "      <th>movie_id</th>\n",
       "      <th>11</th>\n",
       "      <th>12</th>\n",
       "      <th>13</th>\n",
       "      <th>14</th>\n",
       "      <th>15</th>\n",
       "      <th>16</th>\n",
       "      <th>17</th>\n",
       "      <th>18</th>\n",
       "      <th>19</th>\n",
       "      <th>20</th>\n",
       "    </tr>\n",
       "  </thead>\n",
       "  <tbody>\n",
       "    <tr>\n",
       "      <th>0</th>\n",
       "      <td>0.0</td>\n",
       "      <td>0.0</td>\n",
       "      <td>0.0</td>\n",
       "      <td>0.0</td>\n",
       "      <td>0.0</td>\n",
       "      <td>0.0</td>\n",
       "      <td>0.0</td>\n",
       "      <td>0.0</td>\n",
       "      <td>0.0</td>\n",
       "      <td>0.0</td>\n",
       "    </tr>\n",
       "    <tr>\n",
       "      <th>1</th>\n",
       "      <td>0.0</td>\n",
       "      <td>0.0</td>\n",
       "      <td>0.0</td>\n",
       "      <td>0.0</td>\n",
       "      <td>0.0</td>\n",
       "      <td>0.0</td>\n",
       "      <td>0.0</td>\n",
       "      <td>0.0</td>\n",
       "      <td>0.0</td>\n",
       "      <td>0.0</td>\n",
       "    </tr>\n",
       "    <tr>\n",
       "      <th>2</th>\n",
       "      <td>0.0</td>\n",
       "      <td>0.0</td>\n",
       "      <td>0.0</td>\n",
       "      <td>0.0</td>\n",
       "      <td>0.0</td>\n",
       "      <td>0.0</td>\n",
       "      <td>0.0</td>\n",
       "      <td>0.0</td>\n",
       "      <td>0.0</td>\n",
       "      <td>0.0</td>\n",
       "    </tr>\n",
       "    <tr>\n",
       "      <th>3</th>\n",
       "      <td>0.0</td>\n",
       "      <td>0.0</td>\n",
       "      <td>0.0</td>\n",
       "      <td>0.0</td>\n",
       "      <td>0.0</td>\n",
       "      <td>0.0</td>\n",
       "      <td>0.0</td>\n",
       "      <td>0.0</td>\n",
       "      <td>0.0</td>\n",
       "      <td>0.0</td>\n",
       "    </tr>\n",
       "    <tr>\n",
       "      <th>4</th>\n",
       "      <td>0.0</td>\n",
       "      <td>0.0</td>\n",
       "      <td>0.0</td>\n",
       "      <td>0.0</td>\n",
       "      <td>0.0</td>\n",
       "      <td>3.0</td>\n",
       "      <td>0.0</td>\n",
       "      <td>0.0</td>\n",
       "      <td>0.0</td>\n",
       "      <td>0.0</td>\n",
       "    </tr>\n",
       "    <tr>\n",
       "      <th>5</th>\n",
       "      <td>0.0</td>\n",
       "      <td>0.0</td>\n",
       "      <td>0.0</td>\n",
       "      <td>0.0</td>\n",
       "      <td>0.0</td>\n",
       "      <td>0.0</td>\n",
       "      <td>4.0</td>\n",
       "      <td>0.0</td>\n",
       "      <td>0.0</td>\n",
       "      <td>0.0</td>\n",
       "    </tr>\n",
       "    <tr>\n",
       "      <th>6</th>\n",
       "      <td>0.0</td>\n",
       "      <td>0.0</td>\n",
       "      <td>0.0</td>\n",
       "      <td>0.0</td>\n",
       "      <td>0.0</td>\n",
       "      <td>0.0</td>\n",
       "      <td>0.0</td>\n",
       "      <td>0.0</td>\n",
       "      <td>0.0</td>\n",
       "      <td>0.0</td>\n",
       "    </tr>\n",
       "    <tr>\n",
       "      <th>7</th>\n",
       "      <td>0.0</td>\n",
       "      <td>0.0</td>\n",
       "      <td>0.0</td>\n",
       "      <td>4.0</td>\n",
       "      <td>0.0</td>\n",
       "      <td>4.0</td>\n",
       "      <td>4.0</td>\n",
       "      <td>0.0</td>\n",
       "      <td>0.0</td>\n",
       "      <td>0.0</td>\n",
       "    </tr>\n",
       "    <tr>\n",
       "      <th>8</th>\n",
       "      <td>0.0</td>\n",
       "      <td>0.0</td>\n",
       "      <td>0.0</td>\n",
       "      <td>0.0</td>\n",
       "      <td>0.0</td>\n",
       "      <td>4.0</td>\n",
       "      <td>0.0</td>\n",
       "      <td>0.0</td>\n",
       "      <td>0.0</td>\n",
       "      <td>0.0</td>\n",
       "    </tr>\n",
       "    <tr>\n",
       "      <th>9</th>\n",
       "      <td>0.0</td>\n",
       "      <td>0.0</td>\n",
       "      <td>0.0</td>\n",
       "      <td>0.0</td>\n",
       "      <td>0.0</td>\n",
       "      <td>0.0</td>\n",
       "      <td>0.0</td>\n",
       "      <td>0.0</td>\n",
       "      <td>0.0</td>\n",
       "      <td>0.0</td>\n",
       "    </tr>\n",
       "  </tbody>\n",
       "</table>\n",
       "</div>"
      ],
      "text/plain": [
       "movie_id   11   12   13   14   15   16   17   18   19   20\n",
       "0         0.0  0.0  0.0  0.0  0.0  0.0  0.0  0.0  0.0  0.0\n",
       "1         0.0  0.0  0.0  0.0  0.0  0.0  0.0  0.0  0.0  0.0\n",
       "2         0.0  0.0  0.0  0.0  0.0  0.0  0.0  0.0  0.0  0.0\n",
       "3         0.0  0.0  0.0  0.0  0.0  0.0  0.0  0.0  0.0  0.0\n",
       "4         0.0  0.0  0.0  0.0  0.0  3.0  0.0  0.0  0.0  0.0\n",
       "5         0.0  0.0  0.0  0.0  0.0  0.0  4.0  0.0  0.0  0.0\n",
       "6         0.0  0.0  0.0  0.0  0.0  0.0  0.0  0.0  0.0  0.0\n",
       "7         0.0  0.0  0.0  4.0  0.0  4.0  4.0  0.0  0.0  0.0\n",
       "8         0.0  0.0  0.0  0.0  0.0  4.0  0.0  0.0  0.0  0.0\n",
       "9         0.0  0.0  0.0  0.0  0.0  0.0  0.0  0.0  0.0  0.0"
      ]
     },
     "execution_count": 175,
     "metadata": {},
     "output_type": "execute_result"
    }
   ],
   "source": [
    "user_movies_df.iloc[:10, 10:20]"
   ]
  },
  {
   "cell_type": "code",
   "execution_count": 157,
   "metadata": {},
   "outputs": [
    {
     "data": {
      "text/html": [
       "<div>\n",
       "<style scoped>\n",
       "    .dataframe tbody tr th:only-of-type {\n",
       "        vertical-align: middle;\n",
       "    }\n",
       "\n",
       "    .dataframe tbody tr th {\n",
       "        vertical-align: top;\n",
       "    }\n",
       "\n",
       "    .dataframe thead th {\n",
       "        text-align: right;\n",
       "    }\n",
       "</style>\n",
       "<table border=\"1\" class=\"dataframe\">\n",
       "  <thead>\n",
       "    <tr style=\"text-align: right;\">\n",
       "      <th>movie_id</th>\n",
       "      <th>1</th>\n",
       "      <th>2</th>\n",
       "      <th>3</th>\n",
       "      <th>4</th>\n",
       "      <th>5</th>\n",
       "      <th>6</th>\n",
       "      <th>7</th>\n",
       "      <th>8</th>\n",
       "      <th>9</th>\n",
       "      <th>10</th>\n",
       "      <th>...</th>\n",
       "      <th>3943</th>\n",
       "      <th>3944</th>\n",
       "      <th>3945</th>\n",
       "      <th>3946</th>\n",
       "      <th>3947</th>\n",
       "      <th>3948</th>\n",
       "      <th>3949</th>\n",
       "      <th>3950</th>\n",
       "      <th>3951</th>\n",
       "      <th>3952</th>\n",
       "    </tr>\n",
       "  </thead>\n",
       "  <tbody>\n",
       "    <tr>\n",
       "      <th>6039</th>\n",
       "      <td>3.0</td>\n",
       "      <td>0.0</td>\n",
       "      <td>0.0</td>\n",
       "      <td>0.0</td>\n",
       "      <td>0.0</td>\n",
       "      <td>0.0</td>\n",
       "      <td>0.0</td>\n",
       "      <td>0.0</td>\n",
       "      <td>0.0</td>\n",
       "      <td>0.0</td>\n",
       "      <td>...</td>\n",
       "      <td>0.0</td>\n",
       "      <td>0.0</td>\n",
       "      <td>0.0</td>\n",
       "      <td>0.0</td>\n",
       "      <td>0.0</td>\n",
       "      <td>0.0</td>\n",
       "      <td>0.0</td>\n",
       "      <td>0.0</td>\n",
       "      <td>0.0</td>\n",
       "      <td>0.0</td>\n",
       "    </tr>\n",
       "  </tbody>\n",
       "</table>\n",
       "<p>1 rows × 3706 columns</p>\n",
       "</div>"
      ],
      "text/plain": [
       "movie_id  1     2     3     4     5     6     7     8     9     10    ...   \\\n",
       "6039       3.0   0.0   0.0   0.0   0.0   0.0   0.0   0.0   0.0   0.0  ...    \n",
       "\n",
       "movie_id  3943  3944  3945  3946  3947  3948  3949  3950  3951  3952  \n",
       "6039       0.0   0.0   0.0   0.0   0.0   0.0   0.0   0.0   0.0   0.0  \n",
       "\n",
       "[1 rows x 3706 columns]"
      ]
     },
     "execution_count": 157,
     "metadata": {},
     "output_type": "execute_result"
    }
   ],
   "source": [
    "# userid=6040的电影点评信息\n",
    "user_movies_df.iloc[[6039]]# 第6040行数据\n",
    "# 筛选出非0的，以进一步和原始数据对比\n"
   ]
  },
  {
   "cell_type": "code",
   "execution_count": 170,
   "metadata": {},
   "outputs": [
    {
     "name": "stdout",
     "output_type": "stream",
     "text": [
      "Int64Index([   1,    2,    3,    4,    5,    6,    7,    8,    9,   10,\n",
      "            ...\n",
      "            3943, 3944, 3945, 3946, 3947, 3948, 3949, 3950, 3951, 3952],\n",
      "           dtype='int64', name='movie_id', length=3706)\n",
      "RangeIndex(start=0, stop=6040, step=1)\n"
     ]
    }
   ],
   "source": [
    "#user_movies_df.loc[[6039]]\n",
    "print(user_movies_df.columns)\n",
    "print(user_movies_df.index)"
   ]
  },
  {
   "cell_type": "code",
   "execution_count": 164,
   "metadata": {},
   "outputs": [
    {
     "data": {
      "text/html": [
       "<div>\n",
       "<style scoped>\n",
       "    .dataframe tbody tr th:only-of-type {\n",
       "        vertical-align: middle;\n",
       "    }\n",
       "\n",
       "    .dataframe tbody tr th {\n",
       "        vertical-align: top;\n",
       "    }\n",
       "\n",
       "    .dataframe thead th {\n",
       "        text-align: right;\n",
       "    }\n",
       "</style>\n",
       "<table border=\"1\" class=\"dataframe\">\n",
       "  <thead>\n",
       "    <tr style=\"text-align: right;\">\n",
       "      <th>movie_id</th>\n",
       "      <th>1</th>\n",
       "      <th>2</th>\n",
       "      <th>3</th>\n",
       "      <th>4</th>\n",
       "      <th>5</th>\n",
       "      <th>6</th>\n",
       "      <th>7</th>\n",
       "      <th>8</th>\n",
       "      <th>9</th>\n",
       "      <th>10</th>\n",
       "      <th>...</th>\n",
       "      <th>3943</th>\n",
       "      <th>3944</th>\n",
       "      <th>3945</th>\n",
       "      <th>3946</th>\n",
       "      <th>3947</th>\n",
       "      <th>3948</th>\n",
       "      <th>3949</th>\n",
       "      <th>3950</th>\n",
       "      <th>3951</th>\n",
       "      <th>3952</th>\n",
       "    </tr>\n",
       "  </thead>\n",
       "  <tbody>\n",
       "    <tr>\n",
       "      <th>6039</th>\n",
       "      <td>3.0</td>\n",
       "      <td>0.0</td>\n",
       "      <td>0.0</td>\n",
       "      <td>0.0</td>\n",
       "      <td>0.0</td>\n",
       "      <td>0.0</td>\n",
       "      <td>0.0</td>\n",
       "      <td>0.0</td>\n",
       "      <td>0.0</td>\n",
       "      <td>0.0</td>\n",
       "      <td>...</td>\n",
       "      <td>0.0</td>\n",
       "      <td>0.0</td>\n",
       "      <td>0.0</td>\n",
       "      <td>0.0</td>\n",
       "      <td>0.0</td>\n",
       "      <td>0.0</td>\n",
       "      <td>0.0</td>\n",
       "      <td>0.0</td>\n",
       "      <td>0.0</td>\n",
       "      <td>0.0</td>\n",
       "    </tr>\n",
       "  </tbody>\n",
       "</table>\n",
       "<p>1 rows × 3706 columns</p>\n",
       "</div>"
      ],
      "text/plain": [
       "movie_id  1     2     3     4     5     6     7     8     9     10    ...   \\\n",
       "6039       3.0   0.0   0.0   0.0   0.0   0.0   0.0   0.0   0.0   0.0  ...    \n",
       "\n",
       "movie_id  3943  3944  3945  3946  3947  3948  3949  3950  3951  3952  \n",
       "6039       0.0   0.0   0.0   0.0   0.0   0.0   0.0   0.0   0.0   0.0  \n",
       "\n",
       "[1 rows x 3706 columns]"
      ]
     },
     "execution_count": 164,
     "metadata": {},
     "output_type": "execute_result"
    }
   ],
   "source": [
    "user_movies_df.ix[[6039]]# 第6040行数据"
   ]
  },
  {
   "cell_type": "code",
   "execution_count": 140,
   "metadata": {},
   "outputs": [
    {
     "name": "stdout",
     "output_type": "stream",
     "text": [
      "RangeIndex(start=0, stop=6040, step=1)\n"
     ]
    }
   ],
   "source": [
    "print(user_movies_df.index)\n",
    "#???但是原始的index是表示用户id，是从1开始啊？？？？？？？？？\n",
    "# ？？？？？？？？？"
   ]
  },
  {
   "cell_type": "code",
   "execution_count": 172,
   "metadata": {},
   "outputs": [
    {
     "data": {
      "text/plain": [
       "pandas.core.frame.DataFrame"
      ]
     },
     "execution_count": 172,
     "metadata": {},
     "output_type": "execute_result"
    }
   ],
   "source": [
    "type(user_movies_df)"
   ]
  },
  {
   "cell_type": "code",
   "execution_count": null,
   "metadata": {},
   "outputs": [],
   "source": [
    "# train_data 数据尺寸 (24004, 3)\n",
    "# test_data 数据尺寸 (6002, 3)\n",
    "# 这里列方向对应的movie_id用一个list记录\n",
    "# 行方向的userid也用一个list记录，然后两者构建两个字典\n",
    "\n",
    "# 预先规定好，行方向和列方向上，各个位置上表示的id。\n",
    "for line in train_data.itertuples():\n",
    "    #print(line[0],line[1],line[2],line[3])\n",
    "    train_data_matrix_new[line[1]-1, line[2]-1] = line[3]\n",
    "    # i，j位置存储i用户对j电影的评分。但是这样会在用户id值大的时候越界的\n",
    "test_data_matrix_new = np.zeros((n_users, n_items))\n",
    "for line in test_data.itertuples():\n",
    "    test_data_matrix_new[line[1]-1, line[2]-1] = line[3]"
   ]
  },
  {
   "cell_type": "markdown",
   "metadata": {},
   "source": [
    "下面的这种求解方式，网络上很多，但是我觉得是错误的。\n",
    "该矩阵并不是真正表示打分情况，需要先做一步转换才行。\n",
    "如下文章中的数据形式才可以。\n",
    "http://www.awesomestats.in/python-recommending-movies/"
   ]
  },
  {
   "cell_type": "code",
   "execution_count": 17,
   "metadata": {},
   "outputs": [
    {
     "name": "stdout",
     "output_type": "stream",
     "text": [
      "[[ 1.         -0.21795171  0.93107823  0.98572609]\n",
      " [-0.21795171  1.          0.15311908 -0.37915028]\n",
      " [ 0.93107823  0.15311908  1.          0.85636818]\n",
      " [ 0.98572609 -0.37915028  0.85636818  1.        ]]\n"
     ]
    }
   ],
   "source": [
    "# 网络上流传的版本，我觉得是错的。放在这里一起看，欢迎大家评论。\n",
    "from sklearn.metrics.pairwise import pairwise_distances\n",
    "\n",
    "# pairwise_distances + cosine similarity 等于 1.0\n",
    "# User Similarity Matrix\n",
    "user_correlation = 1 - pairwise_distances(train_data, metric='correlation')\n",
    "user_correlation[np.isnan(user_correlation)] = 0 # 缺失的位置补0\n",
    "print(user_correlation[:4, :4])"
   ]
  },
  {
   "cell_type": "code",
   "execution_count": 141,
   "metadata": {},
   "outputs": [
    {
     "name": "stdout",
     "output_type": "stream",
     "text": [
      "[[ 1.          0.07689583  0.10863359  0.12504067]\n",
      " [ 0.07689583  1.          0.1340226   0.16108024]\n",
      " [ 0.10863359  0.1340226   1.          0.14423706]\n",
      " [ 0.12504067  0.16108024  0.14423706  1.        ]]\n"
     ]
    }
   ],
   "source": [
    "# 按照我的思路，重新计算的结果。\n",
    "user_correlation = 1 - pairwise_distances(user_movies_df, metric='correlation')\n",
    "user_correlation[np.isnan(user_correlation)] = 0 # 缺失的位置补0\n",
    "print(user_correlation[:4, :4])"
   ]
  },
  {
   "cell_type": "code",
   "execution_count": 142,
   "metadata": {},
   "outputs": [
    {
     "name": "stdout",
     "output_type": "stream",
     "text": [
      "(6040, 6040)\n"
     ]
    }
   ],
   "source": [
    "print(user_correlation.shape)"
   ]
  },
  {
   "cell_type": "code",
   "execution_count": 176,
   "metadata": {},
   "outputs": [
    {
     "data": {
      "text/plain": [
       "0    0\n",
       "1    1\n",
       "2    2\n",
       "3    3\n",
       "4    4\n",
       "dtype: int64"
      ]
     },
     "execution_count": 176,
     "metadata": {},
     "output_type": "execute_result"
    }
   ],
   "source": [
    "user_sim_df = pd.DataFrame( user_correlation )\n",
    "user_sim_df.idxmax(axis=1)[0:5]"
   ]
  },
  {
   "cell_type": "markdown",
   "metadata": {},
   "source": [
    "上述结果是直接展示对角线的结果，这不是我们想要的。我们先对对角线位置填充0，再重新计算。\n"
   ]
  },
  {
   "cell_type": "code",
   "execution_count": 177,
   "metadata": {},
   "outputs": [
    {
     "data": {
      "text/plain": [
       "5720    5776\n",
       "6011    5966\n",
       "290     3750\n",
       "1985    1255\n",
       "1065    2744\n",
       "413      436\n",
       "3600     498\n",
       "4635    4845\n",
       "1969    1904\n",
       "5698    4883\n",
       "dtype: int64"
      ]
     },
     "execution_count": 177,
     "metadata": {},
     "output_type": "execute_result"
    }
   ],
   "source": [
    "np.fill_diagonal( user_correlation, 0 )\n",
    "user_sim_df = pd.DataFrame( user_correlation )\n",
    "user_sim_df.idxmax(axis=1).sample( 10, random_state = 10 )"
   ]
  },
  {
   "cell_type": "markdown",
   "metadata": {},
   "source": [
    "注意，这里的真实的user id是=index number + 1。这意味着用户id=5721和用户id=5777是很相似的。"
   ]
  },
  {
   "cell_type": "code",
   "execution_count": 192,
   "metadata": {},
   "outputs": [
    {
     "data": {
      "text/plain": [
       "pandas.core.frame.DataFrame"
      ]
     },
     "execution_count": 192,
     "metadata": {},
     "output_type": "execute_result"
    }
   ],
   "source": [
    "type(movies)"
   ]
  },
  {
   "cell_type": "code",
   "execution_count": 193,
   "metadata": {},
   "outputs": [],
   "source": [
    "# 从原始的数据中具体对比我们所谓的相似用户user1和user2的\n",
    "def get_user_similar_movies( user1, user2 ):\n",
    "    common_movies = ratings[ratings.user_id == user1].merge( \\\n",
    "      ratings[ratings.user_id == user2],on = \"movie_id\",how = \"inner\" )\n",
    "\n",
    "    return common_movies.merge( movies, on = 'movie_id' )"
   ]
  },
  {
   "cell_type": "code",
   "execution_count": 195,
   "metadata": {},
   "outputs": [
    {
     "data": {
      "text/html": [
       "<div>\n",
       "<style scoped>\n",
       "    .dataframe tbody tr th:only-of-type {\n",
       "        vertical-align: middle;\n",
       "    }\n",
       "\n",
       "    .dataframe tbody tr th {\n",
       "        vertical-align: top;\n",
       "    }\n",
       "\n",
       "    .dataframe thead th {\n",
       "        text-align: right;\n",
       "    }\n",
       "</style>\n",
       "<table border=\"1\" class=\"dataframe\">\n",
       "  <thead>\n",
       "    <tr style=\"text-align: right;\">\n",
       "      <th></th>\n",
       "      <th>user_id_x</th>\n",
       "      <th>movie_id</th>\n",
       "      <th>rating_x</th>\n",
       "      <th>user_id_y</th>\n",
       "      <th>rating_y</th>\n",
       "      <th>title</th>\n",
       "      <th>genres</th>\n",
       "    </tr>\n",
       "  </thead>\n",
       "  <tbody>\n",
       "    <tr>\n",
       "      <th>0</th>\n",
       "      <td>5721</td>\n",
       "      <td>1</td>\n",
       "      <td>5</td>\n",
       "      <td>5777</td>\n",
       "      <td>3</td>\n",
       "      <td>Toy Story (1995)</td>\n",
       "      <td>Animation|Children's|Comedy</td>\n",
       "    </tr>\n",
       "    <tr>\n",
       "      <th>1</th>\n",
       "      <td>5721</td>\n",
       "      <td>3006</td>\n",
       "      <td>3</td>\n",
       "      <td>5777</td>\n",
       "      <td>4</td>\n",
       "      <td>Insider, The (1999)</td>\n",
       "      <td>Drama</td>\n",
       "    </tr>\n",
       "    <tr>\n",
       "      <th>2</th>\n",
       "      <td>5721</td>\n",
       "      <td>593</td>\n",
       "      <td>5</td>\n",
       "      <td>5777</td>\n",
       "      <td>5</td>\n",
       "      <td>Silence of the Lambs, The (1991)</td>\n",
       "      <td>Drama|Thriller</td>\n",
       "    </tr>\n",
       "    <tr>\n",
       "      <th>3</th>\n",
       "      <td>5721</td>\n",
       "      <td>903</td>\n",
       "      <td>4</td>\n",
       "      <td>5777</td>\n",
       "      <td>4</td>\n",
       "      <td>Vertigo (1958)</td>\n",
       "      <td>Mystery|Thriller</td>\n",
       "    </tr>\n",
       "    <tr>\n",
       "      <th>4</th>\n",
       "      <td>5721</td>\n",
       "      <td>904</td>\n",
       "      <td>5</td>\n",
       "      <td>5777</td>\n",
       "      <td>4</td>\n",
       "      <td>Rear Window (1954)</td>\n",
       "      <td>Mystery|Thriller</td>\n",
       "    </tr>\n",
       "    <tr>\n",
       "      <th>5</th>\n",
       "      <td>5721</td>\n",
       "      <td>908</td>\n",
       "      <td>5</td>\n",
       "      <td>5777</td>\n",
       "      <td>5</td>\n",
       "      <td>North by Northwest (1959)</td>\n",
       "      <td>Drama|Thriller</td>\n",
       "    </tr>\n",
       "    <tr>\n",
       "      <th>6</th>\n",
       "      <td>5721</td>\n",
       "      <td>919</td>\n",
       "      <td>5</td>\n",
       "      <td>5777</td>\n",
       "      <td>5</td>\n",
       "      <td>Wizard of Oz, The (1939)</td>\n",
       "      <td>Adventure|Children's|Drama|Musical</td>\n",
       "    </tr>\n",
       "    <tr>\n",
       "      <th>7</th>\n",
       "      <td>5721</td>\n",
       "      <td>1104</td>\n",
       "      <td>4</td>\n",
       "      <td>5777</td>\n",
       "      <td>5</td>\n",
       "      <td>Streetcar Named Desire, A (1951)</td>\n",
       "      <td>Drama</td>\n",
       "    </tr>\n",
       "    <tr>\n",
       "      <th>8</th>\n",
       "      <td>5721</td>\n",
       "      <td>2858</td>\n",
       "      <td>3</td>\n",
       "      <td>5777</td>\n",
       "      <td>5</td>\n",
       "      <td>American Beauty (1999)</td>\n",
       "      <td>Comedy|Drama</td>\n",
       "    </tr>\n",
       "    <tr>\n",
       "      <th>9</th>\n",
       "      <td>5721</td>\n",
       "      <td>608</td>\n",
       "      <td>4</td>\n",
       "      <td>5777</td>\n",
       "      <td>5</td>\n",
       "      <td>Fargo (1996)</td>\n",
       "      <td>Crime|Drama|Thriller</td>\n",
       "    </tr>\n",
       "    <tr>\n",
       "      <th>10</th>\n",
       "      <td>5721</td>\n",
       "      <td>1178</td>\n",
       "      <td>5</td>\n",
       "      <td>5777</td>\n",
       "      <td>4</td>\n",
       "      <td>Paths of Glory (1957)</td>\n",
       "      <td>Drama|War</td>\n",
       "    </tr>\n",
       "    <tr>\n",
       "      <th>11</th>\n",
       "      <td>5721</td>\n",
       "      <td>1193</td>\n",
       "      <td>4</td>\n",
       "      <td>5777</td>\n",
       "      <td>5</td>\n",
       "      <td>One Flew Over the Cuckoo's Nest (1975)</td>\n",
       "      <td>Drama</td>\n",
       "    </tr>\n",
       "    <tr>\n",
       "      <th>12</th>\n",
       "      <td>5721</td>\n",
       "      <td>3504</td>\n",
       "      <td>4</td>\n",
       "      <td>5777</td>\n",
       "      <td>5</td>\n",
       "      <td>Network (1976)</td>\n",
       "      <td>Comedy|Drama</td>\n",
       "    </tr>\n",
       "    <tr>\n",
       "      <th>13</th>\n",
       "      <td>5721</td>\n",
       "      <td>318</td>\n",
       "      <td>3</td>\n",
       "      <td>5777</td>\n",
       "      <td>4</td>\n",
       "      <td>Shawshank Redemption, The (1994)</td>\n",
       "      <td>Drama</td>\n",
       "    </tr>\n",
       "    <tr>\n",
       "      <th>14</th>\n",
       "      <td>5721</td>\n",
       "      <td>50</td>\n",
       "      <td>2</td>\n",
       "      <td>5777</td>\n",
       "      <td>4</td>\n",
       "      <td>Usual Suspects, The (1995)</td>\n",
       "      <td>Crime|Thriller</td>\n",
       "    </tr>\n",
       "    <tr>\n",
       "      <th>15</th>\n",
       "      <td>5721</td>\n",
       "      <td>1207</td>\n",
       "      <td>5</td>\n",
       "      <td>5777</td>\n",
       "      <td>4</td>\n",
       "      <td>To Kill a Mockingbird (1962)</td>\n",
       "      <td>Drama</td>\n",
       "    </tr>\n",
       "    <tr>\n",
       "      <th>16</th>\n",
       "      <td>5721</td>\n",
       "      <td>1213</td>\n",
       "      <td>2</td>\n",
       "      <td>5777</td>\n",
       "      <td>4</td>\n",
       "      <td>GoodFellas (1990)</td>\n",
       "      <td>Crime|Drama</td>\n",
       "    </tr>\n",
       "    <tr>\n",
       "      <th>17</th>\n",
       "      <td>5721</td>\n",
       "      <td>1225</td>\n",
       "      <td>5</td>\n",
       "      <td>5777</td>\n",
       "      <td>5</td>\n",
       "      <td>Amadeus (1984)</td>\n",
       "      <td>Drama</td>\n",
       "    </tr>\n",
       "    <tr>\n",
       "      <th>18</th>\n",
       "      <td>5721</td>\n",
       "      <td>1230</td>\n",
       "      <td>4</td>\n",
       "      <td>5777</td>\n",
       "      <td>5</td>\n",
       "      <td>Annie Hall (1977)</td>\n",
       "      <td>Comedy|Romance</td>\n",
       "    </tr>\n",
       "    <tr>\n",
       "      <th>19</th>\n",
       "      <td>5721</td>\n",
       "      <td>1244</td>\n",
       "      <td>3</td>\n",
       "      <td>5777</td>\n",
       "      <td>5</td>\n",
       "      <td>Manhattan (1979)</td>\n",
       "      <td>Comedy|Drama|Romance</td>\n",
       "    </tr>\n",
       "    <tr>\n",
       "      <th>20</th>\n",
       "      <td>5721</td>\n",
       "      <td>1252</td>\n",
       "      <td>5</td>\n",
       "      <td>5777</td>\n",
       "      <td>5</td>\n",
       "      <td>Chinatown (1974)</td>\n",
       "      <td>Film-Noir|Mystery|Thriller</td>\n",
       "    </tr>\n",
       "    <tr>\n",
       "      <th>21</th>\n",
       "      <td>5721</td>\n",
       "      <td>750</td>\n",
       "      <td>5</td>\n",
       "      <td>5777</td>\n",
       "      <td>5</td>\n",
       "      <td>Dr. Strangelove or: How I Learned to Stop Worr...</td>\n",
       "      <td>Sci-Fi|War</td>\n",
       "    </tr>\n",
       "    <tr>\n",
       "      <th>22</th>\n",
       "      <td>5721</td>\n",
       "      <td>1304</td>\n",
       "      <td>3</td>\n",
       "      <td>5777</td>\n",
       "      <td>5</td>\n",
       "      <td>Butch Cassidy and the Sundance Kid (1969)</td>\n",
       "      <td>Action|Comedy|Western</td>\n",
       "    </tr>\n",
       "    <tr>\n",
       "      <th>23</th>\n",
       "      <td>5721</td>\n",
       "      <td>2300</td>\n",
       "      <td>3</td>\n",
       "      <td>5777</td>\n",
       "      <td>5</td>\n",
       "      <td>Producers, The (1968)</td>\n",
       "      <td>Comedy|Musical</td>\n",
       "    </tr>\n",
       "    <tr>\n",
       "      <th>24</th>\n",
       "      <td>5721</td>\n",
       "      <td>899</td>\n",
       "      <td>5</td>\n",
       "      <td>5777</td>\n",
       "      <td>5</td>\n",
       "      <td>Singin' in the Rain (1952)</td>\n",
       "      <td>Musical|Romance</td>\n",
       "    </tr>\n",
       "    <tr>\n",
       "      <th>25</th>\n",
       "      <td>5721</td>\n",
       "      <td>111</td>\n",
       "      <td>2</td>\n",
       "      <td>5777</td>\n",
       "      <td>5</td>\n",
       "      <td>Taxi Driver (1976)</td>\n",
       "      <td>Drama|Thriller</td>\n",
       "    </tr>\n",
       "    <tr>\n",
       "      <th>26</th>\n",
       "      <td>5721</td>\n",
       "      <td>3350</td>\n",
       "      <td>4</td>\n",
       "      <td>5777</td>\n",
       "      <td>4</td>\n",
       "      <td>Raisin in the Sun, A (1961)</td>\n",
       "      <td>Drama</td>\n",
       "    </tr>\n",
       "    <tr>\n",
       "      <th>27</th>\n",
       "      <td>5721</td>\n",
       "      <td>3362</td>\n",
       "      <td>4</td>\n",
       "      <td>5777</td>\n",
       "      <td>4</td>\n",
       "      <td>Dog Day Afternoon (1975)</td>\n",
       "      <td>Comedy|Crime|Drama</td>\n",
       "    </tr>\n",
       "    <tr>\n",
       "      <th>28</th>\n",
       "      <td>5721</td>\n",
       "      <td>2010</td>\n",
       "      <td>4</td>\n",
       "      <td>5777</td>\n",
       "      <td>5</td>\n",
       "      <td>Metropolis (1926)</td>\n",
       "      <td>Sci-Fi</td>\n",
       "    </tr>\n",
       "    <tr>\n",
       "      <th>29</th>\n",
       "      <td>5721</td>\n",
       "      <td>2028</td>\n",
       "      <td>2</td>\n",
       "      <td>5777</td>\n",
       "      <td>4</td>\n",
       "      <td>Saving Private Ryan (1998)</td>\n",
       "      <td>Action|Drama|War</td>\n",
       "    </tr>\n",
       "  </tbody>\n",
       "</table>\n",
       "</div>"
      ],
      "text/plain": [
       "    user_id_x  movie_id  rating_x  user_id_y  rating_y  \\\n",
       "0        5721         1         5       5777         3   \n",
       "1        5721      3006         3       5777         4   \n",
       "2        5721       593         5       5777         5   \n",
       "3        5721       903         4       5777         4   \n",
       "4        5721       904         5       5777         4   \n",
       "5        5721       908         5       5777         5   \n",
       "6        5721       919         5       5777         5   \n",
       "7        5721      1104         4       5777         5   \n",
       "8        5721      2858         3       5777         5   \n",
       "9        5721       608         4       5777         5   \n",
       "10       5721      1178         5       5777         4   \n",
       "11       5721      1193         4       5777         5   \n",
       "12       5721      3504         4       5777         5   \n",
       "13       5721       318         3       5777         4   \n",
       "14       5721        50         2       5777         4   \n",
       "15       5721      1207         5       5777         4   \n",
       "16       5721      1213         2       5777         4   \n",
       "17       5721      1225         5       5777         5   \n",
       "18       5721      1230         4       5777         5   \n",
       "19       5721      1244         3       5777         5   \n",
       "20       5721      1252         5       5777         5   \n",
       "21       5721       750         5       5777         5   \n",
       "22       5721      1304         3       5777         5   \n",
       "23       5721      2300         3       5777         5   \n",
       "24       5721       899         5       5777         5   \n",
       "25       5721       111         2       5777         5   \n",
       "26       5721      3350         4       5777         4   \n",
       "27       5721      3362         4       5777         4   \n",
       "28       5721      2010         4       5777         5   \n",
       "29       5721      2028         2       5777         4   \n",
       "\n",
       "                                                title  \\\n",
       "0                                    Toy Story (1995)   \n",
       "1                                 Insider, The (1999)   \n",
       "2                    Silence of the Lambs, The (1991)   \n",
       "3                                      Vertigo (1958)   \n",
       "4                                  Rear Window (1954)   \n",
       "5                           North by Northwest (1959)   \n",
       "6                            Wizard of Oz, The (1939)   \n",
       "7                    Streetcar Named Desire, A (1951)   \n",
       "8                              American Beauty (1999)   \n",
       "9                                        Fargo (1996)   \n",
       "10                              Paths of Glory (1957)   \n",
       "11             One Flew Over the Cuckoo's Nest (1975)   \n",
       "12                                     Network (1976)   \n",
       "13                   Shawshank Redemption, The (1994)   \n",
       "14                         Usual Suspects, The (1995)   \n",
       "15                       To Kill a Mockingbird (1962)   \n",
       "16                                  GoodFellas (1990)   \n",
       "17                                     Amadeus (1984)   \n",
       "18                                  Annie Hall (1977)   \n",
       "19                                   Manhattan (1979)   \n",
       "20                                   Chinatown (1974)   \n",
       "21  Dr. Strangelove or: How I Learned to Stop Worr...   \n",
       "22          Butch Cassidy and the Sundance Kid (1969)   \n",
       "23                              Producers, The (1968)   \n",
       "24                         Singin' in the Rain (1952)   \n",
       "25                                 Taxi Driver (1976)   \n",
       "26                        Raisin in the Sun, A (1961)   \n",
       "27                           Dog Day Afternoon (1975)   \n",
       "28                                  Metropolis (1926)   \n",
       "29                         Saving Private Ryan (1998)   \n",
       "\n",
       "                                genres  \n",
       "0          Animation|Children's|Comedy  \n",
       "1                                Drama  \n",
       "2                       Drama|Thriller  \n",
       "3                     Mystery|Thriller  \n",
       "4                     Mystery|Thriller  \n",
       "5                       Drama|Thriller  \n",
       "6   Adventure|Children's|Drama|Musical  \n",
       "7                                Drama  \n",
       "8                         Comedy|Drama  \n",
       "9                 Crime|Drama|Thriller  \n",
       "10                           Drama|War  \n",
       "11                               Drama  \n",
       "12                        Comedy|Drama  \n",
       "13                               Drama  \n",
       "14                      Crime|Thriller  \n",
       "15                               Drama  \n",
       "16                         Crime|Drama  \n",
       "17                               Drama  \n",
       "18                      Comedy|Romance  \n",
       "19                Comedy|Drama|Romance  \n",
       "20          Film-Noir|Mystery|Thriller  \n",
       "21                          Sci-Fi|War  \n",
       "22               Action|Comedy|Western  \n",
       "23                      Comedy|Musical  \n",
       "24                     Musical|Romance  \n",
       "25                      Drama|Thriller  \n",
       "26                               Drama  \n",
       "27                  Comedy|Crime|Drama  \n",
       "28                              Sci-Fi  \n",
       "29                    Action|Drama|War  "
      ]
     },
     "execution_count": 195,
     "metadata": {},
     "output_type": "execute_result"
    }
   ],
   "source": [
    "get_user_similar_movies( 5721, 5777 )"
   ]
  },
  {
   "cell_type": "code",
   "execution_count": 23,
   "metadata": {},
   "outputs": [
    {
     "name": "stdout",
     "output_type": "stream",
     "text": [
      "[[  1.00000000e+00   2.06941018e-04   1.94366017e-02]\n",
      " [  2.06941018e-04   1.00000000e+00  -6.31548584e-02]\n",
      " [  1.94366017e-02  -6.31548584e-02   1.00000000e+00]]\n"
     ]
    }
   ],
   "source": [
    "# Item Similarity Matrix\n",
    "# 计算Item 的相似矩阵，这个版本是与上述错误版本配套的，所以就一起放这里，一起评鉴\n",
    "item_correlation = 1 - pairwise_distances(train_data_matrix.T, metric='correlation')\n",
    "item_correlation[np.isnan(item_correlation)] = 0\n",
    "print(item_correlation[:4, :4])"
   ]
  },
  {
   "cell_type": "code",
   "execution_count": 24,
   "metadata": {},
   "outputs": [
    {
     "name": "stdout",
     "output_type": "stream",
     "text": [
      "(3, 3)\n"
     ]
    }
   ],
   "source": [
    "print(item_correlation.shape)\n",
    "# ['user_id', 'movie_id', 'rating']只有这3种"
   ]
  },
  {
   "cell_type": "markdown",
   "metadata": {},
   "source": [
    "其实，看到这里item的尺寸才3，这就可以立刻反应，这肯定是错了。\n",
    "所以，按照我们的思路，重新计算一次。"
   ]
  },
  {
   "cell_type": "code",
   "execution_count": 143,
   "metadata": {},
   "outputs": [
    {
     "name": "stdout",
     "output_type": "stream",
     "text": [
      "[[ 1.          0.26264945  0.14653623  0.10937542]\n",
      " [ 0.26264945  1.          0.16958627  0.111616  ]\n",
      " [ 0.14653623  0.16958627  1.          0.1586589 ]\n",
      " [ 0.10937542  0.111616    0.1586589   1.        ]]\n"
     ]
    }
   ],
   "source": [
    "%%time\n",
    "item_correlation = 1 - pairwise_distances(user_movies_df.T, metric='correlation')\n",
    "item_correlation[np.isnan(item_correlation)] = 0\n",
    "print(item_correlation[:4, :4])"
   ]
  },
  {
   "cell_type": "code",
   "execution_count": 144,
   "metadata": {},
   "outputs": [
    {
     "data": {
      "text/plain": [
       "(3706, 3706)"
      ]
     },
     "execution_count": 144,
     "metadata": {},
     "output_type": "execute_result"
    }
   ],
   "source": [
    "item_correlation.shape"
   ]
  },
  {
   "cell_type": "code",
   "execution_count": null,
   "metadata": {},
   "outputs": [],
   "source": [
    "前面介绍的两种协同过滤都是基于内存，当人数或者电影数很大时候内存很容易耗尽。\n",
    "\n",
    "在获取了相似矩阵后，可以在test数据集上预测以对推荐系统评估。\n",
    "\n",
    "基于user的CF，我们"
   ]
  },
  {
   "cell_type": "markdown",
   "metadata": {},
   "source": [
    "With the similarity matrix in hand, I can now predict the ratings that were not included with the data. Using these predictions, I can then compare them with the test data to attempt to validate the quality of our recommender model.\n",
    "\n",
    "For the user-user CF case, I will look at the similarity between 2 users (A and B, for example) as weights that are multiplied by the ratings of a similar user B (corrected for the average rating of that user). I also need to normalize it so that the ratings stay between 1 and 5 and, as a final step, sum the average ratings for the user that I am trying to predict. The idea here is that some users may tend always to give high or low ratings to all movies. The relative difference in the ratings that these users give is more important than the absolute values. "
   ]
  },
  {
   "cell_type": "code",
   "execution_count": 199,
   "metadata": {},
   "outputs": [
    {
     "name": "stdout",
     "output_type": "stream",
     "text": [
      "(1000209,)\n"
     ]
    }
   ],
   "source": [
    "# 需要获取每个用户的平均打分习惯\n",
    "temp_v = ratings.mean(axis=1) # 按行计算的均值\n",
    "print(temp_v.shape)\n",
    "\n",
    "# "
   ]
  },
  {
   "cell_type": "code",
   "execution_count": 142,
   "metadata": {},
   "outputs": [],
   "source": [
    "# Function to predict ratings\n",
    "# 新增一个维度表示预测\n",
    "# 预测的评分是用户相似度和相似用户对该电影的评分的加权求和。\n",
    "def predict(ratings, similarity, type='user'):\n",
    "    if type == 'user':\n",
    "        mean_user_rating = ratings.mean(axis=1)\n",
    "        # Use np.newaxis so that mean_user_rating has same format as ratings\n",
    "        ratings_diff = (ratings - mean_user_rating[:, np.newaxis])\n",
    "        pred = mean_user_rating[:, np.newaxis] + similarity.dot(ratings_diff) / np.array([np.abs(similarity).sum(axis=1)]).T\n",
    "    elif type == 'item':\n",
    "        pred = ratings.dot(similarity) / np.array([np.abs(similarity).sum(axis=1)])\n",
    "        # ratings * similarity，矩阵相乘\n",
    "    return pred"
   ]
  },
  {
   "cell_type": "markdown",
   "metadata": {},
   "source": [
    "### Evaluation\n",
    "There are many evaluation metrics but one of the most popular metric used to evaluate accuracy of predicted ratings is **Root Mean Squared Error (RMSE)**. I will use the **mean_square_error (MSE)** function from sklearn, where the RMSE is just the square root of MSE.\n",
    "\n",
    "$$\\mathit{RMSE} =\\sqrt{\\frac{1}{N} \\sum (x_i -\\hat{x_i})^2}$$\n",
    "\n",
    "I'll use the scikit-learn's **mean squared error** function as my validation metric. Comparing user- and item-based collaborative filtering, it looks like user-based collaborative filtering gives a better result."
   ]
  },
  {
   "cell_type": "code",
   "execution_count": 143,
   "metadata": {},
   "outputs": [],
   "source": [
    "from sklearn.metrics import mean_squared_error\n",
    "from math import sqrt\n",
    "\n",
    "# Function to calculate RMSE\n",
    "def rmse(pred, actual):\n",
    "    # Ignore nonzero terms.\n",
    "    pred = pred[actual.nonzero()].flatten()\n",
    "    actual = actual[actual.nonzero()].flatten()\n",
    "    return sqrt(mean_squared_error(pred, actual))"
   ]
  },
  {
   "cell_type": "code",
   "execution_count": 144,
   "metadata": {},
   "outputs": [
    {
     "name": "stdout",
     "output_type": "stream",
     "text": [
      "User-based CF RMSE: 1421.0880050551634\n",
      "Item-based CF RMSE: 1640.2449411878865\n"
     ]
    }
   ],
   "source": [
    "# Predict ratings on the training data with both similarity score\n",
    "user_prediction = predict(train_data_matrix, user_correlation, type='user')\n",
    "item_prediction = predict(train_data_matrix, item_correlation, type='item')\n",
    "\n",
    "# RMSE on the test data\n",
    "print('User-based CF RMSE: ' + str(rmse(user_prediction, test_data_matrix)))\n",
    "print('Item-based CF RMSE: ' + str(rmse(item_prediction, test_data_matrix)))"
   ]
  },
  {
   "cell_type": "markdown",
   "metadata": {},
   "source": [
    "不懂原文作者为啥拿训练数据进行预测的结果，竟然去与测试数据比较？？不该拿测试数据进行预测，然后和测试数据比？\n",
    "还是评估方法本身就这样？？？\n",
    "\n",
    "？？？？？"
   ]
  },
  {
   "cell_type": "code",
   "execution_count": 145,
   "metadata": {},
   "outputs": [
    {
     "name": "stdout",
     "output_type": "stream",
     "text": [
      "User-based CF RMSE: 694.9476859053428\n",
      "Item-based CF RMSE: 163.94893086308284\n"
     ]
    }
   ],
   "source": [
    "# RMSE on the train data\n",
    "print('User-based CF RMSE: ' + str(rmse(user_prediction, train_data_matrix)))\n",
    "print('Item-based CF RMSE: ' + str(rmse(item_prediction, train_data_matrix)))"
   ]
  },
  {
   "cell_type": "markdown",
   "metadata": {},
   "source": [
    "RMSE of training of model is a metric which measure how much the signal and the noise is explained by the model. I noticed that my RMSE is quite big. I suppose I might have overfitted the training data.\n",
    "\n",
    "Overall, Memory-based Collaborative Filtering is easy to implement and produce reasonable prediction quality. However, there are some drawback of this approach:\n",
    "\n",
    "* It doesn't address the well-known cold-start problem, that is when new user or new item enters the system. \n",
    "* It can't deal with sparse data, meaning it's hard to find users that have rated the same items.\n",
    "* It suffers when new users or items that don't have any ratings enter the system.\n",
    "* It tends to recommend popular items."
   ]
  },
  {
   "cell_type": "markdown",
   "metadata": {},
   "source": [
    "## Alternative Approach\n",
    "As I mentioned above, it looks like my Collaborative Filtering model suffers from overfitting problem as I only train it on a small sample dataset (2% of the actual 1M ratings). In order to deal with this, I need to apply dimensionality reduction techniques to capture more signals from the big dataset. Thus comes the use of **low-dimensional factor models (aka, Model-Based Collaborative Filtering)**. I won't be able to implement this approach in this notebook due to computing limit, however, I want to introduce it here to give you a general sense of its advantages.\n",
    "\n",
    "In this approach, CF models are developed using machine learning algorithms to predict user’s rating of unrated items. It has been shown that Model-based Collaborative Filtering has received greater exposure in industry research, mainly as an unsupervised learning method for latent variable decomposition and dimensionality reduction. An example is the competition to win the [Netflix Prize](https://en.wikipedia.org/wiki/Netflix_Prize), which used the best collaborative filtering algorithm to predict user ratings for films, based on previous ratings without any other information about the users or films.\n",
    "\n",
    "Matrix factorization is widely used for recommender systems where it can deal better with scalability and sparsity than Memory-based CF. The goal of MF is to learn the latent preferences of users and the latent attributes of items from known ratings (learn features that describe the characteristics of ratings) to then predict the unknown ratings through the dot product of the latent features of users and items. As per my understanding, the algorithms in this approach can further be broken down into 3 sub-types:\n",
    "\n",
    "* **Matrix Factorization (MF)**: The idea behind such models is that attitudes or preferences of a user can be determined by a small number of hidden latent factors. These factors are also called **Embeddings**, which represent different characteristics for users and items. Matrix factorization can be done by various methods including Support Vecot Decomposition (SVD), Probabilistic Matrix Factorization (PMF), and Non-Negative Matrix Factorization (NMF).\n",
    "\n",
    "* **Clustering based algorithm (KNN)**: The idea of clustering is same as that of memory-based recommendation systems. In memory-based algorithms, we use the similarities between users and/or items and use them as weights to predict a rating for a user and an item. The difference is that the similarities in this approach are calculated based on an unsupervised learning model, rather than Pearson correlation or cosine similarity.\n",
    "\n",
    "* **Neural Nets / Deep Learning**: The idea of using Neural Nets is similar to that of Model-Based Matrix Factorization. In matrix factorizaion, we decompose our original sparse matrix into product of 2 low rank orthogonal matrices. For neural net implementation, we don’t need them to be orthogonal, we want our model to learn the values of embedding matrix itself. The user latent features and movie latent features are looked up from the embedding matrices for specific movie-user combination. These are the input values for further linear and non-linear layers. We can pass this input to multiple relu, linear or sigmoid layers and learn the corresponding weights by any optimization algorithm (Adam, SGD, etc.).\n",
    "\n",
    "![memory-model-cf](images/memory-model-cf.jpg)"
   ]
  },
  {
   "cell_type": "markdown",
   "metadata": {},
   "source": [
    "## Summary\n",
    "In this post, I introduced the Movie Lens dataset for building movie recommendation system.\n",
    "\n",
    "Specifically, I have developed recommendation models including:\n",
    "\n",
    "* How to load and review the data.\n",
    "* How to develop a content-based recommendation model based on movie genres.\n",
    "* How to develop a memory-based collaborative filtering model based on user ratings.\n",
    "* A glimpse at model-based collaborative filtering models as alternative options."
   ]
  }
 ],
 "metadata": {
  "kernelspec": {
   "display_name": "Python 3",
   "language": "python",
   "name": "python3"
  },
  "language_info": {
   "codemirror_mode": {
    "name": "ipython",
    "version": 3
   },
   "file_extension": ".py",
   "mimetype": "text/x-python",
   "name": "python",
   "nbconvert_exporter": "python",
   "pygments_lexer": "ipython3",
   "version": "3.5.4"
  }
 },
 "nbformat": 4,
 "nbformat_minor": 2
}

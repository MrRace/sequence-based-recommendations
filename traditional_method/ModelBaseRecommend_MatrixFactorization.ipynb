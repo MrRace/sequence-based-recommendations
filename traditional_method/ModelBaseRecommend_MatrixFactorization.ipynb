{
 "cells": [
  {
   "cell_type": "markdown",
   "metadata": {},
   "source": [
    "# 0-背景\n",
    "\n",
    "两种最普遍的推荐系统的类型是基于内容和协同过滤（CF）。协同过滤基于用户对产品的态度产生推荐，也就是说，它使用“人群的智慧”来推荐产品。与此相反，基于内容的推荐系统集中于物品的属性，并基于它们之间的相似性为你推荐。\n",
    "\n",
    "一般情况下，协作过滤（CF）是推荐引擎的主力。该算法具有能够自身进行特征学习的一个非常有趣的特性，这意味着它可以开始学习使用哪些特性。CF可以分为基于内存的协同过滤和基于模型的协同过滤。之后我们将使用奇异值分解（SVD）实现基于模型的CF和通过计算余弦相似实现基于内存的CF。\n",
    "\n",
    "我们将使用MovieLens数据集，它是在实现和测试推荐引擎时所使用的最常见的数据集之一。它包含来自于943个用户以及精选的1682部电影的100K个电影打分。"
   ]
  },
  {
   "cell_type": "code",
   "execution_count": 18,
   "metadata": {
    "collapsed": true
   },
   "outputs": [],
   "source": [
    "import numpy as np\n",
    "import pandas as pd"
   ]
  },
  {
   "cell_type": "code",
   "execution_count": 19,
   "metadata": {},
   "outputs": [
    {
     "name": "stdout",
     "output_type": "stream",
     "text": [
      "Number of users = 943 | Number of movies = 1682\n"
     ]
    }
   ],
   "source": [
    "header = ['user_id', 'item_id', 'rating', 'timestamp']\n",
    "df = pd.read_csv('../data/ml-100k/u.data', sep='\\t', names=header)\n",
    "n_users = df.user_id.unique().shape[0]\n",
    "n_items = df.item_id.unique().shape[0]\n",
    "print('Number of users = ' + str(n_users) + ' | Number of movies = ' + str(n_items))"
   ]
  },
  {
   "cell_type": "code",
   "execution_count": 30,
   "metadata": {},
   "outputs": [
    {
     "data": {
      "text/html": [
       "<div>\n",
       "<style scoped>\n",
       "    .dataframe tbody tr th:only-of-type {\n",
       "        vertical-align: middle;\n",
       "    }\n",
       "\n",
       "    .dataframe tbody tr th {\n",
       "        vertical-align: top;\n",
       "    }\n",
       "\n",
       "    .dataframe thead th {\n",
       "        text-align: right;\n",
       "    }\n",
       "</style>\n",
       "<table border=\"1\" class=\"dataframe\">\n",
       "  <thead>\n",
       "    <tr style=\"text-align: right;\">\n",
       "      <th></th>\n",
       "      <th>user_id</th>\n",
       "      <th>item_id</th>\n",
       "      <th>rating</th>\n",
       "      <th>timestamp</th>\n",
       "    </tr>\n",
       "  </thead>\n",
       "  <tbody>\n",
       "    <tr>\n",
       "      <th>0</th>\n",
       "      <td>196</td>\n",
       "      <td>242</td>\n",
       "      <td>3</td>\n",
       "      <td>881250949</td>\n",
       "    </tr>\n",
       "    <tr>\n",
       "      <th>1</th>\n",
       "      <td>186</td>\n",
       "      <td>302</td>\n",
       "      <td>3</td>\n",
       "      <td>891717742</td>\n",
       "    </tr>\n",
       "    <tr>\n",
       "      <th>2</th>\n",
       "      <td>22</td>\n",
       "      <td>377</td>\n",
       "      <td>1</td>\n",
       "      <td>878887116</td>\n",
       "    </tr>\n",
       "    <tr>\n",
       "      <th>3</th>\n",
       "      <td>244</td>\n",
       "      <td>51</td>\n",
       "      <td>2</td>\n",
       "      <td>880606923</td>\n",
       "    </tr>\n",
       "    <tr>\n",
       "      <th>4</th>\n",
       "      <td>166</td>\n",
       "      <td>346</td>\n",
       "      <td>1</td>\n",
       "      <td>886397596</td>\n",
       "    </tr>\n",
       "  </tbody>\n",
       "</table>\n",
       "</div>"
      ],
      "text/plain": [
       "   user_id  item_id  rating  timestamp\n",
       "0      196      242       3  881250949\n",
       "1      186      302       3  891717742\n",
       "2       22      377       1  878887116\n",
       "3      244       51       2  880606923\n",
       "4      166      346       1  886397596"
      ]
     },
     "execution_count": 30,
     "metadata": {},
     "output_type": "execute_result"
    }
   ],
   "source": [
    "df.head()"
   ]
  },
  {
   "cell_type": "markdown",
   "metadata": {},
   "source": [
    "使用scikit-learn库将数据集分割成测试和训练。Cross_validation.train_test_split根据测试样本的比例（test_size），本例中是0.25，来将数据混洗并分割成两个数据集。"
   ]
  },
  {
   "cell_type": "code",
   "execution_count": 20,
   "metadata": {
    "collapsed": true
   },
   "outputs": [],
   "source": [
    "from sklearn import cross_validation as cv\n",
    "train_data, test_data = cv.train_test_split(df, test_size=0.25)"
   ]
  },
  {
   "attachments": {
    "image.png": {
     "image/png": "[encoded data removed]"
    }
   },
   "cell_type": "markdown",
   "metadata": {},
   "source": [
    "# 1-基于内存的协同过滤\n",
    "\n",
    "基于内存的协同过滤方法可以分为两个主要部分：用户-产品协同过滤和产品-产品协同过滤。一个\"用户-产品协同过滤\"将选取一个特定的用户，基于打分的相似性发现类似于该用户的用户，并推荐那些相似用户喜欢的产品。相比之下，_产品-产品协同过滤_会选取一个产品，发现喜欢该产品的用户，并找到这些用户或相似的用户还喜欢的其他的产品。输入一个产品，然后输出其他产品作为推荐。\n",
    "\n",
    "用户-产品协同过滤: “喜欢这个东西的人也喜欢……”\n",
    "产品-产品协同过滤: “像你一样的人也喜欢……”\n",
    "在这两种情况下，从整个数据集构建一个用户-产品矩阵。由于你已经将数据拆分到测试集和训练集，那么你将需要创建两个[943 x 1682]矩阵。训练矩阵包含75%的打分，而测试矩阵包含25%的打分。\n",
    "\n",
    "在构建了用户-产品矩阵后，计算相似性并创建一个相似性矩阵。\n",
    "\n",
    "在_产品-产品协同过滤_中的产品之间的相似性值是通过观察所有对两个产品之间的打分的用户来度量的。\n",
    "![](images/1.png)\n",
    "\n",
    "对于_用户-产品协同过滤_，用户之间的相似性值是通过观察所有同时被两个用户打分的产品来度量的。\n",
    "\n",
    "通常用于推荐系统中的距离矩阵是_余弦相似性_，其中，打分被看成`n`维空间中的向量，而相似性是基于这些向量之间的角度进行计算的。用户_a_和_m_的余弦相似性可以使用下面的公式进行计算，其中，获取用户向量的点积$u_k$和$u_a$，然后用向量的欧几里得长度的乘积来除以它。\n",
    "![image.png](attachment:image.png)\n",
    "\n",
    "要计算产品_m_和_b_之间的相似性，使用公式：\n",
    "![image.png](images/1.gif)\n"
   ]
  },
  {
   "cell_type": "markdown",
   "metadata": {},
   "source": [
    "第一步是创建用户-产品矩阵。由于你既有测试数据，又有训练数据，那么你需要创建两个矩阵。"
   ]
  },
  {
   "cell_type": "code",
   "execution_count": 21,
   "metadata": {
    "collapsed": true
   },
   "outputs": [],
   "source": [
    "#Create two user-item matrices, one for training and another for testing\n",
    "train_data_matrix = np.zeros((n_users, n_items))\n",
    "for line in train_data.itertuples():\n",
    "#     print(line)\n",
    "#     print(line[1],line[2],line[3])\n",
    "#     break\n",
    "    # line[1]是user_id;line[2]是item_id;line[3]是打分结果\n",
    "    train_data_matrix[line[1]-1, line[2]-1] = line[3]  \n",
    "\n",
    "test_data_matrix = np.zeros((n_users, n_items))\n",
    "for line in test_data.itertuples():\n",
    "    test_data_matrix[line[1]-1, line[2]-1] = line[3]\n",
    "    \n",
    "#矩阵中每一行是同一个人对各部电影的打分"
   ]
  },
  {
   "cell_type": "markdown",
   "metadata": {},
   "source": [
    "可以使用sklearn的pairwise_distances函数来计算余弦相似性。注意，输出范围从0到1，因为打分都是正的。"
   ]
  },
  {
   "cell_type": "code",
   "execution_count": 22,
   "metadata": {
    "collapsed": true
   },
   "outputs": [],
   "source": [
    "from sklearn.metrics.pairwise import pairwise_distances\n",
    "user_similarity = pairwise_distances(train_data_matrix, metric='cosine')\n",
    "item_similarity = pairwise_distances(train_data_matrix.T, metric='cosine')"
   ]
  },
  {
   "cell_type": "code",
   "execution_count": 23,
   "metadata": {},
   "outputs": [
    {
     "name": "stdout",
     "output_type": "stream",
     "text": [
      "(943, 943)\n"
     ]
    }
   ],
   "source": [
    "print(user_similarity.shape)"
   ]
  },
  {
   "cell_type": "markdown",
   "metadata": {},
   "source": [
    "下一步是做出预测。你已经创建了相似性矩阵：`user_similarity和item_similarity`，因此，你可以通过为基于用户的CF应用下面的公式做出预测：\n",
    "![](images/2.gif)\n",
    "\n",
    "你可以将用户_k_和_a_之间的相似性看成权重，它乘以相似用户_a_ (校正的平均评分用户)的评分。你需要规范化该值，使打分位于1到5之间，最后，对你尝试预测的用户的平均评分求和。\n",
    "\n",
    "这里的想法是，某些用户可能会倾向于对所有的电影，总是给予高或低评分。这些用户提供的评分的相对差比绝对评分值更重要。举个例子：假设，用户_k_对他最喜欢的电影打4星，而对所有其他的好电影打3星。现在假设另一个用户_t_对他/她喜欢的电影打5星，而对他/她感到无聊的电影打3星。那么这两个用户可能品味非常相似，但对打分系统区别对待。\n",
    "\n",
    "当为基于产品的CF进行预测时，你无须纠正用户的平均打分，因为查询用户本身就是用来做预测的。\n",
    "![](images/3.gif)"
   ]
  },
  {
   "cell_type": "code",
   "execution_count": 24,
   "metadata": {
    "collapsed": true
   },
   "outputs": [],
   "source": [
    "def predict(ratings, similarity, type='user'):\n",
    "    if type == 'user':\n",
    "        mean_user_rating = ratings.mean(axis=1)\n",
    "        #You use np.newaxis so that mean_user_rating has same format as ratings\n",
    "        ratings_diff = (ratings - mean_user_rating[:, np.newaxis]) \n",
    "        pred = mean_user_rating[:, np.newaxis] + similarity.dot(ratings_diff) / np.array([np.abs(similarity).sum(axis=1)]).T\n",
    "    elif type == 'item':\n",
    "        pred = ratings.dot(similarity) / np.array([np.abs(similarity).sum(axis=1)])     \n",
    "    return pred"
   ]
  },
  {
   "cell_type": "code",
   "execution_count": 25,
   "metadata": {
    "collapsed": true
   },
   "outputs": [],
   "source": [
    "item_prediction = predict(train_data_matrix, item_similarity, type='item')\n",
    "user_prediction = predict(train_data_matrix, user_similarity, type='user')"
   ]
  },
  {
   "cell_type": "code",
   "execution_count": 31,
   "metadata": {},
   "outputs": [
    {
     "name": "stdout",
     "output_type": "stream",
     "text": [
      "(943, 1682)\n",
      "(943, 1682)\n"
     ]
    }
   ],
   "source": [
    "print(item_prediction.shape)\n",
    "print(user_prediction.shape)"
   ]
  },
  {
   "cell_type": "code",
   "execution_count": 35,
   "metadata": {},
   "outputs": [
    {
     "name": "stdout",
     "output_type": "stream",
     "text": [
      "[4. 0. 0. ... 0. 0. 0.]\n"
     ]
    }
   ],
   "source": [
    "print(train_data_matrix[1])"
   ]
  },
  {
   "cell_type": "markdown",
   "metadata": {},
   "source": [
    "# 2-评估"
   ]
  },
  {
   "cell_type": "markdown",
   "metadata": {},
   "source": [
    "有许多评价指标，但其中最受欢迎的用来度量预测评分的准确性的指标是_均方根误差 (RMSE)_。\n",
    "![](images/4.gif)\n",
    "\n",
    "你可以使用`sklearn`的[`mean_square_error`](http://scikit-learn.org/stable/modules/generated/sklearn.metrics.mean_squared_error.html) (MSE)函数，其中，RMSE仅仅是MSE的平方根。要了解更多不同的评价指标，你可以看看[这篇文章](http://research.microsoft.com/pubs/115396/EvaluationMetrics.TR.pdf)。\n",
    "\n",
    "由于你只是想要考虑测试数据集中的预测评分，因此，使用`prediction[ground_truth.nonzero()]`筛选出预测矩阵中的所有其他元素。\n"
   ]
  },
  {
   "cell_type": "code",
   "execution_count": 26,
   "metadata": {},
   "outputs": [
    {
     "name": "stdout",
     "output_type": "stream",
     "text": [
      "User-based CF RMSE: 3.1223414789236137\n",
      "Item-based CF RMSE: 3.4502383951612696\n"
     ]
    }
   ],
   "source": [
    "from sklearn.metrics import mean_squared_error\n",
    "from math import sqrt\n",
    "def rmse(prediction, ground_truth):\n",
    "    prediction = prediction[ground_truth.nonzero()].flatten() \n",
    "    ground_truth = ground_truth[ground_truth.nonzero()].flatten()\n",
    "    return sqrt(mean_squared_error(prediction, ground_truth))\n",
    "\n",
    "print('User-based CF RMSE: ' + str(rmse(user_prediction, test_data_matrix)))\n",
    "print('Item-based CF RMSE: ' + str(rmse(item_prediction, test_data_matrix)))"
   ]
  },
  {
   "cell_type": "markdown",
   "metadata": {},
   "source": [
    "基于内存的算法事很容易实现并产生合理的预测质量的。\n",
    "\n",
    "基于内存的CF的缺点是，它不能扩展到真实世界的场景，并且没有解决众所周知的冷启动问题，也就是当新用户或新产品进入系统时。\n",
    "基于模型的CF方法是可扩展的，并且可以比基于内存的模型处理更高的稀疏度，但当没有任何评分的用户或产品进入系统时，也是苦不堪言的。"
   ]
  },
  {
   "cell_type": "markdown",
   "metadata": {},
   "source": [
    "# 3-基于模型的协同过滤"
   ]
  },
  {
   "cell_type": "markdown",
   "metadata": {},
   "source": [
    "基于模型的协同过滤是基于矩阵分解（MF），它已获得更大的曝光，它主要是作为潜变量分解和降维的一个无监督学习方法。矩阵分解广泛用于推荐系统，其中，它比基于内存的CF可以更好地处理与扩展性和稀疏性. MF的目标是从已知的评分中学习用户的潜在喜好和产品的潜在属性（学习描述评分特征的特征），随后通过用户和产品的潜在特征的点积预测未知的评分。\n",
    "\n",
    "当你有一个非常稀疏的多维矩阵时，通过进行矩阵分解可以调整用户-产品矩阵为低等级的结构，然后你可以通过两个低秩矩阵（其中，每行包含该本征矢量）的乘积来代表该矩阵。你通过将低秩矩阵相乘，在原始矩阵填补缺少项，以调整这个矩阵，从而尽可能的近似原始矩阵。\n",
    "\n",
    "让我们计算MovieLens数据集的稀疏度："
   ]
  },
  {
   "cell_type": "code",
   "execution_count": 27,
   "metadata": {},
   "outputs": [
    {
     "name": "stdout",
     "output_type": "stream",
     "text": [
      "The sparsity level of MovieLens100K is 93.7%\n"
     ]
    }
   ],
   "source": [
    "sparsity=round(1.0-len(df)/float(n_users*n_items),3)\n",
    "print('The sparsity level of MovieLens100K is ' +  str(sparsity*100) + '%')"
   ]
  },
  {
   "cell_type": "markdown",
   "metadata": {},
   "source": [
    "举例说明用户和产品的学习隐藏偏好：假设MovieLens数据集中有以下信息：_(user id, age, location, gender, movie id, director, actor, language, year, rating)_。通过应用矩阵分解，模型学习到重要的用户特征是年龄组（10岁以下，10-18岁，18-30岁，30-90岁），位置和性别，而对于电影特性，它学习到年份，导演和演员是最重要的。现在，如果你看看你所存储的信息，其中并没有年份这样的特性，但该模型可以自己学习。重要方面是，CF模型仅使用数据（user_id, movie_id, rating）来学习潜在特征。如果只有少数可用的数据，那么基于模型的CF模式将预测不良，因为这将更难以学习潜在特征。\n",
    "\n",
    "同时使用评分和内容特性的模型称为**混合推荐系统**，其中，协同过滤和基于内容的模型相结合。混合推荐系统通常比协同过滤或基于内容的模型自身表现出更高的精度：它们有能力更好的解决冷启动问题，因为如果你没有一个用户或者一个产品的评分，那么你可以使用该用户或产品的元数据进行预测。混合推荐系统将在未来的教程中介绍。"
   ]
  },
  {
   "cell_type": "markdown",
   "metadata": {},
   "source": [
    "## 3-1SVD\n",
    "\n",
    "一个众所周知的矩阵分解方法是**奇异值分解(SVD)**。通过使用奇异值分解，协同过滤可以被近似一个矩阵`X`所制定。Netflix Prize比赛中的获胜队伍使用SVD矩阵分解模型来生成产品建议，更多的信息，推荐阅读文章：[Netflix推荐：5星之外](http://techblog.netflix.com/2012/04/netflix-recommendations-beyond-5-stars.html)和[Netflix Prize和SVD](http://buzzard.ups.edu/courses/2014spring/420projects/math420-UPS-spring-2014-gower-netflix-SVD.pdf)。\n",
    "\n",
    "一般的方程可以表示为： \n",
    "\n",
    "![](https://latex.codecogs.com/gif.latex?X=USV^T)\n",
    "\n",
    "给定`m x n`矩阵`X`：\n",
    "* _`U`_是一个_`(m x r)`_正交矩阵\n",
    "* _`S`_是一个对角线上为非负实数的_`(r x r)`_对角矩阵\n",
    "* _V^T_是一个_`(r x n)`_正交矩阵\n",
    "\n",
    "`S`的对角线上的元素被称为_`X`的奇异值_。\n",
    "\n",
    "矩阵_`X`_可以被分解成_`U`_，_`S`_和_`V`_。_`U`_矩阵表示对应于隐藏特性空间中的用户的特性矩阵，而_`V`_矩阵表示对应于隐藏特性空间中的产品的特性矩阵现在。可以通过_`U`_, _`S`_和_`V^T`_的点积进行预测了。"
   ]
  },
  {
   "cell_type": "code",
   "execution_count": 28,
   "metadata": {},
   "outputs": [
    {
     "name": "stdout",
     "output_type": "stream",
     "text": [
      "User-based CF MSE: 2.717792805101509\n"
     ]
    }
   ],
   "source": [
    "import scipy.sparse as sp\n",
    "from scipy.sparse.linalg import svds\n",
    "\n",
    "#get SVD components from train matrix. Choose k.\n",
    "# 注意这里是直接在没有打分的位置余弦填充0值了！！！！\n",
    "u, s, vt = svds(train_data_matrix, k = 20)\n",
    "s_diag_matrix=np.diag(s)\n",
    "X_pred = np.dot(np.dot(u, s_diag_matrix), vt)\n",
    "\n",
    "print('User-based CF MSE: ' + str(rmse(X_pred, test_data_matrix)))"
   ]
  },
  {
   "cell_type": "code",
   "execution_count": 33,
   "metadata": {},
   "outputs": [
    {
     "name": "stdout",
     "output_type": "stream",
     "text": [
      "(943, 1682)\n",
      "[5. 3. 4. ... 0. 0. 0.]\n",
      "[1.73526400e+00 1.23654759e+00 1.67036579e+00 ... 1.61016282e-04\n",
      " 0.00000000e+00 0.00000000e+00]\n"
     ]
    }
   ],
   "source": [
    "# 对比下真实值和预测值\n",
    "print(X_pred.shape)\n",
    "print(train_data_matrix[0])\n",
    "print(X_pred[0])"
   ]
  },
  {
   "cell_type": "markdown",
   "metadata": {},
   "source": [
    "注意，这里使用SVD分解的时候原始的打分数据集在没有打分的位置初始化为0分值。由于这种初始化使得原来的缺失项有了值，可以进行SVD分解操作。但是这种初始化使得结果会有很大的偏差，正如上图预测结果和真实的对比可以看出。另外当打分矩阵很大时候SVD可能会非常缓慢，并且计算成本比较高。更近期的工作通过应用交替最小二乘或随机梯度下降最小化平方误差，并使用正则项以防止过度拟合。"
   ]
  },
  {
   "cell_type": "markdown",
   "metadata": {},
   "source": [
    "## 3-2 交替最小二乘\n",
    "交替最小二乘(Alternating Least Squares,ALS)的核心就是这样一个假设：打分矩阵是近似低秩的。\n",
    "就是一个`m*n`的打分矩阵可以由分解的两个小矩阵$U（m*k）和V（n*k）$的乘积来近似，即 $A=UV^T,k<=m,n $。这就是ALS的矩阵分解方法。\n",
    "如此系统自由度从$O(mn)$降到了$O((m+n)k)$。\n",
    "\n",
    "损失函数定义如下：\n",
    "![](images/ALS_1.png)\n",
    "分别对用户和item取偏导：\n",
    "![](images/ALS_2.png)\n",
    "所以用户u对于项目i的对应k个维度特征为：\n",
    "![](images/ALS_3.png)\n",
    "对于项目item的偏导：\n",
    "![](images/ALS_4.png)"
   ]
  },
  {
   "cell_type": "code",
   "execution_count": 39,
   "metadata": {
    "collapsed": true
   },
   "outputs": [],
   "source": [
    "from ExplicitMF_ALS import ExplicitMF\n",
    "MF_ALS = ExplicitMF(train_data_matrix, n_factors=40, \\\n",
    "                    user_reg=0.0, item_reg=0.0)\n",
    "iter_array = [1, 2, 5, 10, 25, 50, 100]\n",
    "MF_ALS.calculate_learning_curve(iter_array, test_data_matrix)"
   ]
  },
  {
   "cell_type": "code",
   "execution_count": 43,
   "metadata": {
    "collapsed": true
   },
   "outputs": [],
   "source": [
    "import warnings\n",
    "warnings.filterwarnings('ignore')\n",
    "\n",
    "%matplotlib inline\n",
    "import matplotlib.pyplot as plt\n",
    "import seaborn as sns\n",
    "sns.set()\n",
    "\n",
    "def plot_learning_curve(iter_array, model):\n",
    "    plt.plot(iter_array, model.train_mse, \\\n",
    "             label='Training', linewidth=5)\n",
    "    plt.plot(iter_array, model.test_mse, \\\n",
    "             label='Test', linewidth=5)\n",
    "\n",
    "\n",
    "    plt.xticks(fontsize=16);\n",
    "    plt.yticks(fontsize=16);\n",
    "    plt.xlabel('iterations', fontsize=30);\n",
    "    plt.ylabel('MSE', fontsize=30);\n",
    "    plt.legend(loc='best', fontsize=20);"
   ]
  },
  {
   "cell_type": "code",
   "execution_count": 44,
   "metadata": {},
   "outputs": [
    {
     "data": {
      "image/png": "[encoded data removed]",
      "text/plain": [
       "<Figure size 576x396 with 1 Axes>"
      ]
     },
     "metadata": {},
     "output_type": "display_data"
    }
   ],
   "source": [
    "plot_learning_curve(iter_array, MF_ALS)"
   ]
  },
  {
   "cell_type": "markdown",
   "metadata": {},
   "source": [
    "ALS 模型参数优化。\n",
    "\n",
    "上述结果Test的MSE比训练集高了50%，过拟合还是比较明显的。测试数据集在迭代5次的时候差不多是到达MSE的最低值，然后开始升高了，进一步带来过拟合了。\n",
    "我们可以尝试添加正则项来减缓过拟合。"
   ]
  },
  {
   "cell_type": "code",
   "execution_count": 48,
   "metadata": {},
   "outputs": [
    {
     "data": {
      "image/png": "[encoded data removed]",
      "text/plain": [
       "<Figure size 576x396 with 1 Axes>"
      ]
     },
     "metadata": {},
     "output_type": "display_data"
    }
   ],
   "source": [
    "MF_ALS_withre = ExplicitMF(train_data_matrix, n_factors=40, \\\n",
    "                    user_reg=30., item_reg=30.)\n",
    "\n",
    "iter_array = [1, 2, 5, 10, 25, 50, 100]\n",
    "MF_ALS_withre.calculate_learning_curve(iter_array, test_data_matrix)\n",
    "plot_learning_curve(iter_array, MF_ALS_withre)"
   ]
  },
  {
   "cell_type": "markdown",
   "metadata": {},
   "source": [
    "从上述结果可以看出测试集和训练集之间MSE差距在缩小,但是下降不是很大。为此，我们可以尝试在正则项和隐含因子数上进行grid search，以获取更优的超参数。"
   ]
  },
  {
   "cell_type": "code",
   "execution_count": 49,
   "metadata": {},
   "outputs": [
    {
     "name": "stdout",
     "output_type": "stream",
     "text": [
      "Factors: 5\n",
      "Regularization: 0.1\n",
      "New optimal hyperparameters\n",
      "model        <ExplicitMF_ALS.ExplicitMF object at 0x7f04913...\n",
      "n_factors                                                    5\n",
      "n_iter                                                     100\n",
      "reg                                                        0.1\n",
      "test_mse                                                7.5357\n",
      "train_mse                                              7.16226\n",
      "dtype: object\n",
      "Regularization: 1.0\n",
      "Regularization: 10.0\n",
      "Regularization: 100.0\n",
      "Factors: 10\n",
      "Regularization: 0.1\n",
      "New optimal hyperparameters\n",
      "model        <ExplicitMF_ALS.ExplicitMF object at 0x7f04cb6...\n",
      "n_factors                                                   10\n",
      "n_iter                                                     100\n",
      "reg                                                        0.1\n",
      "test_mse                                               7.15907\n",
      "train_mse                                              6.42665\n",
      "dtype: object\n",
      "Regularization: 1.0\n",
      "Regularization: 10.0\n",
      "Regularization: 100.0\n",
      "Factors: 20\n",
      "Regularization: 0.1\n",
      "Regularization: 1.0\n",
      "Regularization: 10.0\n",
      "Regularization: 100.0\n",
      "Factors: 40\n",
      "Regularization: 0.1\n",
      "Regularization: 1.0\n",
      "Regularization: 10.0\n",
      "Regularization: 100.0\n",
      "Factors: 80\n",
      "Regularization: 0.1\n",
      "Regularization: 1.0\n",
      "Regularization: 10.0\n",
      "Regularization: 100.0\n"
     ]
    }
   ],
   "source": [
    "%%time\n",
    "\n",
    "latent_factors = [5, 10, 20, 40, 80]\n",
    "regularizations = [0.1, 1., 10., 100.]\n",
    "regularizations.sort()\n",
    "iter_array = [1, 2, 5, 10, 25, 50, 100]\n",
    "\n",
    "best_params = {}\n",
    "best_params['n_factors'] = latent_factors[0]\n",
    "best_params['reg'] = regularizations[0]\n",
    "best_params['n_iter'] = 0\n",
    "best_params['train_mse'] = np.inf\n",
    "best_params['test_mse'] = np.inf\n",
    "best_params['model'] = None\n",
    "\n",
    "for fact in latent_factors:\n",
    "    print('Factors: {}'.format(fact))\n",
    "    for reg in regularizations:\n",
    "        print('Regularization: {}'.format(reg))\n",
    "        MF_ALS = ExplicitMF(train_data_matrix, n_factors=fact, \\\n",
    "                            user_reg=reg, item_reg=reg)\n",
    "        MF_ALS.calculate_learning_curve(iter_array, test_data_matrix)\n",
    "        min_idx = np.argmin(MF_ALS.test_mse)\n",
    "        if MF_ALS.test_mse[min_idx] < best_params['test_mse']:\n",
    "            best_params['n_factors'] = fact\n",
    "            best_params['reg'] = reg\n",
    "            best_params['n_iter'] = iter_array[min_idx]\n",
    "            best_params['train_mse'] = MF_ALS.train_mse[min_idx]\n",
    "            best_params['test_mse'] = MF_ALS.test_mse[min_idx]\n",
    "            best_params['model'] = MF_ALS\n",
    "            print('New optimal hyperparameters')\n",
    "            print(pd.Series(best_params))"
   ]
  },
  {
   "cell_type": "code",
   "execution_count": 50,
   "metadata": {},
   "outputs": [
    {
     "data": {
      "image/png": "[encoded data removed]",
      "text/plain": [
       "<Figure size 576x396 with 1 Axes>"
      ]
     },
     "metadata": {},
     "output_type": "display_data"
    }
   ],
   "source": [
    "best_als_model = best_params['model']\n",
    "plot_learning_curve(iter_array, best_als_model)"
   ]
  },
  {
   "cell_type": "markdown",
   "metadata": {},
   "source": [
    "从上述接口看，似乎隐含因子数量k=10和正则化值=0.1时，模型MSE值最小。但是有点儿令我不安的是，测试集上的MSE值竟然比训练集低！\n",
    "接下来，我们尝试使用stochastic gradient descent (SGD)来获取模型的最小代价函数。"
   ]
  },
  {
   "cell_type": "markdown",
   "metadata": {},
   "source": [
    "## 3-3 SGD"
   ]
  },
  {
   "cell_type": "markdown",
   "metadata": {},
   "source": [
    "与之前的用户和项目item隐因子的点乘结果作为打分结果不同，SGD是假设每个用户和item都用一个偏移量。其合理性源于可能趋向于对于所有item都打高分或者都打低分。这些偏移项像是信号系统中的直流信号，而隐因子或者隐变量更像是其交流部分。同时也会考虑一个全局的偏移项。为此，预测函数如下：\n",
    "![](images/SGD_1.png)\n",
    "损失函数定义如下：\n",
    "![](images/SGD_2.png)\n",
    "这里增加了正则项。然后，我们对每个样本处理的时候都更新一次参数。\n",
    "user bias的更新：\n",
    "![](images/SGD_3.png)\n",
    "其中$η$是学习率。$b_u$的偏导结果：\n",
    "![](images/SGD_4.png)\n",
    "其中$e_ui$表示预测的错误。这里2倍的系数可以直接去掉，因为可以规整到学习率中。\n",
    "所有参数的更新如下：\n",
    "![](images/SGD_5.png)"
   ]
  },
  {
   "cell_type": "code",
   "execution_count": 53,
   "metadata": {},
   "outputs": [
    {
     "name": "stdout",
     "output_type": "stream",
     "text": [
      "Iteration: 1\n",
      "Train mse: 1.1585616697673884\n",
      "Test mse: 1.1807967722408883\n",
      "Iteration: 2\n",
      "Train mse: 1.093808318548011\n",
      "Test mse: 1.1198490752700476\n",
      "Iteration: 5\n",
      "Train mse: 0.9952259546736942\n",
      "Test mse: 1.0285626020977043\n",
      "Iteration: 10\n",
      "Train mse: 0.9311315006495025\n",
      "Test mse: 0.9719311283167997\n",
      "Iteration: 25\n",
      "\tcurrent iteration: 10\n",
      "Train mse: 0.8713756748122876\n",
      "Test mse: 0.924392368309847\n",
      "Iteration: 50\n",
      "\tcurrent iteration: 10\n",
      "\tcurrent iteration: 20\n",
      "Train mse: 0.84006738941939\n",
      "Test mse: 0.9053770957957386\n",
      "Iteration: 100\n",
      "\tcurrent iteration: 10\n",
      "\tcurrent iteration: 20\n",
      "\tcurrent iteration: 30\n",
      "\tcurrent iteration: 40\n",
      "\tcurrent iteration: 50\n",
      "Train mse: 0.7816191246334835\n",
      "Test mse: 0.8906660145321504\n",
      "Iteration: 200\n",
      "\tcurrent iteration: 10\n",
      "\tcurrent iteration: 20\n",
      "\tcurrent iteration: 30\n",
      "\tcurrent iteration: 40\n",
      "\tcurrent iteration: 50\n",
      "\tcurrent iteration: 60\n",
      "\tcurrent iteration: 70\n",
      "\tcurrent iteration: 80\n",
      "\tcurrent iteration: 90\n",
      "\tcurrent iteration: 100\n",
      "Train mse: 0.44243207686145636\n",
      "Test mse: 0.8895421389664245\n"
     ]
    }
   ],
   "source": [
    "from ExplicitMF import ExplicitMF\n",
    "\n",
    "MF_SGD = ExplicitMF(train_data_matrix, 40, learning='sgd', verbose=True)\n",
    "iter_array = [1, 2, 5, 10, 25, 50, 100, 200]\n",
    "MF_SGD.calculate_learning_curve(iter_array, test_data_matrix, learning_rate=0.001)"
   ]
  },
  {
   "cell_type": "markdown",
   "metadata": {},
   "source": [
    "从结果可以看出，SGD的MSE值大大低于之前的方法。"
   ]
  },
  {
   "cell_type": "markdown",
   "metadata": {},
   "source": [
    "接下来我们进行**SGD的超参数优化：**\n",
    "<br>\n",
    "同理这里也是采用grid search方式，先搜索超参数学习率和迭代次数；之后再搜索隐因子k的值和正则项"
   ]
  },
  {
   "cell_type": "code",
   "execution_count": 54,
   "metadata": {},
   "outputs": [
    {
     "name": "stdout",
     "output_type": "stream",
     "text": [
      "Rate: 1e-05\n",
      "New optimal hyperparameters\n",
      "learning_rate                                               1e-05\n",
      "model            <ExplicitMF.ExplicitMF object at 0x7f04919c7d30>\n",
      "n_iter                                                        200\n",
      "test_mse                                                  1.11982\n",
      "train_mse                                                 1.09392\n",
      "dtype: object\n",
      "Rate: 0.0001\n",
      "New optimal hyperparameters\n",
      "learning_rate                                              0.0001\n",
      "model            <ExplicitMF.ExplicitMF object at 0x7f04919d7dd8>\n",
      "n_iter                                                        200\n",
      "test_mse                                                 0.933288\n",
      "train_mse                                                0.883666\n",
      "dtype: object\n",
      "Rate: 0.001\n",
      "New optimal hyperparameters\n",
      "learning_rate                                               0.001\n",
      "model            <ExplicitMF.ExplicitMF object at 0x7f04919d7e80>\n",
      "n_iter                                                        200\n",
      "test_mse                                                 0.877853\n",
      "train_mse                                                0.444821\n",
      "dtype: object\n",
      "Rate: 0.01\n"
     ]
    }
   ],
   "source": [
    "# grid search 学习率和迭代次数\n",
    "\n",
    "iter_array = [1, 2, 5, 10, 25, 50, 100, 200]\n",
    "learning_rates = [1e-5, 1e-4, 1e-3, 1e-2]\n",
    "\n",
    "best_params = {}\n",
    "best_params['learning_rate'] = None\n",
    "best_params['n_iter'] = 0\n",
    "best_params['train_mse'] = np.inf\n",
    "best_params['test_mse'] = np.inf\n",
    "best_params['model'] = None\n",
    "\n",
    "\n",
    "for rate in learning_rates:\n",
    "    print('Rate: {}'.format(rate))\n",
    "    MF_SGD = ExplicitMF(train_data_matrix, n_factors=40, learning='sgd')\n",
    "    MF_SGD.calculate_learning_curve(iter_array, test_data_matrix, learning_rate=rate)\n",
    "    min_idx = np.argmin(MF_SGD.test_mse)\n",
    "    if MF_SGD.test_mse[min_idx] < best_params['test_mse']:\n",
    "        best_params['n_iter'] = iter_array[min_idx]\n",
    "        best_params['learning_rate'] = rate\n",
    "        best_params['train_mse'] = MF_SGD.train_mse[min_idx]\n",
    "        best_params['test_mse'] = MF_SGD.test_mse[min_idx]\n",
    "        best_params['model'] = MF_SGD\n",
    "        print('New optimal hyperparameters')\n",
    "        print(pd.Series(best_params))"
   ]
  },
  {
   "cell_type": "code",
   "execution_count": 57,
   "metadata": {},
   "outputs": [
    {
     "name": "stdout",
     "output_type": "stream",
     "text": [
      "learning_rate= 0.001\n",
      "n_iter= 200\n",
      "train_mse= 0.444820724256932\n",
      "test_mse= 0.8778526016303846\n"
     ]
    }
   ],
   "source": [
    "print(\"learning_rate=\",best_params['learning_rate'])\n",
    "print(\"n_iter=\",best_params['n_iter'])\n",
    "print(\"train_mse=\",best_params['train_mse'])\n",
    "print(\"test_mse=\",best_params['test_mse'])"
   ]
  },
  {
   "cell_type": "markdown",
   "metadata": {},
   "source": [
    "从结果看，似乎学习率=0.001，迭代次数=200是最优的。\n",
    "<br>\n",
    "接下来我们搜索最优的隐含因子数和正则化。\n"
   ]
  },
  {
   "cell_type": "code",
   "execution_count": 58,
   "metadata": {},
   "outputs": [
    {
     "name": "stdout",
     "output_type": "stream",
     "text": [
      "Factors: 5\n",
      "Regularization: 0.001\n",
      "New optimal hyperparameters\n",
      "model        <ExplicitMF.ExplicitMF object at 0x7f049195dc18>\n",
      "n_factors                                                   5\n",
      "n_iter                                                    100\n",
      "reg                                                     0.001\n",
      "test_mse                                             0.911833\n",
      "train_mse                                            0.762872\n",
      "dtype: object\n",
      "Regularization: 0.01\n",
      "New optimal hyperparameters\n",
      "model        <ExplicitMF.ExplicitMF object at 0x7f049195dc50>\n",
      "n_factors                                                   5\n",
      "n_iter                                                    100\n",
      "reg                                                      0.01\n",
      "test_mse                                             0.905894\n",
      "train_mse                                            0.769071\n",
      "dtype: object\n",
      "Regularization: 0.1\n",
      "New optimal hyperparameters\n",
      "model        <ExplicitMF.ExplicitMF object at 0x7f049195dbe0>\n",
      "n_factors                                                   5\n",
      "n_iter                                                    200\n",
      "reg                                                       0.1\n",
      "test_mse                                             0.884305\n",
      "train_mse                                            0.776126\n",
      "dtype: object\n",
      "Regularization: 1.0\n",
      "Factors: 10\n",
      "Regularization: 0.001\n",
      "Regularization: 0.01\n",
      "Regularization: 0.1\n",
      "Regularization: 1.0\n",
      "Factors: 20\n",
      "Regularization: 0.001\n",
      "Regularization: 0.01\n",
      "Regularization: 0.1\n",
      "New optimal hyperparameters\n",
      "model        <ExplicitMF.ExplicitMF object at 0x7f049195db00>\n",
      "n_factors                                                  20\n",
      "n_iter                                                    200\n",
      "reg                                                       0.1\n",
      "test_mse                                             0.884003\n",
      "train_mse                                            0.791305\n",
      "dtype: object\n",
      "Regularization: 1.0\n",
      "Factors: 40\n",
      "Regularization: 0.001\n",
      "New optimal hyperparameters\n",
      "model        <ExplicitMF.ExplicitMF object at 0x7f04919d7f60>\n",
      "n_factors                                                  40\n",
      "n_iter                                                    200\n",
      "reg                                                     0.001\n",
      "test_mse                                             0.880072\n",
      "train_mse                                            0.446616\n",
      "dtype: object\n",
      "Regularization: 0.01\n",
      "New optimal hyperparameters\n",
      "model        <ExplicitMF.ExplicitMF object at 0x7f049195dd68>\n",
      "n_factors                                                  40\n",
      "n_iter                                                    200\n",
      "reg                                                      0.01\n",
      "test_mse                                             0.860276\n",
      "train_mse                                            0.502822\n",
      "dtype: object\n",
      "Regularization: 0.1\n",
      "Regularization: 1.0\n",
      "Factors: 80\n",
      "Regularization: 0.001\n",
      "New optimal hyperparameters\n",
      "model        <ExplicitMF.ExplicitMF object at 0x7f049195de48>\n",
      "n_factors                                                  80\n",
      "n_iter                                                    200\n",
      "reg                                                     0.001\n",
      "test_mse                                             0.850368\n",
      "train_mse                                            0.480767\n",
      "dtype: object\n",
      "Regularization: 0.01\n",
      "New optimal hyperparameters\n",
      "model        <ExplicitMF.ExplicitMF object at 0x7f049195deb8>\n",
      "n_factors                                                  80\n",
      "n_iter                                                    200\n",
      "reg                                                      0.01\n",
      "test_mse                                             0.844976\n",
      "train_mse                                            0.539798\n",
      "dtype: object\n",
      "Regularization: 0.1\n",
      "Regularization: 1.0\n"
     ]
    }
   ],
   "source": [
    "# grid search \n",
    "iter_array = [1, 2, 5, 10, 25, 50, 100, 200]\n",
    "latent_factors = [5, 10, 20, 40, 80]\n",
    "regularizations = [0.001, 0.01, 0.1, 1.]\n",
    "regularizations.sort()\n",
    "\n",
    "best_params = {}\n",
    "best_params['n_factors'] = latent_factors[0]\n",
    "best_params['reg'] = regularizations[0]\n",
    "best_params['n_iter'] = 0\n",
    "best_params['train_mse'] = np.inf\n",
    "best_params['test_mse'] = np.inf\n",
    "best_params['model'] = None\n",
    "\n",
    "for fact in latent_factors:\n",
    "    print('Factors: {}'.format(fact))\n",
    "    for reg in regularizations:\n",
    "        print('Regularization: {}'.format(reg))\n",
    "        MF_SGD = ExplicitMF(train_data_matrix, n_factors=fact, learning='sgd',\\\n",
    "                            user_fact_reg=reg, item_fact_reg=reg, \\\n",
    "                            user_bias_reg=reg, item_bias_reg=reg)\n",
    "        MF_SGD.calculate_learning_curve(iter_array, test_data_matrix, learning_rate=0.001)#之前学习到的\n",
    "        min_idx = np.argmin(MF_SGD.test_mse)\n",
    "        if MF_SGD.test_mse[min_idx] < best_params['test_mse']:\n",
    "            best_params['n_factors'] = fact\n",
    "            best_params['reg'] = reg\n",
    "            best_params['n_iter'] = iter_array[min_idx]\n",
    "            best_params['train_mse'] = MF_SGD.train_mse[min_idx]\n",
    "            best_params['test_mse'] = MF_SGD.test_mse[min_idx]\n",
    "            best_params['model'] = MF_SGD\n",
    "            print('New optimal hyperparameters')\n",
    "            print(pd.Series(best_params))"
   ]
  },
  {
   "cell_type": "code",
   "execution_count": 59,
   "metadata": {},
   "outputs": [
    {
     "name": "stdout",
     "output_type": "stream",
     "text": [
      "n_factors= 80\n",
      "reg= 0.01\n",
      "n_iter= 200\n"
     ]
    }
   ],
   "source": [
    "print(\"n_factors=\",best_params['n_factors'])\n",
    "print(\"reg=\",best_params['reg'])\n",
    "print(\"n_iter=\",best_params['n_iter'])"
   ]
  },
  {
   "cell_type": "markdown",
   "metadata": {},
   "source": [
    "由于n_factors的值和n_iter都是grid search的最大值，所以，我们应该事先设置一个更大范围的search范围。为此我们可以扩大范围后再重新进行grid search。\n"
   ]
  },
  {
   "cell_type": "code",
   "execution_count": 60,
   "metadata": {},
   "outputs": [
    {
     "data": {
      "image/png": "[encoded data removed]",
      "text/plain": [
       "<Figure size 576x396 with 1 Axes>"
      ]
     },
     "metadata": {},
     "output_type": "display_data"
    }
   ],
   "source": [
    "best_als_model = best_params['model']\n",
    "plot_learning_curve(iter_array, best_als_model)"
   ]
  },
  {
   "cell_type": "markdown",
   "metadata": {},
   "source": [
    "## 3-4 ALS和SGD的对比"
   ]
  },
  {
   "cell_type": "code",
   "execution_count": 74,
   "metadata": {},
   "outputs": [
    {
     "name": "stdout",
     "output_type": "stream",
     "text": [
      "CPU times: user 2min 38s, sys: 7.35 s, total: 2min 45s\n",
      "Wall time: 10.4 s\n"
     ]
    }
   ],
   "source": [
    "%%time\n",
    "best_als_model = ExplicitMF(train_data_matrix, n_factors=10, learning='als', \\\n",
    "                            item_fact_reg=0.1, user_fact_reg=0.1)\n",
    "best_als_model.train(100)#100次还是200"
   ]
  },
  {
   "cell_type": "code",
   "execution_count": 63,
   "metadata": {},
   "outputs": [
    {
     "name": "stdout",
     "output_type": "stream",
     "text": [
      "CPU times: user 5min 45s, sys: 15.1 s, total: 6min 1s\n",
      "Wall time: 5min 51s\n"
     ]
    }
   ],
   "source": [
    "%%time\n",
    "best_sgd_model = ExplicitMF(train_data_matrix, n_factors=80, learning='sgd', \\\n",
    "                            item_fact_reg=0.01, user_fact_reg=0.01, \\\n",
    "                            user_bias_reg=0.01, item_bias_reg=0.01)\n",
    "best_sgd_model.train(200, learning_rate=0.001)"
   ]
  },
  {
   "cell_type": "code",
   "execution_count": 76,
   "metadata": {
    "collapsed": true
   },
   "outputs": [],
   "source": [
    "def cosine_similarity(model):\n",
    "    sim = model.item_vecs.dot(model.item_vecs.T)\n",
    "    norms = np.array([np.sqrt(np.diagonal(sim))])\n",
    "    return sim / norms / norms.T\n",
    "\n",
    "als_sim = cosine_similarity(best_als_model)\n",
    "sgd_sim = cosine_similarity(best_sgd_model)"
   ]
  },
  {
   "cell_type": "code",
   "execution_count": 66,
   "metadata": {},
   "outputs": [],
   "source": [
    "# Load in movie data\n",
    "# 注意文件的编码，ANSI编码的话，要先转为utf-8\n",
    "idx_to_movie = {}\n",
    "with open('../data/ml-100k/u.item', 'r') as f:\n",
    "    for line in f.readlines():\n",
    "        info = line.split('|')\n",
    "        idx_to_movie[int(info[0])-1] = info[4]"
   ]
  },
  {
   "cell_type": "code",
   "execution_count": 69,
   "metadata": {},
   "outputs": [
    {
     "name": "stdout",
     "output_type": "stream",
     "text": [
      "1682\n",
      "http://us.imdb.com/M/title-exact?Toy%20Story%20(1995)\n"
     ]
    }
   ],
   "source": [
    "print(len(idx_to_movie))\n",
    "print(idx_to_movie[0])"
   ]
  },
  {
   "cell_type": "markdown",
   "metadata": {},
   "source": [
    "### 3-4-1 结果对比\n",
    "根据给定的输入，推荐对应的结果，并对比两种模型的推荐结果"
   ]
  },
  {
   "cell_type": "code",
   "execution_count": 80,
   "metadata": {
    "collapsed": true
   },
   "outputs": [],
   "source": [
    "def display_top_k_movies(similarity, mapper, movie_idx, k=5):\n",
    "    movie_indices = np.argsort(similarity[movie_idx,:])[::-1]\n",
    "    images = ''\n",
    "    k_ctr = 0\n",
    "    # Start i at 1 to not grab the input movie\n",
    "    i = 1\n",
    "    while k_ctr < k:\n",
    "        movie = mapper[movie_indices[i]]\n",
    "        k_ctr += 1\n",
    "        i += 1\n",
    "        print(movie)"
   ]
  },
  {
   "cell_type": "code",
   "execution_count": 82,
   "metadata": {},
   "outputs": [
    {
     "name": "stdout",
     "output_type": "stream",
     "text": [
      "http://us.imdb.com/Title?Spanish+Prisoner,+The+(1997)\n",
      "http://us.imdb.com/Title?Object+of+My+Affection,+The+(1998)\n",
      "http://us.imdb.com/M/title-exact?Witness+(1985)\n",
      "http://us.imdb.com/M/title-exact?Aiqing%20Wansui%20(1994)\n",
      "http://us.imdb.com/M/title-exact?Hostile%20Intentions%20(1994)\n",
      "http://us.imdb.com/M/title-exact?Touki%20Bouki%20(1973)\n",
      "http://us.imdb.com/Title?Chairman+of+the+Board+(1998)\n",
      "http://us.imdb.com/M/title-exact?Wend%20Kuuni%20(1982)\n",
      "http://us.imdb.com/M/title-exact?Tre%20passi%20nel%20delirio%20(1968)\n",
      "http://us.imdb.com/M/title-exact?imdb-title-118804\n"
     ]
    }
   ],
   "source": [
    "movie_idx = 0\n",
    "display_top_k_movies(als_sim,idx_to_movie,movie_idx,10)"
   ]
  },
  {
   "cell_type": "code",
   "execution_count": 83,
   "metadata": {},
   "outputs": [
    {
     "name": "stdout",
     "output_type": "stream",
     "text": [
      "http://us.imdb.com/M/title-exact?Beauty%20and%20the%20Beast%20(1991)\n",
      "http://us.imdb.com/M/title-exact?Touch%20(1997)\n",
      "http://us.imdb.com/M/title-exact?Platoon%20(1986)\n",
      "http://us.imdb.com/M/title-exact?Ai%20no%20Corrida%20(1976)\n",
      "http://us.imdb.com/M/title-exact?Funeral,%20The%20(1996)\n",
      "http://us.imdb.com/M/title-exact?Touch%20of%20Evil%20(1958)\n",
      "http://us.imdb.com/M/title-exact?Great%20Escape,%20The%20(1963)\n",
      "http://us.imdb.com/M/title-exact?Aladdin%20(1992)\n",
      "http://us.imdb.com/M/title-exact?Singin'%20in%20the%20Rain%20(1952)\n",
      "http://us.imdb.com/M/title-exact?Anaconda%20%281997%29\n"
     ]
    }
   ],
   "source": [
    "# 看看SGD的效果\n",
    "movie_idx = 0\n",
    "display_top_k_movies(sgd_sim,idx_to_movie,movie_idx,10)"
   ]
  },
  {
   "cell_type": "markdown",
   "metadata": {},
   "source": [
    "### 3-4-2 结果分析\n",
    "单纯从MSE的值可以看出，SGD都是0.4~05，而ALS的MSE差不多在6.5左右，所以SGD的优势明显。\n",
    "从推荐结果上来看，也似乎SGD的结果更好些。"
   ]
  },
  {
   "cell_type": "code",
   "execution_count": null,
   "metadata": {
    "collapsed": true
   },
   "outputs": [],
   "source": [
    "def MF_ALS(dir_name):\n",
    "    print(\"alternate least squares optimization method...\")\n",
    "    # 数据读取\n",
    "    train_data, test_data = load_data(dir_name)\n",
    "\n",
    "    # 填充为原始评分矩阵，训练数据和测试数据\n",
    "    train_rate = padding_data(list(train_data['user_id']), list(train_data['item_id']), list(train_data['rating']))\n",
    "    print(\"train_rate shape=\",train_rate.shape)\n",
    "    # 初始化用户因子矩阵和物品因子矩阵\n",
    "    user_num = max(list(train_data['user_id']))\n",
    "    user_matrix = np.random.random((user_num, K))#随机初始化，K值之前已经设置好\n",
    "\n",
    "    item_num = max(list(train_data['item_id']))\n",
    "    item_matrix = np.random.random((item_num, K))#随机初始化\n",
    "\n",
    "    # 开始迭代\n",
    "    total_valid_loss = []\n",
    "    for i in range(iteration_times):\n",
    "        if i % 100 == 0:\n",
    "            print(\"iteration times:\", i)\n",
    "        # 使用交替最小二乘法更新user矩阵和物品矩阵\n",
    "        user_matrix = np.dot(train_rate, np.dot(np.linalg.inv(np.dot(item_matrix.T, item_matrix) + lamb), item_matrix.T).T)\n",
    "        item_matrix = np.dot(train_rate.T, np.dot(np.linalg.inv(np.dot(user_matrix.T, user_matrix) + lamb), user_matrix.T).T)\n",
    "\n",
    "        # 计算validation loss\n",
    "        rate_matrix = np.dot(user_matrix, item_matrix.T)\n",
    "        valid_loss = loss_function(np.array(test_data['rating']), np.array(rate_matrix[np.array(test_data['user_id'])-1, np.array(test_data['item_id'])-1]), lamb)\n",
    "        total_valid_loss.append(valid_loss)\n",
    "\n",
    "    # 绘制validation loss图\n",
    "    plt_res = plot_result(range(iteration_times), [total_valid_loss], fig_config)\n",
    "    plt_res.show()"
   ]
  },
  {
   "cell_type": "markdown",
   "metadata": {},
   "source": [
    "## 3-3 随机梯度下降法的矩阵分解"
   ]
  },
  {
   "cell_type": "markdown",
   "metadata": {},
   "source": [
    "# 4 CF升级\n",
    "用于CF的交替最小二乘和随机梯度下降的方法将在未来的教程中介绍。"
   ]
  },
  {
   "cell_type": "markdown",
   "metadata": {},
   "source": [
    "总结一下：\n",
    "\n",
    "- 在这篇文章中，我们讲了如何实现简单的协同过滤方法，包括基于内存的CF和基于模型的CF。\n",
    "- 基于内存的模型是基于产品或用户之间的相似性，其中，我们使用余弦相似性。\n",
    "- 基于模型的CF是基于矩阵分解，其中，我们使用SVD来分解矩阵。\n",
    "- 构建在冷启动的情况下（其中，对于新用户和新产品来说，数据不可用）表现良好的推荐系统仍然是一个挑战。标准的协同过滤方法在这样的设置下表现不佳。在接下来的教程中，你将深入研究这一问题。"
   ]
  },
  {
   "cell_type": "markdown",
   "metadata": {},
   "source": [
    "https://github.com/ictar/python-doc/blob/master/Science%20and%20Data%20Analysis/%E5%9C%A8Python%E4%B8%AD%E5%AE%9E%E7%8E%B0%E4%BD%A0%E8%87%AA%E5%B7%B1%E7%9A%84%E6%8E%A8%E8%8D%90%E7%B3%BB%E7%BB%9F.md"
   ]
  }
 ],
 "metadata": {
  "kernelspec": {
   "display_name": "Python 3",
   "language": "python",
   "name": "python3"
  },
  "language_info": {
   "codemirror_mode": {
    "name": "ipython",
    "version": 3
   },
   "file_extension": ".py",
   "mimetype": "text/x-python",
   "name": "python",
   "nbconvert_exporter": "python",
   "pygments_lexer": "ipython3",
   "version": "3.5.4"
  }
 },
 "nbformat": 4,
 "nbformat_minor": 2
}
